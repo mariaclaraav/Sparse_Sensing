{
 "cells": [
  {
   "cell_type": "markdown",
   "metadata": {},
   "source": [
    "# Multivariate Analysis"
   ]
  },
  {
   "cell_type": "code",
   "execution_count": 2,
   "metadata": {},
   "outputs": [
    {
     "name": "stderr",
     "output_type": "stream",
     "text": [
      "c:\\Users\\DELL\\.conda\\envs\\sparsesensing\\lib\\site-packages\\xgboost\\compat.py:36: FutureWarning: pandas.Int64Index is deprecated and will be removed from pandas in a future version. Use pandas.Index with the appropriate dtype instead.\n",
      "  from pandas import MultiIndex, Int64Index\n"
     ]
    }
   ],
   "source": [
    "from utils.model_summary_functions import feature_importance, metrics, summary_plot,multivariate_importance\n",
    "from utils.plotting_functions import dual_heat_map"
   ]
  },
  {
   "cell_type": "code",
   "execution_count": 44,
   "metadata": {},
   "outputs": [],
   "source": [
    "from utils.feature_importance import feature_importance, metrics, summary_plot,multivariate_importance\n",
    "from utils.plotting_functions import dual_heat_map\n",
    "import joblib\n",
    "from sklearn.pipeline import Pipeline\n",
    "import optuna\n",
    "from utils.Reg_Models import RegModels\n",
    "import pandas as pd\n",
    "import seaborn as sns\n",
    "import numpy as np\n",
    "from numpy import load\n",
    "import scipy as sp\n",
    "import matplotlib.pyplot as plt\n",
    "from tqdm import tqdm\n",
    "import warnings # Ignore alert messages\n",
    "from sklearn.preprocessing import StandardScaler\n",
    "\n",
    "from sklearn.metrics import mean_squared_error, f1_score, accuracy_score, mean_absolute_error, r2_score\n",
    "from sklearn.model_selection import cross_val_score, train_test_split, KFold, StratifiedShuffleSplit, TimeSeriesSplit, RepeatedKFold\n",
    "from sklearn.preprocessing import StandardScaler, LabelEncoder, OneHotEncoder, RobustScaler\n",
    "from sklearn.ensemble import RandomForestRegressor, AdaBoostRegressor, GradientBoostingRegressor, ExtraTreesRegressor\n",
    "from sklearn.linear_model import LassoLarsCV, LassoCV, Lasso\n",
    "\n",
    "import xgboost as xgb\n",
    "import eli5\n",
    "from eli5.sklearn import PermutationImportance\n",
    "\n",
    "from yellowbrick.model_selection import FeatureImportances\n",
    "from yellowbrick.regressor import residuals_plot\n",
    "from yellowbrick.regressor import prediction_error\n",
    "from yellowbrick.model_selection import learning_curve\n",
    "from yellowbrick.model_selection import feature_importances\n",
    "from sklearn.metrics import mean_squared_error\n",
    "from sklearn.metrics import mean_absolute_error\n",
    "from sklearn.metrics import r2_score"
   ]
  },
  {
   "cell_type": "code",
   "execution_count": 45,
   "metadata": {},
   "outputs": [],
   "source": [
    "%store -r df_nadal\n",
    "%store -r X_train\n",
    "%store -r X_test\n",
    "%store -r y_train\n",
    "%store -r y_test\n",
    "%store -r X_final\n",
    "%store -r y_final"
   ]
  },
  {
   "cell_type": "code",
   "execution_count": 7,
   "metadata": {},
   "outputs": [],
   "source": [
    "ss = StandardScaler()\n",
    "X_train_scaled = ss.fit_transform(X_train)\n",
    "X_test_scaled = ss.transform(X_test)"
   ]
  },
  {
   "cell_type": "code",
   "execution_count": 46,
   "metadata": {},
   "outputs": [],
   "source": [
    "def create_scaled_dataset(X,y):\n",
    "    X_train, X_test, y_train, y_test = train_test_split(X, y,test_size=0.3,random_state=0,shuffle=False) \n",
    "\n",
    "    std_scaler = StandardScaler()\n",
    "    X_scaled_train = pd.DataFrame(std_scaler.fit_transform(X_train),columns=X_train.columns,index=X_train.index)\n",
    "    X_scaled_test = pd.DataFrame(std_scaler.transform(X_test),columns=X_train.columns,index=X_test.index)\n",
    "    return X_scaled_train,X_scaled_test, y_train,y_test"
   ]
  },
  {
   "cell_type": "code",
   "execution_count": 47,
   "metadata": {},
   "outputs": [],
   "source": [
    "X, y = df_nadal[['CC_FR', 'CC_FL', 'CC_BR', 'CC_BL',\n",
    "       'AT_Y', 'AT_Z','AU_428_FR','AU_428_FL','AU_275_FR','AU_275_FL']], df_nadal[['L/V_BR']]\n",
    "X_train_scaled,X_test_scaled,y_train,y_test = create_scaled_dataset(X,y)"
   ]
  },
  {
   "cell_type": "code",
   "execution_count": 48,
   "metadata": {},
   "outputs": [
    {
     "name": "stdout",
     "output_type": "stream",
     "text": [
      "All models for determining feature importance\n",
      "[Lasso(alpha=0.001), RandomForestRegressor(n_jobs=-1, random_state=0), AdaBoostRegressor(random_state=0), GradientBoostingRegressor(random_state=0), ExtraTreesRegressor(n_jobs=-1, random_state=0), ElasticNet(alpha=0.001, l1_ratio=0.2)]\n",
      "\n",
      "Obtaining R2 score for all 6 models\n"
     ]
    },
    {
     "name": "stderr",
     "output_type": "stream",
     "text": [
      " 17%|█▋        | 1/6 [00:00<00:00,  7.32it/s]c:\\Users\\DELL\\Desktop\\PG\\Sparse_Sensing\\utils\\feature_importance.py:150: DataConversionWarning:\n",
      "\n",
      "A column-vector y was passed when a 1d array was expected. Please change the shape of y to (n_samples,), for example using ravel().\n",
      "\n",
      " 33%|███▎      | 2/6 [00:21<00:49, 12.43s/it]c:\\Users\\DELL\\.conda\\envs\\sparsesensing\\lib\\site-packages\\sklearn\\utils\\validation.py:1111: DataConversionWarning:\n",
      "\n",
      "A column-vector y was passed when a 1d array was expected. Please change the shape of y to (n_samples, ), for example using ravel().\n",
      "\n",
      " 50%|█████     | 3/6 [00:30<00:33, 11.13s/it]c:\\Users\\DELL\\.conda\\envs\\sparsesensing\\lib\\site-packages\\sklearn\\ensemble\\_gb.py:570: DataConversionWarning:\n",
      "\n",
      "A column-vector y was passed when a 1d array was expected. Please change the shape of y to (n_samples, ), for example using ravel().\n",
      "\n",
      " 67%|██████▋   | 4/6 [00:56<00:33, 16.76s/it]c:\\Users\\DELL\\Desktop\\PG\\Sparse_Sensing\\utils\\feature_importance.py:150: DataConversionWarning:\n",
      "\n",
      "A column-vector y was passed when a 1d array was expected. Please change the shape of y to (n_samples,), for example using ravel().\n",
      "\n",
      "100%|██████████| 6/6 [01:03<00:00, 10.66s/it]\n",
      "c:\\Users\\DELL\\.conda\\envs\\sparsesensing\\lib\\site-packages\\sklearn\\base.py:450: UserWarning:\n",
      "\n",
      "X does not have valid feature names, but Lasso was fitted with feature names\n",
      "\n",
      "c:\\Users\\DELL\\.conda\\envs\\sparsesensing\\lib\\site-packages\\sklearn\\base.py:450: UserWarning:\n",
      "\n",
      "X does not have valid feature names, but RandomForestRegressor was fitted with feature names\n",
      "\n",
      "c:\\Users\\DELL\\.conda\\envs\\sparsesensing\\lib\\site-packages\\sklearn\\base.py:450: UserWarning:\n",
      "\n",
      "X does not have valid feature names, but AdaBoostRegressor was fitted with feature names\n",
      "\n",
      "c:\\Users\\DELL\\.conda\\envs\\sparsesensing\\lib\\site-packages\\sklearn\\base.py:450: UserWarning:\n",
      "\n",
      "X does not have valid feature names, but GradientBoostingRegressor was fitted with feature names\n",
      "\n"
     ]
    },
    {
     "name": "stdout",
     "output_type": "stream",
     "text": [
      "R2 score calculated\n",
      "Obtaining feature importance - 0%\n",
      "Obtaining feature importance - 50%\n"
     ]
    },
    {
     "name": "stderr",
     "output_type": "stream",
     "text": [
      "c:\\Users\\DELL\\.conda\\envs\\sparsesensing\\lib\\site-packages\\sklearn\\base.py:450: UserWarning:\n",
      "\n",
      "X does not have valid feature names, but ExtraTreesRegressor was fitted with feature names\n",
      "\n",
      "c:\\Users\\DELL\\.conda\\envs\\sparsesensing\\lib\\site-packages\\sklearn\\base.py:450: UserWarning:\n",
      "\n",
      "X does not have valid feature names, but ElasticNet was fitted with feature names\n",
      "\n"
     ]
    },
    {
     "name": "stdout",
     "output_type": "stream",
     "text": [
      "Obtaining feature importance - 100%\n",
      "CPU times: total: 2min 9s\n",
      "Wall time: 1min 5s\n"
     ]
    },
    {
     "data": {
      "text/plain": [
       "{'divide': 'ignore', 'over': 'warn', 'under': 'ignore', 'invalid': 'warn'}"
      ]
     },
     "execution_count": 48,
     "metadata": {},
     "output_type": "execute_result"
    },
    {
     "data": {
      "image/png": "[encoded data removed]",
      "text/plain": [
       "<Figure size 2160x1296 with 6 Axes>"
      ]
     },
     "metadata": {},
     "output_type": "display_data"
    }
   ],
   "source": [
    "%%time\n",
    "multi_select = multivariate_importance(X_train_scaled,X_test_scaled,y_train,y_test)     \n",
    "multi_select.plot(relative=False)\n",
    "import warnings # Ignore alert messages\n",
    "warnings.simplefilter(action='ignore', category=FutureWarning)\n",
    "\n",
    "np.seterr(divide='ignore')"
   ]
  },
  {
   "cell_type": "markdown",
   "metadata": {},
   "source": [
    "# Optuna study"
   ]
  },
  {
   "cell_type": "code",
   "execution_count": 58,
   "metadata": {},
   "outputs": [],
   "source": [
    "X, y = df_nadal[['CC_FR', 'CC_FL', 'CC_BR', 'CC_BL',\n",
    "       'AT_Y','AT_Z','AU_428_FR','AU_428_FL']], df_nadal[['L/V_BR']]\n",
    "X_train_scaled,X_test_scaled,y_train,y_test = create_scaled_dataset(X,y)"
   ]
  },
  {
   "cell_type": "code",
   "execution_count": 50,
   "metadata": {},
   "outputs": [],
   "source": [
    "#data into numpy\n",
    "X_train_final= X_train_scaled.to_numpy()\n",
    "X_test_final= X_test_scaled.to_numpy()\n",
    "y_train_final= y_train.to_numpy()\n",
    "y_train_final = y_train_final.reshape(-1, 1)\n",
    "y_test_final= y_test.to_numpy()\n",
    "y_test_final = y_test_final.reshape(-1, 1)"
   ]
  },
  {
   "cell_type": "markdown",
   "metadata": {},
   "source": [
    "### Random Forest - FR"
   ]
  },
  {
   "cell_type": "code",
   "execution_count": 59,
   "metadata": {},
   "outputs": [
    {
     "name": "stderr",
     "output_type": "stream",
     "text": [
      "\u001b[32m[I 2022-11-23 18:08:44,714]\u001b[0m A new study created in memory with name: no-name-eae76207-fc73-451d-b722-15c51d0ddbee\u001b[0m\n",
      "C:\\Users\\DELL\\AppData\\Local\\Temp\\ipykernel_2208\\533185038.py:24: DataConversionWarning:\n",
      "\n",
      "A column-vector y was passed when a 1d array was expected. Please change the shape of y to (n_samples,), for example using ravel().\n",
      "\n",
      "\u001b[32m[I 2022-11-23 18:08:52,752]\u001b[0m Trial 0 finished with value: 0.8704970528414216 and parameters: {'n_estimators': 90, 'max_depth': 18, 'min_samples_leaf': 1, 'min_samples_split': 4, 'max_features': 4}. Best is trial 0 with value: 0.8704970528414216.\u001b[0m\n",
      "C:\\Users\\DELL\\AppData\\Local\\Temp\\ipykernel_2208\\533185038.py:24: DataConversionWarning:\n",
      "\n",
      "A column-vector y was passed when a 1d array was expected. Please change the shape of y to (n_samples,), for example using ravel().\n",
      "\n",
      "\u001b[32m[I 2022-11-23 18:09:00,502]\u001b[0m Trial 1 finished with value: 0.8708859522406424 and parameters: {'n_estimators': 120, 'max_depth': 22, 'min_samples_leaf': 7, 'min_samples_split': 3, 'max_features': 4}. Best is trial 1 with value: 0.8708859522406424.\u001b[0m\n",
      "C:\\Users\\DELL\\AppData\\Local\\Temp\\ipykernel_2208\\533185038.py:24: DataConversionWarning:\n",
      "\n",
      "A column-vector y was passed when a 1d array was expected. Please change the shape of y to (n_samples,), for example using ravel().\n",
      "\n",
      "\u001b[32m[I 2022-11-23 18:09:13,471]\u001b[0m Trial 2 finished with value: 0.8717299251588779 and parameters: {'n_estimators': 140, 'max_depth': 34, 'min_samples_leaf': 1, 'min_samples_split': 4, 'max_features': 4}. Best is trial 2 with value: 0.8717299251588779.\u001b[0m\n",
      "C:\\Users\\DELL\\AppData\\Local\\Temp\\ipykernel_2208\\533185038.py:24: DataConversionWarning:\n",
      "\n",
      "A column-vector y was passed when a 1d array was expected. Please change the shape of y to (n_samples,), for example using ravel().\n",
      "\n",
      "\u001b[32m[I 2022-11-23 18:09:18,731]\u001b[0m Trial 3 finished with value: 0.8055795155759178 and parameters: {'n_estimators': 160, 'max_depth': 6, 'min_samples_leaf': 3, 'min_samples_split': 4, 'max_features': 3}. Best is trial 2 with value: 0.8717299251588779.\u001b[0m\n",
      "C:\\Users\\DELL\\AppData\\Local\\Temp\\ipykernel_2208\\533185038.py:24: DataConversionWarning:\n",
      "\n",
      "A column-vector y was passed when a 1d array was expected. Please change the shape of y to (n_samples,), for example using ravel().\n",
      "\n",
      "\u001b[32m[I 2022-11-23 18:09:25,805]\u001b[0m Trial 4 finished with value: 0.8706784780807406 and parameters: {'n_estimators': 100, 'max_depth': 38, 'min_samples_leaf': 6, 'min_samples_split': 5, 'max_features': 3}. Best is trial 2 with value: 0.8717299251588779.\u001b[0m\n",
      "C:\\Users\\DELL\\AppData\\Local\\Temp\\ipykernel_2208\\533185038.py:24: DataConversionWarning:\n",
      "\n",
      "A column-vector y was passed when a 1d array was expected. Please change the shape of y to (n_samples,), for example using ravel().\n",
      "\n",
      "\u001b[32m[I 2022-11-23 18:09:29,697]\u001b[0m Trial 5 finished with value: 0.8667769485584611 and parameters: {'n_estimators': 40, 'max_depth': 30, 'min_samples_leaf': 8, 'min_samples_split': 2, 'max_features': 5}. Best is trial 2 with value: 0.8717299251588779.\u001b[0m\n",
      "C:\\Users\\DELL\\AppData\\Local\\Temp\\ipykernel_2208\\533185038.py:24: DataConversionWarning:\n",
      "\n",
      "A column-vector y was passed when a 1d array was expected. Please change the shape of y to (n_samples,), for example using ravel().\n",
      "\n",
      "\u001b[32m[I 2022-11-23 18:09:34,758]\u001b[0m Trial 6 finished with value: 0.8687115877673679 and parameters: {'n_estimators': 70, 'max_depth': 24, 'min_samples_leaf': 1, 'min_samples_split': 6, 'max_features': 3}. Best is trial 2 with value: 0.8717299251588779.\u001b[0m\n",
      "C:\\Users\\DELL\\AppData\\Local\\Temp\\ipykernel_2208\\533185038.py:24: DataConversionWarning:\n",
      "\n",
      "A column-vector y was passed when a 1d array was expected. Please change the shape of y to (n_samples,), for example using ravel().\n",
      "\n",
      "\u001b[32m[I 2022-11-23 18:09:42,021]\u001b[0m Trial 7 finished with value: 0.8683208168742899 and parameters: {'n_estimators': 60, 'max_depth': 20, 'min_samples_leaf': 8, 'min_samples_split': 7, 'max_features': 6}. Best is trial 2 with value: 0.8717299251588779.\u001b[0m\n",
      "C:\\Users\\DELL\\AppData\\Local\\Temp\\ipykernel_2208\\533185038.py:24: DataConversionWarning:\n",
      "\n",
      "A column-vector y was passed when a 1d array was expected. Please change the shape of y to (n_samples,), for example using ravel().\n",
      "\n",
      "\u001b[32m[I 2022-11-23 18:09:48,821]\u001b[0m Trial 8 finished with value: 0.8560551517676315 and parameters: {'n_estimators': 70, 'max_depth': 10, 'min_samples_leaf': 5, 'min_samples_split': 7, 'max_features': 6}. Best is trial 2 with value: 0.8717299251588779.\u001b[0m\n",
      "C:\\Users\\DELL\\AppData\\Local\\Temp\\ipykernel_2208\\533185038.py:24: DataConversionWarning:\n",
      "\n",
      "A column-vector y was passed when a 1d array was expected. Please change the shape of y to (n_samples,), for example using ravel().\n",
      "\n",
      "\u001b[32m[I 2022-11-23 18:09:55,186]\u001b[0m Trial 9 finished with value: 0.864815771820232 and parameters: {'n_estimators': 30, 'max_depth': 50, 'min_samples_leaf': 1, 'min_samples_split': 2, 'max_features': 7}. Best is trial 2 with value: 0.8717299251588779.\u001b[0m\n",
      "C:\\Users\\DELL\\AppData\\Local\\Temp\\ipykernel_2208\\533185038.py:24: DataConversionWarning:\n",
      "\n",
      "A column-vector y was passed when a 1d array was expected. Please change the shape of y to (n_samples,), for example using ravel().\n",
      "\n",
      "\u001b[32m[I 2022-11-23 18:10:04,584]\u001b[0m Trial 10 finished with value: 0.8675568184331302 and parameters: {'n_estimators': 200, 'max_depth': 38, 'min_samples_leaf': 3, 'min_samples_split': 8, 'max_features': 2}. Best is trial 2 with value: 0.8717299251588779.\u001b[0m\n",
      "C:\\Users\\DELL\\AppData\\Local\\Temp\\ipykernel_2208\\533185038.py:24: DataConversionWarning:\n",
      "\n",
      "A column-vector y was passed when a 1d array was expected. Please change the shape of y to (n_samples,), for example using ravel().\n",
      "\n",
      "\u001b[32m[I 2022-11-23 18:10:14,504]\u001b[0m Trial 11 finished with value: 0.8711259500500906 and parameters: {'n_estimators': 140, 'max_depth': 34, 'min_samples_leaf': 6, 'min_samples_split': 3, 'max_features': 4}. Best is trial 2 with value: 0.8717299251588779.\u001b[0m\n",
      "C:\\Users\\DELL\\AppData\\Local\\Temp\\ipykernel_2208\\533185038.py:24: DataConversionWarning:\n",
      "\n",
      "A column-vector y was passed when a 1d array was expected. Please change the shape of y to (n_samples,), for example using ravel().\n",
      "\n",
      "\u001b[32m[I 2022-11-23 18:10:25,761]\u001b[0m Trial 12 finished with value: 0.8718815010720818 and parameters: {'n_estimators': 140, 'max_depth': 36, 'min_samples_leaf': 4, 'min_samples_split': 4, 'max_features': 4}. Best is trial 12 with value: 0.8718815010720818.\u001b[0m\n",
      "C:\\Users\\DELL\\AppData\\Local\\Temp\\ipykernel_2208\\533185038.py:24: DataConversionWarning:\n",
      "\n",
      "A column-vector y was passed when a 1d array was expected. Please change the shape of y to (n_samples,), for example using ravel().\n",
      "\n",
      "\u001b[32m[I 2022-11-23 18:10:40,591]\u001b[0m Trial 13 finished with value: 0.8717481760740309 and parameters: {'n_estimators': 170, 'max_depth': 48, 'min_samples_leaf': 3, 'min_samples_split': 5, 'max_features': 4}. Best is trial 12 with value: 0.8718815010720818.\u001b[0m\n",
      "C:\\Users\\DELL\\AppData\\Local\\Temp\\ipykernel_2208\\533185038.py:24: DataConversionWarning:\n",
      "\n",
      "A column-vector y was passed when a 1d array was expected. Please change the shape of y to (n_samples,), for example using ravel().\n",
      "\n",
      "\u001b[32m[I 2022-11-23 18:11:02,028]\u001b[0m Trial 14 finished with value: 0.8715700133665664 and parameters: {'n_estimators': 190, 'max_depth': 50, 'min_samples_leaf': 3, 'min_samples_split': 5, 'max_features': 4}. Best is trial 12 with value: 0.8718815010720818.\u001b[0m\n",
      "C:\\Users\\DELL\\AppData\\Local\\Temp\\ipykernel_2208\\533185038.py:24: DataConversionWarning:\n",
      "\n",
      "A column-vector y was passed when a 1d array was expected. Please change the shape of y to (n_samples,), for example using ravel().\n",
      "\n",
      "\u001b[32m[I 2022-11-23 18:11:22,332]\u001b[0m Trial 15 finished with value: 0.868999378539744 and parameters: {'n_estimators': 170, 'max_depth': 44, 'min_samples_leaf': 4, 'min_samples_split': 6, 'max_features': 7}. Best is trial 12 with value: 0.8718815010720818.\u001b[0m\n",
      "C:\\Users\\DELL\\AppData\\Local\\Temp\\ipykernel_2208\\533185038.py:24: DataConversionWarning:\n",
      "\n",
      "A column-vector y was passed when a 1d array was expected. Please change the shape of y to (n_samples,), for example using ravel().\n",
      "\n",
      "\u001b[32m[I 2022-11-23 18:11:38,001]\u001b[0m Trial 16 finished with value: 0.8708215979774365 and parameters: {'n_estimators': 170, 'max_depth': 42, 'min_samples_leaf': 4, 'min_samples_split': 6, 'max_features': 5}. Best is trial 12 with value: 0.8718815010720818.\u001b[0m\n",
      "C:\\Users\\DELL\\AppData\\Local\\Temp\\ipykernel_2208\\533185038.py:24: DataConversionWarning:\n",
      "\n",
      "A column-vector y was passed when a 1d array was expected. Please change the shape of y to (n_samples,), for example using ravel().\n",
      "\n",
      "\u001b[32m[I 2022-11-23 18:11:44,662]\u001b[0m Trial 17 finished with value: 0.8671367748625283 and parameters: {'n_estimators': 130, 'max_depth': 46, 'min_samples_leaf': 2, 'min_samples_split': 3, 'max_features': 2}. Best is trial 12 with value: 0.8718815010720818.\u001b[0m\n",
      "C:\\Users\\DELL\\AppData\\Local\\Temp\\ipykernel_2208\\533185038.py:24: DataConversionWarning:\n",
      "\n",
      "A column-vector y was passed when a 1d array was expected. Please change the shape of y to (n_samples,), for example using ravel().\n",
      "\n",
      "\u001b[32m[I 2022-11-23 18:11:55,423]\u001b[0m Trial 18 finished with value: 0.8710168040937538 and parameters: {'n_estimators': 150, 'max_depth': 40, 'min_samples_leaf': 5, 'min_samples_split': 5, 'max_features': 4}. Best is trial 12 with value: 0.8718815010720818.\u001b[0m\n",
      "C:\\Users\\DELL\\AppData\\Local\\Temp\\ipykernel_2208\\533185038.py:24: DataConversionWarning:\n",
      "\n",
      "A column-vector y was passed when a 1d array was expected. Please change the shape of y to (n_samples,), for example using ravel().\n",
      "\n",
      "\u001b[32m[I 2022-11-23 18:12:09,750]\u001b[0m Trial 19 finished with value: 0.8717730209904386 and parameters: {'n_estimators': 180, 'max_depth': 30, 'min_samples_leaf': 2, 'min_samples_split': 4, 'max_features': 4}. Best is trial 12 with value: 0.8718815010720818.\u001b[0m\n",
      "C:\\Users\\DELL\\AppData\\Local\\Temp\\ipykernel_2208\\533185038.py:24: DataConversionWarning:\n",
      "\n",
      "A column-vector y was passed when a 1d array was expected. Please change the shape of y to (n_samples,), for example using ravel().\n",
      "\n",
      "\u001b[32m[I 2022-11-23 18:12:25,257]\u001b[0m Trial 20 finished with value: 0.8715742125802556 and parameters: {'n_estimators': 190, 'max_depth': 28, 'min_samples_leaf': 2, 'min_samples_split': 4, 'max_features': 4}. Best is trial 12 with value: 0.8718815010720818.\u001b[0m\n",
      "C:\\Users\\DELL\\AppData\\Local\\Temp\\ipykernel_2208\\533185038.py:24: DataConversionWarning:\n",
      "\n",
      "A column-vector y was passed when a 1d array was expected. Please change the shape of y to (n_samples,), for example using ravel().\n",
      "\n",
      "\u001b[32m[I 2022-11-23 18:12:40,113]\u001b[0m Trial 21 finished with value: 0.8712644310690691 and parameters: {'n_estimators': 180, 'max_depth': 32, 'min_samples_leaf': 2, 'min_samples_split': 4, 'max_features': 4}. Best is trial 12 with value: 0.8718815010720818.\u001b[0m\n",
      "C:\\Users\\DELL\\AppData\\Local\\Temp\\ipykernel_2208\\533185038.py:24: DataConversionWarning:\n",
      "\n",
      "A column-vector y was passed when a 1d array was expected. Please change the shape of y to (n_samples,), for example using ravel().\n",
      "\n",
      "\u001b[32m[I 2022-11-23 18:12:52,206]\u001b[0m Trial 22 finished with value: 0.8719295658806494 and parameters: {'n_estimators': 160, 'max_depth': 46, 'min_samples_leaf': 4, 'min_samples_split': 5, 'max_features': 4}. Best is trial 22 with value: 0.8719295658806494.\u001b[0m\n",
      "C:\\Users\\DELL\\AppData\\Local\\Temp\\ipykernel_2208\\533185038.py:24: DataConversionWarning:\n",
      "\n",
      "A column-vector y was passed when a 1d array was expected. Please change the shape of y to (n_samples,), for example using ravel().\n",
      "\n",
      "\u001b[32m[I 2022-11-23 18:13:01,220]\u001b[0m Trial 23 finished with value: 0.8716280457182718 and parameters: {'n_estimators': 120, 'max_depth': 36, 'min_samples_leaf': 4, 'min_samples_split': 3, 'max_features': 4}. Best is trial 22 with value: 0.8719295658806494.\u001b[0m\n",
      "C:\\Users\\DELL\\AppData\\Local\\Temp\\ipykernel_2208\\533185038.py:24: DataConversionWarning:\n",
      "\n",
      "A column-vector y was passed when a 1d array was expected. Please change the shape of y to (n_samples,), for example using ravel().\n",
      "\n",
      "\u001b[32m[I 2022-11-23 18:13:12,187]\u001b[0m Trial 24 finished with value: 0.8709886246937276 and parameters: {'n_estimators': 150, 'max_depth': 16, 'min_samples_leaf': 5, 'min_samples_split': 5, 'max_features': 4}. Best is trial 22 with value: 0.8719295658806494.\u001b[0m\n",
      "C:\\Users\\DELL\\AppData\\Local\\Temp\\ipykernel_2208\\533185038.py:24: DataConversionWarning:\n",
      "\n",
      "A column-vector y was passed when a 1d array was expected. Please change the shape of y to (n_samples,), for example using ravel().\n",
      "\n",
      "\u001b[32m[I 2022-11-23 18:13:32,381]\u001b[0m Trial 25 finished with value: 0.8695413874179692 and parameters: {'n_estimators': 200, 'max_depth': 28, 'min_samples_leaf': 6, 'min_samples_split': 6, 'max_features': 6}. Best is trial 22 with value: 0.8719295658806494.\u001b[0m\n",
      "C:\\Users\\DELL\\AppData\\Local\\Temp\\ipykernel_2208\\533185038.py:24: DataConversionWarning:\n",
      "\n",
      "A column-vector y was passed when a 1d array was expected. Please change the shape of y to (n_samples,), for example using ravel().\n",
      "\n",
      "\u001b[32m[I 2022-11-23 18:13:49,521]\u001b[0m Trial 26 finished with value: 0.8690193000988535 and parameters: {'n_estimators': 150, 'max_depth': 44, 'min_samples_leaf': 4, 'min_samples_split': 4, 'max_features': 7}. Best is trial 22 with value: 0.8719295658806494.\u001b[0m\n",
      "C:\\Users\\DELL\\AppData\\Local\\Temp\\ipykernel_2208\\533185038.py:24: DataConversionWarning:\n",
      "\n",
      "A column-vector y was passed when a 1d array was expected. Please change the shape of y to (n_samples,), for example using ravel().\n",
      "\n",
      "\u001b[32m[I 2022-11-23 18:14:00,081]\u001b[0m Trial 27 finished with value: 0.8702637077880406 and parameters: {'n_estimators': 110, 'max_depth': 26, 'min_samples_leaf': 2, 'min_samples_split': 3, 'max_features': 5}. Best is trial 22 with value: 0.8719295658806494.\u001b[0m\n",
      "C:\\Users\\DELL\\AppData\\Local\\Temp\\ipykernel_2208\\533185038.py:24: DataConversionWarning:\n",
      "\n",
      "A column-vector y was passed when a 1d array was expected. Please change the shape of y to (n_samples,), for example using ravel().\n",
      "\n",
      "\u001b[32m[I 2022-11-23 18:14:08,141]\u001b[0m Trial 28 finished with value: 0.8670655341607005 and parameters: {'n_estimators': 180, 'max_depth': 40, 'min_samples_leaf': 3, 'min_samples_split': 7, 'max_features': 2}. Best is trial 22 with value: 0.8719295658806494.\u001b[0m\n",
      "C:\\Users\\DELL\\AppData\\Local\\Temp\\ipykernel_2208\\533185038.py:24: DataConversionWarning:\n",
      "\n",
      "A column-vector y was passed when a 1d array was expected. Please change the shape of y to (n_samples,), for example using ravel().\n",
      "\n",
      "\u001b[32m[I 2022-11-23 18:14:14,327]\u001b[0m Trial 29 finished with value: 0.8707960953093508 and parameters: {'n_estimators': 90, 'max_depth': 32, 'min_samples_leaf': 5, 'min_samples_split': 4, 'max_features': 4}. Best is trial 22 with value: 0.8719295658806494.\u001b[0m\n",
      "C:\\Users\\DELL\\AppData\\Local\\Temp\\ipykernel_2208\\533185038.py:24: DataConversionWarning:\n",
      "\n",
      "A column-vector y was passed when a 1d array was expected. Please change the shape of y to (n_samples,), for example using ravel().\n",
      "\n",
      "\u001b[32m[I 2022-11-23 18:14:23,300]\u001b[0m Trial 30 finished with value: 0.8718048123504417 and parameters: {'n_estimators': 130, 'max_depth': 18, 'min_samples_leaf': 4, 'min_samples_split': 2, 'max_features': 4}. Best is trial 22 with value: 0.8719295658806494.\u001b[0m\n",
      "C:\\Users\\DELL\\AppData\\Local\\Temp\\ipykernel_2208\\533185038.py:24: DataConversionWarning:\n",
      "\n",
      "A column-vector y was passed when a 1d array was expected. Please change the shape of y to (n_samples,), for example using ravel().\n",
      "\n",
      "\u001b[32m[I 2022-11-23 18:14:32,187]\u001b[0m Trial 31 finished with value: 0.8708575081044985 and parameters: {'n_estimators': 130, 'max_depth': 16, 'min_samples_leaf': 4, 'min_samples_split': 2, 'max_features': 4}. Best is trial 22 with value: 0.8719295658806494.\u001b[0m\n",
      "C:\\Users\\DELL\\AppData\\Local\\Temp\\ipykernel_2208\\533185038.py:24: DataConversionWarning:\n",
      "\n",
      "A column-vector y was passed when a 1d array was expected. Please change the shape of y to (n_samples,), for example using ravel().\n",
      "\n",
      "\u001b[32m[I 2022-11-23 18:14:42,361]\u001b[0m Trial 32 finished with value: 0.8706237584315498 and parameters: {'n_estimators': 160, 'max_depth': 14, 'min_samples_leaf': 4, 'min_samples_split': 3, 'max_features': 4}. Best is trial 22 with value: 0.8719295658806494.\u001b[0m\n",
      "C:\\Users\\DELL\\AppData\\Local\\Temp\\ipykernel_2208\\533185038.py:24: DataConversionWarning:\n",
      "\n",
      "A column-vector y was passed when a 1d array was expected. Please change the shape of y to (n_samples,), for example using ravel().\n",
      "\n",
      "\u001b[32m[I 2022-11-23 18:14:51,354]\u001b[0m Trial 33 finished with value: 0.8710648315891999 and parameters: {'n_estimators': 130, 'max_depth': 22, 'min_samples_leaf': 7, 'min_samples_split': 2, 'max_features': 4}. Best is trial 22 with value: 0.8719295658806494.\u001b[0m\n",
      "C:\\Users\\DELL\\AppData\\Local\\Temp\\ipykernel_2208\\533185038.py:24: DataConversionWarning:\n",
      "\n",
      "A column-vector y was passed when a 1d array was expected. Please change the shape of y to (n_samples,), for example using ravel().\n",
      "\n",
      "\u001b[32m[I 2022-11-23 18:14:57,110]\u001b[0m Trial 34 finished with value: 0.8575997984461342 and parameters: {'n_estimators': 110, 'max_depth': 10, 'min_samples_leaf': 3, 'min_samples_split': 5, 'max_features': 4}. Best is trial 22 with value: 0.8719295658806494.\u001b[0m\n",
      "C:\\Users\\DELL\\AppData\\Local\\Temp\\ipykernel_2208\\533185038.py:24: DataConversionWarning:\n",
      "\n",
      "A column-vector y was passed when a 1d array was expected. Please change the shape of y to (n_samples,), for example using ravel().\n",
      "\n",
      "\u001b[32m[I 2022-11-23 18:15:06,831]\u001b[0m Trial 35 finished with value: 0.8708186176570027 and parameters: {'n_estimators': 140, 'max_depth': 20, 'min_samples_leaf': 5, 'min_samples_split': 4, 'max_features': 4}. Best is trial 22 with value: 0.8719295658806494.\u001b[0m\n",
      "C:\\Users\\DELL\\AppData\\Local\\Temp\\ipykernel_2208\\533185038.py:24: DataConversionWarning:\n",
      "\n",
      "A column-vector y was passed when a 1d array was expected. Please change the shape of y to (n_samples,), for example using ravel().\n",
      "\n",
      "\u001b[32m[I 2022-11-23 18:15:15,527]\u001b[0m Trial 36 finished with value: 0.8707070365606621 and parameters: {'n_estimators': 160, 'max_depth': 36, 'min_samples_leaf': 6, 'min_samples_split': 3, 'max_features': 3}. Best is trial 22 with value: 0.8719295658806494.\u001b[0m\n",
      "C:\\Users\\DELL\\AppData\\Local\\Temp\\ipykernel_2208\\533185038.py:24: DataConversionWarning:\n",
      "\n",
      "A column-vector y was passed when a 1d array was expected. Please change the shape of y to (n_samples,), for example using ravel().\n",
      "\n",
      "\u001b[32m[I 2022-11-23 18:15:17,634]\u001b[0m Trial 37 finished with value: 0.44379076834360964 and parameters: {'n_estimators': 120, 'max_depth': 2, 'min_samples_leaf': 2, 'min_samples_split': 5, 'max_features': 4}. Best is trial 22 with value: 0.8719295658806494.\u001b[0m\n",
      "C:\\Users\\DELL\\AppData\\Local\\Temp\\ipykernel_2208\\533185038.py:24: DataConversionWarning:\n",
      "\n",
      "A column-vector y was passed when a 1d array was expected. Please change the shape of y to (n_samples,), for example using ravel().\n",
      "\n",
      "\u001b[32m[I 2022-11-23 18:15:27,725]\u001b[0m Trial 38 finished with value: 0.8702065898696331 and parameters: {'n_estimators': 100, 'max_depth': 24, 'min_samples_leaf': 1, 'min_samples_split': 4, 'max_features': 5}. Best is trial 22 with value: 0.8719295658806494.\u001b[0m\n",
      "C:\\Users\\DELL\\AppData\\Local\\Temp\\ipykernel_2208\\533185038.py:24: DataConversionWarning:\n",
      "\n",
      "A column-vector y was passed when a 1d array was expected. Please change the shape of y to (n_samples,), for example using ravel().\n",
      "\n",
      "\u001b[32m[I 2022-11-23 18:15:35,421]\u001b[0m Trial 39 finished with value: 0.870487952376517 and parameters: {'n_estimators': 140, 'max_depth': 30, 'min_samples_leaf': 7, 'min_samples_split': 2, 'max_features': 3}. Best is trial 22 with value: 0.8719295658806494.\u001b[0m\n",
      "C:\\Users\\DELL\\AppData\\Local\\Temp\\ipykernel_2208\\533185038.py:24: DataConversionWarning:\n",
      "\n",
      "A column-vector y was passed when a 1d array was expected. Please change the shape of y to (n_samples,), for example using ravel().\n",
      "\n",
      "\u001b[32m[I 2022-11-23 18:15:50,929]\u001b[0m Trial 40 finished with value: 0.8670401766111984 and parameters: {'n_estimators': 180, 'max_depth': 12, 'min_samples_leaf': 3, 'min_samples_split': 4, 'max_features': 6}. Best is trial 22 with value: 0.8719295658806494.\u001b[0m\n",
      "C:\\Users\\DELL\\AppData\\Local\\Temp\\ipykernel_2208\\533185038.py:24: DataConversionWarning:\n",
      "\n",
      "A column-vector y was passed when a 1d array was expected. Please change the shape of y to (n_samples,), for example using ravel().\n",
      "\n",
      "\u001b[32m[I 2022-11-23 18:16:03,649]\u001b[0m Trial 41 finished with value: 0.8715737553535967 and parameters: {'n_estimators': 170, 'max_depth': 46, 'min_samples_leaf': 3, 'min_samples_split': 5, 'max_features': 4}. Best is trial 22 with value: 0.8719295658806494.\u001b[0m\n",
      "C:\\Users\\DELL\\AppData\\Local\\Temp\\ipykernel_2208\\533185038.py:24: DataConversionWarning:\n",
      "\n",
      "A column-vector y was passed when a 1d array was expected. Please change the shape of y to (n_samples,), for example using ravel().\n",
      "\n",
      "\u001b[32m[I 2022-11-23 18:16:15,419]\u001b[0m Trial 42 finished with value: 0.8718236184119981 and parameters: {'n_estimators': 160, 'max_depth': 48, 'min_samples_leaf': 4, 'min_samples_split': 6, 'max_features': 4}. Best is trial 22 with value: 0.8719295658806494.\u001b[0m\n",
      "C:\\Users\\DELL\\AppData\\Local\\Temp\\ipykernel_2208\\533185038.py:24: DataConversionWarning:\n",
      "\n",
      "A column-vector y was passed when a 1d array was expected. Please change the shape of y to (n_samples,), for example using ravel().\n",
      "\n",
      "\u001b[32m[I 2022-11-23 18:16:28,528]\u001b[0m Trial 43 finished with value: 0.8717024439751333 and parameters: {'n_estimators': 150, 'max_depth': 48, 'min_samples_leaf': 4, 'min_samples_split': 6, 'max_features': 4}. Best is trial 22 with value: 0.8719295658806494.\u001b[0m\n",
      "C:\\Users\\DELL\\AppData\\Local\\Temp\\ipykernel_2208\\533185038.py:24: DataConversionWarning:\n",
      "\n",
      "A column-vector y was passed when a 1d array was expected. Please change the shape of y to (n_samples,), for example using ravel().\n",
      "\n",
      "\u001b[32m[I 2022-11-23 18:16:40,305]\u001b[0m Trial 44 finished with value: 0.8709222257592885 and parameters: {'n_estimators': 160, 'max_depth': 42, 'min_samples_leaf': 5, 'min_samples_split': 7, 'max_features': 4}. Best is trial 22 with value: 0.8719295658806494.\u001b[0m\n",
      "C:\\Users\\DELL\\AppData\\Local\\Temp\\ipykernel_2208\\533185038.py:24: DataConversionWarning:\n",
      "\n",
      "A column-vector y was passed when a 1d array was expected. Please change the shape of y to (n_samples,), for example using ravel().\n",
      "\n",
      "\u001b[32m[I 2022-11-23 18:16:49,144]\u001b[0m Trial 45 finished with value: 0.8716280457182718 and parameters: {'n_estimators': 120, 'max_depth': 36, 'min_samples_leaf': 4, 'min_samples_split': 6, 'max_features': 4}. Best is trial 22 with value: 0.8719295658806494.\u001b[0m\n",
      "C:\\Users\\DELL\\AppData\\Local\\Temp\\ipykernel_2208\\533185038.py:24: DataConversionWarning:\n",
      "\n",
      "A column-vector y was passed when a 1d array was expected. Please change the shape of y to (n_samples,), for example using ravel().\n",
      "\n",
      "\u001b[32m[I 2022-11-23 18:17:10,815]\u001b[0m Trial 46 finished with value: 0.8690392984130837 and parameters: {'n_estimators': 190, 'max_depth': 48, 'min_samples_leaf': 5, 'min_samples_split': 8, 'max_features': 7}. Best is trial 22 with value: 0.8719295658806494.\u001b[0m\n",
      "C:\\Users\\DELL\\AppData\\Local\\Temp\\ipykernel_2208\\533185038.py:24: DataConversionWarning:\n",
      "\n",
      "A column-vector y was passed when a 1d array was expected. Please change the shape of y to (n_samples,), for example using ravel().\n",
      "\n",
      "\u001b[32m[I 2022-11-23 18:17:17,227]\u001b[0m Trial 47 finished with value: 0.8674739127163598 and parameters: {'n_estimators': 140, 'max_depth': 40, 'min_samples_leaf': 3, 'min_samples_split': 6, 'max_features': 2}. Best is trial 22 with value: 0.8719295658806494.\u001b[0m\n",
      "C:\\Users\\DELL\\AppData\\Local\\Temp\\ipykernel_2208\\533185038.py:24: DataConversionWarning:\n",
      "\n",
      "A column-vector y was passed when a 1d array was expected. Please change the shape of y to (n_samples,), for example using ravel().\n",
      "\n",
      "\u001b[32m[I 2022-11-23 18:17:29,110]\u001b[0m Trial 48 finished with value: 0.871828151969362 and parameters: {'n_estimators': 160, 'max_depth': 50, 'min_samples_leaf': 4, 'min_samples_split': 5, 'max_features': 4}. Best is trial 22 with value: 0.8719295658806494.\u001b[0m\n",
      "C:\\Users\\DELL\\AppData\\Local\\Temp\\ipykernel_2208\\533185038.py:24: DataConversionWarning:\n",
      "\n",
      "A column-vector y was passed when a 1d array was expected. Please change the shape of y to (n_samples,), for example using ravel().\n",
      "\n",
      "\u001b[32m[I 2022-11-23 18:17:36,824]\u001b[0m Trial 49 finished with value: 0.8708248293246139 and parameters: {'n_estimators': 130, 'max_depth': 46, 'min_samples_leaf': 4, 'min_samples_split': 5, 'max_features': 3}. Best is trial 22 with value: 0.8719295658806494.\u001b[0m\n",
      "C:\\Users\\DELL\\AppData\\Local\\Temp\\ipykernel_2208\\533185038.py:24: DataConversionWarning:\n",
      "\n",
      "A column-vector y was passed when a 1d array was expected. Please change the shape of y to (n_samples,), for example using ravel().\n",
      "\n",
      "\u001b[32m[I 2022-11-23 18:17:53,391]\u001b[0m Trial 50 finished with value: 0.8695782189881633 and parameters: {'n_estimators': 160, 'max_depth': 50, 'min_samples_leaf': 4, 'min_samples_split': 6, 'max_features': 6}. Best is trial 22 with value: 0.8719295658806494.\u001b[0m\n",
      "C:\\Users\\DELL\\AppData\\Local\\Temp\\ipykernel_2208\\533185038.py:24: DataConversionWarning:\n",
      "\n",
      "A column-vector y was passed when a 1d array was expected. Please change the shape of y to (n_samples,), for example using ravel().\n",
      "\n",
      "\u001b[32m[I 2022-11-23 18:18:06,593]\u001b[0m Trial 51 finished with value: 0.8718125006520507 and parameters: {'n_estimators': 170, 'max_depth': 44, 'min_samples_leaf': 3, 'min_samples_split': 5, 'max_features': 4}. Best is trial 22 with value: 0.8719295658806494.\u001b[0m\n",
      "C:\\Users\\DELL\\AppData\\Local\\Temp\\ipykernel_2208\\533185038.py:24: DataConversionWarning:\n",
      "\n",
      "A column-vector y was passed when a 1d array was expected. Please change the shape of y to (n_samples,), for example using ravel().\n",
      "\n",
      "\u001b[32m[I 2022-11-23 18:18:20,325]\u001b[0m Trial 52 finished with value: 0.8718125006520507 and parameters: {'n_estimators': 170, 'max_depth': 44, 'min_samples_leaf': 3, 'min_samples_split': 5, 'max_features': 4}. Best is trial 22 with value: 0.8719295658806494.\u001b[0m\n",
      "C:\\Users\\DELL\\AppData\\Local\\Temp\\ipykernel_2208\\533185038.py:24: DataConversionWarning:\n",
      "\n",
      "A column-vector y was passed when a 1d array was expected. Please change the shape of y to (n_samples,), for example using ravel().\n",
      "\n",
      "\u001b[32m[I 2022-11-23 18:18:34,031]\u001b[0m Trial 53 finished with value: 0.8718125006520507 and parameters: {'n_estimators': 170, 'max_depth': 44, 'min_samples_leaf': 3, 'min_samples_split': 5, 'max_features': 4}. Best is trial 22 with value: 0.8719295658806494.\u001b[0m\n",
      "C:\\Users\\DELL\\AppData\\Local\\Temp\\ipykernel_2208\\533185038.py:24: DataConversionWarning:\n",
      "\n",
      "A column-vector y was passed when a 1d array was expected. Please change the shape of y to (n_samples,), for example using ravel().\n",
      "\n",
      "\u001b[32m[I 2022-11-23 18:18:45,529]\u001b[0m Trial 54 finished with value: 0.8714727164416682 and parameters: {'n_estimators': 150, 'max_depth': 50, 'min_samples_leaf': 3, 'min_samples_split': 5, 'max_features': 4}. Best is trial 22 with value: 0.8719295658806494.\u001b[0m\n",
      "C:\\Users\\DELL\\AppData\\Local\\Temp\\ipykernel_2208\\533185038.py:24: DataConversionWarning:\n",
      "\n",
      "A column-vector y was passed when a 1d array was expected. Please change the shape of y to (n_samples,), for example using ravel().\n",
      "\n",
      "\u001b[32m[I 2022-11-23 18:18:47,200]\u001b[0m Trial 55 finished with value: 0.8665885138593575 and parameters: {'n_estimators': 20, 'max_depth': 42, 'min_samples_leaf': 3, 'min_samples_split': 5, 'max_features': 4}. Best is trial 22 with value: 0.8719295658806494.\u001b[0m\n",
      "C:\\Users\\DELL\\AppData\\Local\\Temp\\ipykernel_2208\\533185038.py:24: DataConversionWarning:\n",
      "\n",
      "A column-vector y was passed when a 1d array was expected. Please change the shape of y to (n_samples,), for example using ravel().\n",
      "\n",
      "\u001b[32m[I 2022-11-23 18:18:59,562]\u001b[0m Trial 56 finished with value: 0.8718547940895875 and parameters: {'n_estimators': 170, 'max_depth': 46, 'min_samples_leaf': 4, 'min_samples_split': 5, 'max_features': 4}. Best is trial 22 with value: 0.8719295658806494.\u001b[0m\n",
      "C:\\Users\\DELL\\AppData\\Local\\Temp\\ipykernel_2208\\533185038.py:24: DataConversionWarning:\n",
      "\n",
      "A column-vector y was passed when a 1d array was expected. Please change the shape of y to (n_samples,), for example using ravel().\n",
      "\n",
      "\u001b[32m[I 2022-11-23 18:19:16,446]\u001b[0m Trial 57 finished with value: 0.8709046419308026 and parameters: {'n_estimators': 190, 'max_depth': 48, 'min_samples_leaf': 4, 'min_samples_split': 6, 'max_features': 5}. Best is trial 22 with value: 0.8719295658806494.\u001b[0m\n",
      "C:\\Users\\DELL\\AppData\\Local\\Temp\\ipykernel_2208\\533185038.py:24: DataConversionWarning:\n",
      "\n",
      "A column-vector y was passed when a 1d array was expected. Please change the shape of y to (n_samples,), for example using ravel().\n",
      "\n",
      "\u001b[32m[I 2022-11-23 18:19:35,139]\u001b[0m Trial 58 finished with value: 0.8691800687532725 and parameters: {'n_estimators': 160, 'max_depth': 38, 'min_samples_leaf': 5, 'min_samples_split': 7, 'max_features': 7}. Best is trial 22 with value: 0.8719295658806494.\u001b[0m\n",
      "C:\\Users\\DELL\\AppData\\Local\\Temp\\ipykernel_2208\\533185038.py:24: DataConversionWarning:\n",
      "\n",
      "A column-vector y was passed when a 1d array was expected. Please change the shape of y to (n_samples,), for example using ravel().\n",
      "\n",
      "\u001b[32m[I 2022-11-23 18:19:47,856]\u001b[0m Trial 59 finished with value: 0.8718127361149477 and parameters: {'n_estimators': 180, 'max_depth': 46, 'min_samples_leaf': 4, 'min_samples_split': 6, 'max_features': 4}. Best is trial 22 with value: 0.8719295658806494.\u001b[0m\n",
      "C:\\Users\\DELL\\AppData\\Local\\Temp\\ipykernel_2208\\533185038.py:24: DataConversionWarning:\n",
      "\n",
      "A column-vector y was passed when a 1d array was expected. Please change the shape of y to (n_samples,), for example using ravel().\n",
      "\n",
      "\u001b[32m[I 2022-11-23 18:19:55,453]\u001b[0m Trial 60 finished with value: 0.8668121850854862 and parameters: {'n_estimators': 200, 'max_depth': 46, 'min_samples_leaf': 6, 'min_samples_split': 6, 'max_features': 2}. Best is trial 22 with value: 0.8719295658806494.\u001b[0m\n",
      "C:\\Users\\DELL\\AppData\\Local\\Temp\\ipykernel_2208\\533185038.py:24: DataConversionWarning:\n",
      "\n",
      "A column-vector y was passed when a 1d array was expected. Please change the shape of y to (n_samples,), for example using ravel().\n",
      "\n",
      "\u001b[32m[I 2022-11-23 18:20:07,920]\u001b[0m Trial 61 finished with value: 0.8717790274204592 and parameters: {'n_estimators': 180, 'max_depth': 48, 'min_samples_leaf': 4, 'min_samples_split': 5, 'max_features': 4}. Best is trial 22 with value: 0.8719295658806494.\u001b[0m\n",
      "C:\\Users\\DELL\\AppData\\Local\\Temp\\ipykernel_2208\\533185038.py:24: DataConversionWarning:\n",
      "\n",
      "A column-vector y was passed when a 1d array was expected. Please change the shape of y to (n_samples,), for example using ravel().\n",
      "\n",
      "\u001b[32m[I 2022-11-23 18:20:19,670]\u001b[0m Trial 62 finished with value: 0.8716346342098658 and parameters: {'n_estimators': 170, 'max_depth': 42, 'min_samples_leaf': 4, 'min_samples_split': 6, 'max_features': 4}. Best is trial 22 with value: 0.8719295658806494.\u001b[0m\n",
      "C:\\Users\\DELL\\AppData\\Local\\Temp\\ipykernel_2208\\533185038.py:24: DataConversionWarning:\n",
      "\n",
      "A column-vector y was passed when a 1d array was expected. Please change the shape of y to (n_samples,), for example using ravel().\n",
      "\n",
      "\u001b[32m[I 2022-11-23 18:20:23,183]\u001b[0m Trial 63 finished with value: 0.8698701336560579 and parameters: {'n_estimators': 50, 'max_depth': 50, 'min_samples_leaf': 5, 'min_samples_split': 7, 'max_features': 4}. Best is trial 22 with value: 0.8719295658806494.\u001b[0m\n",
      "C:\\Users\\DELL\\AppData\\Local\\Temp\\ipykernel_2208\\533185038.py:24: DataConversionWarning:\n",
      "\n",
      "A column-vector y was passed when a 1d array was expected. Please change the shape of y to (n_samples,), for example using ravel().\n",
      "\n",
      "\u001b[32m[I 2022-11-23 18:20:35,487]\u001b[0m Trial 64 finished with value: 0.8718127361149477 and parameters: {'n_estimators': 180, 'max_depth': 46, 'min_samples_leaf': 4, 'min_samples_split': 6, 'max_features': 4}. Best is trial 22 with value: 0.8719295658806494.\u001b[0m\n",
      "C:\\Users\\DELL\\AppData\\Local\\Temp\\ipykernel_2208\\533185038.py:24: DataConversionWarning:\n",
      "\n",
      "A column-vector y was passed when a 1d array was expected. Please change the shape of y to (n_samples,), for example using ravel().\n",
      "\n",
      "\u001b[32m[I 2022-11-23 18:20:48,671]\u001b[0m Trial 65 finished with value: 0.8717870544852417 and parameters: {'n_estimators': 190, 'max_depth': 46, 'min_samples_leaf': 4, 'min_samples_split': 6, 'max_features': 4}. Best is trial 22 with value: 0.8719295658806494.\u001b[0m\n",
      "C:\\Users\\DELL\\AppData\\Local\\Temp\\ipykernel_2208\\533185038.py:24: DataConversionWarning:\n",
      "\n",
      "A column-vector y was passed when a 1d array was expected. Please change the shape of y to (n_samples,), for example using ravel().\n",
      "\n",
      "\u001b[32m[I 2022-11-23 18:21:01,380]\u001b[0m Trial 66 finished with value: 0.8717790274204592 and parameters: {'n_estimators': 180, 'max_depth': 48, 'min_samples_leaf': 4, 'min_samples_split': 6, 'max_features': 4}. Best is trial 22 with value: 0.8719295658806494.\u001b[0m\n",
      "C:\\Users\\DELL\\AppData\\Local\\Temp\\ipykernel_2208\\533185038.py:24: DataConversionWarning:\n",
      "\n",
      "A column-vector y was passed when a 1d array was expected. Please change the shape of y to (n_samples,), for example using ravel().\n",
      "\n",
      "\u001b[32m[I 2022-11-23 18:21:11,429]\u001b[0m Trial 67 finished with value: 0.8710168040937538 and parameters: {'n_estimators': 150, 'max_depth': 40, 'min_samples_leaf': 5, 'min_samples_split': 7, 'max_features': 4}. Best is trial 22 with value: 0.8719295658806494.\u001b[0m\n",
      "C:\\Users\\DELL\\AppData\\Local\\Temp\\ipykernel_2208\\533185038.py:24: DataConversionWarning:\n",
      "\n",
      "A column-vector y was passed when a 1d array was expected. Please change the shape of y to (n_samples,), for example using ravel().\n",
      "\n",
      "\u001b[32m[I 2022-11-23 18:21:22,575]\u001b[0m Trial 68 finished with value: 0.871828151969362 and parameters: {'n_estimators': 160, 'max_depth': 50, 'min_samples_leaf': 4, 'min_samples_split': 4, 'max_features': 4}. Best is trial 22 with value: 0.8719295658806494.\u001b[0m\n",
      "C:\\Users\\DELL\\AppData\\Local\\Temp\\ipykernel_2208\\533185038.py:24: DataConversionWarning:\n",
      "\n",
      "A column-vector y was passed when a 1d array was expected. Please change the shape of y to (n_samples,), for example using ravel().\n",
      "\n",
      "\u001b[32m[I 2022-11-23 18:21:38,367]\u001b[0m Trial 69 finished with value: 0.8695782189881633 and parameters: {'n_estimators': 160, 'max_depth': 50, 'min_samples_leaf': 4, 'min_samples_split': 4, 'max_features': 6}. Best is trial 22 with value: 0.8719295658806494.\u001b[0m\n",
      "C:\\Users\\DELL\\AppData\\Local\\Temp\\ipykernel_2208\\533185038.py:24: DataConversionWarning:\n",
      "\n",
      "A column-vector y was passed when a 1d array was expected. Please change the shape of y to (n_samples,), for example using ravel().\n",
      "\n",
      "\u001b[32m[I 2022-11-23 18:21:48,548]\u001b[0m Trial 70 finished with value: 0.8705777320223282 and parameters: {'n_estimators': 150, 'max_depth': 50, 'min_samples_leaf': 5, 'min_samples_split': 4, 'max_features': 4}. Best is trial 22 with value: 0.8719295658806494.\u001b[0m\n",
      "C:\\Users\\DELL\\AppData\\Local\\Temp\\ipykernel_2208\\533185038.py:24: DataConversionWarning:\n",
      "\n",
      "A column-vector y was passed when a 1d array was expected. Please change the shape of y to (n_samples,), for example using ravel().\n",
      "\n",
      "\u001b[32m[I 2022-11-23 18:22:01,296]\u001b[0m Trial 71 finished with value: 0.8718127361149477 and parameters: {'n_estimators': 180, 'max_depth': 46, 'min_samples_leaf': 4, 'min_samples_split': 5, 'max_features': 4}. Best is trial 22 with value: 0.8719295658806494.\u001b[0m\n",
      "C:\\Users\\DELL\\AppData\\Local\\Temp\\ipykernel_2208\\533185038.py:24: DataConversionWarning:\n",
      "\n",
      "A column-vector y was passed when a 1d array was expected. Please change the shape of y to (n_samples,), for example using ravel().\n",
      "\n",
      "\u001b[32m[I 2022-11-23 18:22:11,041]\u001b[0m Trial 72 finished with value: 0.8717255951607481 and parameters: {'n_estimators': 140, 'max_depth': 44, 'min_samples_leaf': 4, 'min_samples_split': 4, 'max_features': 4}. Best is trial 22 with value: 0.8719295658806494.\u001b[0m\n",
      "C:\\Users\\DELL\\AppData\\Local\\Temp\\ipykernel_2208\\533185038.py:24: DataConversionWarning:\n",
      "\n",
      "A column-vector y was passed when a 1d array was expected. Please change the shape of y to (n_samples,), for example using ravel().\n",
      "\n",
      "\u001b[32m[I 2022-11-23 18:22:22,038]\u001b[0m Trial 73 finished with value: 0.8718236184119981 and parameters: {'n_estimators': 160, 'max_depth': 48, 'min_samples_leaf': 4, 'min_samples_split': 5, 'max_features': 4}. Best is trial 22 with value: 0.8719295658806494.\u001b[0m\n",
      "C:\\Users\\DELL\\AppData\\Local\\Temp\\ipykernel_2208\\533185038.py:24: DataConversionWarning:\n",
      "\n",
      "A column-vector y was passed when a 1d array was expected. Please change the shape of y to (n_samples,), for example using ravel().\n",
      "\n",
      "\u001b[32m[I 2022-11-23 18:22:32,923]\u001b[0m Trial 74 finished with value: 0.8707553185671555 and parameters: {'n_estimators': 160, 'max_depth': 48, 'min_samples_leaf': 5, 'min_samples_split': 5, 'max_features': 4}. Best is trial 22 with value: 0.8719295658806494.\u001b[0m\n",
      "C:\\Users\\DELL\\AppData\\Local\\Temp\\ipykernel_2208\\533185038.py:24: DataConversionWarning:\n",
      "\n",
      "A column-vector y was passed when a 1d array was expected. Please change the shape of y to (n_samples,), for example using ravel().\n",
      "\n",
      "\u001b[32m[I 2022-11-23 18:22:44,642]\u001b[0m Trial 75 finished with value: 0.8716346342098658 and parameters: {'n_estimators': 170, 'max_depth': 42, 'min_samples_leaf': 4, 'min_samples_split': 4, 'max_features': 4}. Best is trial 22 with value: 0.8719295658806494.\u001b[0m\n",
      "C:\\Users\\DELL\\AppData\\Local\\Temp\\ipykernel_2208\\533185038.py:24: DataConversionWarning:\n",
      "\n",
      "A column-vector y was passed when a 1d array was expected. Please change the shape of y to (n_samples,), for example using ravel().\n",
      "\n",
      "\u001b[32m[I 2022-11-23 18:22:57,613]\u001b[0m Trial 76 finished with value: 0.8706635684952724 and parameters: {'n_estimators': 150, 'max_depth': 48, 'min_samples_leaf': 4, 'min_samples_split': 5, 'max_features': 5}. Best is trial 22 with value: 0.8719295658806494.\u001b[0m\n",
      "C:\\Users\\DELL\\AppData\\Local\\Temp\\ipykernel_2208\\533185038.py:24: DataConversionWarning:\n",
      "\n",
      "A column-vector y was passed when a 1d array was expected. Please change the shape of y to (n_samples,), for example using ravel().\n",
      "\n",
      "\u001b[32m[I 2022-11-23 18:23:05,275]\u001b[0m Trial 77 finished with value: 0.8707329112287936 and parameters: {'n_estimators': 140, 'max_depth': 50, 'min_samples_leaf': 5, 'min_samples_split': 5, 'max_features': 3}. Best is trial 22 with value: 0.8719295658806494.\u001b[0m\n",
      "C:\\Users\\DELL\\AppData\\Local\\Temp\\ipykernel_2208\\533185038.py:24: DataConversionWarning:\n",
      "\n",
      "A column-vector y was passed when a 1d array was expected. Please change the shape of y to (n_samples,), for example using ravel().\n",
      "\n",
      "\u001b[32m[I 2022-11-23 18:23:17,052]\u001b[0m Trial 78 finished with value: 0.8718879131795296 and parameters: {'n_estimators': 170, 'max_depth': 38, 'min_samples_leaf': 4, 'min_samples_split': 4, 'max_features': 4}. Best is trial 22 with value: 0.8719295658806494.\u001b[0m\n",
      "C:\\Users\\DELL\\AppData\\Local\\Temp\\ipykernel_2208\\533185038.py:24: DataConversionWarning:\n",
      "\n",
      "A column-vector y was passed when a 1d array was expected. Please change the shape of y to (n_samples,), for example using ravel().\n",
      "\n",
      "\u001b[32m[I 2022-11-23 18:23:36,862]\u001b[0m Trial 79 finished with value: 0.8691286246368448 and parameters: {'n_estimators': 170, 'max_depth': 34, 'min_samples_leaf': 3, 'min_samples_split': 4, 'max_features': 7}. Best is trial 22 with value: 0.8719295658806494.\u001b[0m\n",
      "C:\\Users\\DELL\\AppData\\Local\\Temp\\ipykernel_2208\\533185038.py:24: DataConversionWarning:\n",
      "\n",
      "A column-vector y was passed when a 1d array was expected. Please change the shape of y to (n_samples,), for example using ravel().\n",
      "\n",
      "\u001b[32m[I 2022-11-23 18:23:43,371]\u001b[0m Trial 80 finished with value: 0.8665574522198755 and parameters: {'n_estimators': 160, 'max_depth': 40, 'min_samples_leaf': 5, 'min_samples_split': 3, 'max_features': 2}. Best is trial 22 with value: 0.8719295658806494.\u001b[0m\n",
      "C:\\Users\\DELL\\AppData\\Local\\Temp\\ipykernel_2208\\533185038.py:24: DataConversionWarning:\n",
      "\n",
      "A column-vector y was passed when a 1d array was expected. Please change the shape of y to (n_samples,), for example using ravel().\n",
      "\n",
      "\u001b[32m[I 2022-11-23 18:23:55,482]\u001b[0m Trial 81 finished with value: 0.8718547940895875 and parameters: {'n_estimators': 170, 'max_depth': 46, 'min_samples_leaf': 4, 'min_samples_split': 4, 'max_features': 4}. Best is trial 22 with value: 0.8719295658806494.\u001b[0m\n",
      "C:\\Users\\DELL\\AppData\\Local\\Temp\\ipykernel_2208\\533185038.py:24: DataConversionWarning:\n",
      "\n",
      "A column-vector y was passed when a 1d array was expected. Please change the shape of y to (n_samples,), for example using ravel().\n",
      "\n",
      "\u001b[32m[I 2022-11-23 18:24:07,032]\u001b[0m Trial 82 finished with value: 0.8719393454782394 and parameters: {'n_estimators': 160, 'max_depth': 44, 'min_samples_leaf': 4, 'min_samples_split': 4, 'max_features': 4}. Best is trial 82 with value: 0.8719393454782394.\u001b[0m\n",
      "C:\\Users\\DELL\\AppData\\Local\\Temp\\ipykernel_2208\\533185038.py:24: DataConversionWarning:\n",
      "\n",
      "A column-vector y was passed when a 1d array was expected. Please change the shape of y to (n_samples,), for example using ravel().\n",
      "\n",
      "\u001b[32m[I 2022-11-23 18:24:17,507]\u001b[0m Trial 83 finished with value: 0.8717818943031517 and parameters: {'n_estimators': 150, 'max_depth': 44, 'min_samples_leaf': 4, 'min_samples_split': 3, 'max_features': 4}. Best is trial 82 with value: 0.8719393454782394.\u001b[0m\n",
      "C:\\Users\\DELL\\AppData\\Local\\Temp\\ipykernel_2208\\533185038.py:24: DataConversionWarning:\n",
      "\n",
      "A column-vector y was passed when a 1d array was expected. Please change the shape of y to (n_samples,), for example using ravel().\n",
      "\n",
      "\u001b[32m[I 2022-11-23 18:24:28,778]\u001b[0m Trial 84 finished with value: 0.871975969045627 and parameters: {'n_estimators': 160, 'max_depth': 38, 'min_samples_leaf': 4, 'min_samples_split': 4, 'max_features': 4}. Best is trial 84 with value: 0.871975969045627.\u001b[0m\n",
      "C:\\Users\\DELL\\AppData\\Local\\Temp\\ipykernel_2208\\533185038.py:24: DataConversionWarning:\n",
      "\n",
      "A column-vector y was passed when a 1d array was expected. Please change the shape of y to (n_samples,), for example using ravel().\n",
      "\n",
      "\u001b[32m[I 2022-11-23 18:24:40,858]\u001b[0m Trial 85 finished with value: 0.8716761360339905 and parameters: {'n_estimators': 170, 'max_depth': 32, 'min_samples_leaf': 4, 'min_samples_split': 4, 'max_features': 4}. Best is trial 84 with value: 0.871975969045627.\u001b[0m\n",
      "C:\\Users\\DELL\\AppData\\Local\\Temp\\ipykernel_2208\\533185038.py:24: DataConversionWarning:\n",
      "\n",
      "A column-vector y was passed when a 1d array was expected. Please change the shape of y to (n_samples,), for example using ravel().\n",
      "\n",
      "\u001b[32m[I 2022-11-23 18:24:50,390]\u001b[0m Trial 86 finished with value: 0.8717110001785011 and parameters: {'n_estimators': 140, 'max_depth': 38, 'min_samples_leaf': 4, 'min_samples_split': 4, 'max_features': 4}. Best is trial 84 with value: 0.871975969045627.\u001b[0m\n",
      "C:\\Users\\DELL\\AppData\\Local\\Temp\\ipykernel_2208\\533185038.py:24: DataConversionWarning:\n",
      "\n",
      "A column-vector y was passed when a 1d array was expected. Please change the shape of y to (n_samples,), for example using ravel().\n",
      "\n",
      "\u001b[32m[I 2022-11-23 18:25:04,341]\u001b[0m Trial 87 finished with value: 0.8718069935339899 and parameters: {'n_estimators': 190, 'max_depth': 34, 'min_samples_leaf': 3, 'min_samples_split': 4, 'max_features': 4}. Best is trial 84 with value: 0.871975969045627.\u001b[0m\n",
      "C:\\Users\\DELL\\AppData\\Local\\Temp\\ipykernel_2208\\533185038.py:24: DataConversionWarning:\n",
      "\n",
      "A column-vector y was passed when a 1d array was expected. Please change the shape of y to (n_samples,), for example using ravel().\n",
      "\n",
      "\u001b[32m[I 2022-11-23 18:25:15,697]\u001b[0m Trial 88 finished with value: 0.871975969045627 and parameters: {'n_estimators': 160, 'max_depth': 38, 'min_samples_leaf': 4, 'min_samples_split': 4, 'max_features': 4}. Best is trial 84 with value: 0.871975969045627.\u001b[0m\n",
      "C:\\Users\\DELL\\AppData\\Local\\Temp\\ipykernel_2208\\533185038.py:24: DataConversionWarning:\n",
      "\n",
      "A column-vector y was passed when a 1d array was expected. Please change the shape of y to (n_samples,), for example using ravel().\n",
      "\n",
      "\u001b[32m[I 2022-11-23 18:25:25,915]\u001b[0m Trial 89 finished with value: 0.8707925189121392 and parameters: {'n_estimators': 150, 'max_depth': 42, 'min_samples_leaf': 5, 'min_samples_split': 4, 'max_features': 4}. Best is trial 84 with value: 0.871975969045627.\u001b[0m\n",
      "C:\\Users\\DELL\\AppData\\Local\\Temp\\ipykernel_2208\\533185038.py:24: DataConversionWarning:\n",
      "\n",
      "A column-vector y was passed when a 1d array was expected. Please change the shape of y to (n_samples,), for example using ravel().\n",
      "\n",
      "\u001b[32m[I 2022-11-23 18:25:43,261]\u001b[0m Trial 90 finished with value: 0.8702260486412474 and parameters: {'n_estimators': 170, 'max_depth': 36, 'min_samples_leaf': 3, 'min_samples_split': 3, 'max_features': 6}. Best is trial 84 with value: 0.871975969045627.\u001b[0m\n",
      "C:\\Users\\DELL\\AppData\\Local\\Temp\\ipykernel_2208\\533185038.py:24: DataConversionWarning:\n",
      "\n",
      "A column-vector y was passed when a 1d array was expected. Please change the shape of y to (n_samples,), for example using ravel().\n",
      "\n",
      "\u001b[32m[I 2022-11-23 18:25:54,378]\u001b[0m Trial 91 finished with value: 0.871975969045627 and parameters: {'n_estimators': 160, 'max_depth': 38, 'min_samples_leaf': 4, 'min_samples_split': 4, 'max_features': 4}. Best is trial 84 with value: 0.871975969045627.\u001b[0m\n",
      "C:\\Users\\DELL\\AppData\\Local\\Temp\\ipykernel_2208\\533185038.py:24: DataConversionWarning:\n",
      "\n",
      "A column-vector y was passed when a 1d array was expected. Please change the shape of y to (n_samples,), for example using ravel().\n",
      "\n",
      "\u001b[32m[I 2022-11-23 18:26:05,677]\u001b[0m Trial 92 finished with value: 0.871975969045627 and parameters: {'n_estimators': 160, 'max_depth': 38, 'min_samples_leaf': 4, 'min_samples_split': 4, 'max_features': 4}. Best is trial 84 with value: 0.871975969045627.\u001b[0m\n",
      "C:\\Users\\DELL\\AppData\\Local\\Temp\\ipykernel_2208\\533185038.py:24: DataConversionWarning:\n",
      "\n",
      "A column-vector y was passed when a 1d array was expected. Please change the shape of y to (n_samples,), for example using ravel().\n",
      "\n",
      "\u001b[32m[I 2022-11-23 18:26:11,395]\u001b[0m Trial 93 finished with value: 0.8709314650454583 and parameters: {'n_estimators': 80, 'max_depth': 38, 'min_samples_leaf': 4, 'min_samples_split': 4, 'max_features': 4}. Best is trial 84 with value: 0.871975969045627.\u001b[0m\n",
      "C:\\Users\\DELL\\AppData\\Local\\Temp\\ipykernel_2208\\533185038.py:24: DataConversionWarning:\n",
      "\n",
      "A column-vector y was passed when a 1d array was expected. Please change the shape of y to (n_samples,), for example using ravel().\n",
      "\n",
      "\u001b[32m[I 2022-11-23 18:26:23,589]\u001b[0m Trial 94 finished with value: 0.8719635821973406 and parameters: {'n_estimators': 170, 'max_depth': 34, 'min_samples_leaf': 4, 'min_samples_split': 4, 'max_features': 4}. Best is trial 84 with value: 0.871975969045627.\u001b[0m\n",
      "C:\\Users\\DELL\\AppData\\Local\\Temp\\ipykernel_2208\\533185038.py:24: DataConversionWarning:\n",
      "\n",
      "A column-vector y was passed when a 1d array was expected. Please change the shape of y to (n_samples,), for example using ravel().\n",
      "\n",
      "\u001b[32m[I 2022-11-23 18:26:34,528]\u001b[0m Trial 95 finished with value: 0.8715705296579835 and parameters: {'n_estimators': 150, 'max_depth': 34, 'min_samples_leaf': 3, 'min_samples_split': 4, 'max_features': 4}. Best is trial 84 with value: 0.871975969045627.\u001b[0m\n",
      "C:\\Users\\DELL\\AppData\\Local\\Temp\\ipykernel_2208\\533185038.py:24: DataConversionWarning:\n",
      "\n",
      "A column-vector y was passed when a 1d array was expected. Please change the shape of y to (n_samples,), for example using ravel().\n",
      "\n",
      "\u001b[32m[I 2022-11-23 18:26:43,508]\u001b[0m Trial 96 finished with value: 0.8714044994291065 and parameters: {'n_estimators': 160, 'max_depth': 36, 'min_samples_leaf': 4, 'min_samples_split': 3, 'max_features': 3}. Best is trial 84 with value: 0.871975969045627.\u001b[0m\n",
      "C:\\Users\\DELL\\AppData\\Local\\Temp\\ipykernel_2208\\533185038.py:24: DataConversionWarning:\n",
      "\n",
      "A column-vector y was passed when a 1d array was expected. Please change the shape of y to (n_samples,), for example using ravel().\n",
      "\n",
      "\u001b[32m[I 2022-11-23 18:26:56,355]\u001b[0m Trial 97 finished with value: 0.8718475792057405 and parameters: {'n_estimators': 180, 'max_depth': 38, 'min_samples_leaf': 4, 'min_samples_split': 4, 'max_features': 4}. Best is trial 84 with value: 0.871975969045627.\u001b[0m\n",
      "C:\\Users\\DELL\\AppData\\Local\\Temp\\ipykernel_2208\\533185038.py:24: DataConversionWarning:\n",
      "\n",
      "A column-vector y was passed when a 1d array was expected. Please change the shape of y to (n_samples,), for example using ravel().\n",
      "\n",
      "\u001b[32m[I 2022-11-23 18:27:11,416]\u001b[0m Trial 98 finished with value: 0.8702396806596807 and parameters: {'n_estimators': 170, 'max_depth': 30, 'min_samples_leaf': 4, 'min_samples_split': 4, 'max_features': 5}. Best is trial 84 with value: 0.871975969045627.\u001b[0m\n",
      "C:\\Users\\DELL\\AppData\\Local\\Temp\\ipykernel_2208\\533185038.py:24: DataConversionWarning:\n",
      "\n",
      "A column-vector y was passed when a 1d array was expected. Please change the shape of y to (n_samples,), for example using ravel().\n",
      "\n",
      "\u001b[32m[I 2022-11-23 18:27:24,767]\u001b[0m Trial 99 finished with value: 0.8708979921301357 and parameters: {'n_estimators': 150, 'max_depth': 38, 'min_samples_leaf': 5, 'min_samples_split': 4, 'max_features': 4}. Best is trial 84 with value: 0.871975969045627.\u001b[0m\n"
     ]
    },
    {
     "name": "stdout",
     "output_type": "stream",
     "text": [
      "Accuracy: 0.871975969045627\n",
      "Best hyperparameters: {'n_estimators': 160, 'max_depth': 38, 'min_samples_leaf': 4, 'min_samples_split': 4, 'max_features': 4}\n"
     ]
    }
   ],
   "source": [
    "import optuna\n",
    "\n",
    "def objective(trial):\n",
    "    \n",
    "    joblib.dump(study, 'study.pkl')\n",
    "    \n",
    "    f_n_estimators = trial.suggest_int(\"n_estimators\", low=20,high=200,step=10)\n",
    "    f_max_depth = trial.suggest_int(\"max_depth\", low=2,high=50,step=2)\n",
    "    f_min_samples_leaf = trial.suggest_int(\"min_samples_leaf\", low=1, high=8, step=1)\n",
    "    f_min_samples_split = trial.suggest_int(\"min_samples_split\", low=2, high=8, step=1)\n",
    "    int_max_features = np.arange(2,len(X_train_scaled.columns),1,dtype=int) \n",
    "    max_features_list = []\n",
    "    for e in int_max_features: \n",
    "       max_features_list.append(int(e))\n",
    "    f_max_features = trial.suggest_categorical(\"max_features\",max_features_list) \n",
    "     \n",
    "    model = RandomForestRegressor(max_depth=f_max_depth,\n",
    "                                           n_estimators = f_n_estimators,\n",
    "                                           min_samples_split = f_min_samples_split,\n",
    "                                           min_samples_leaf = f_min_samples_leaf,\n",
    "                                           max_features = f_max_features,\n",
    "                                           random_state=0, \n",
    "                                           n_jobs = -1)\n",
    "    model.fit(X_train_scaled,y_train)\n",
    "    p=model.predict(X_test_scaled)\n",
    "    score= r2_score(y_test,p)\n",
    "    return score\n",
    "\n",
    "    \n",
    "study = optuna.create_study(direction='maximize')\n",
    "study.optimize(objective, n_trials=100)\n",
    "\n",
    "trial = study.best_trial\n",
    "\n",
    "print('Accuracy: {}'.format(trial.value))\n",
    "print(\"Best hyperparameters: {}\".format(trial.params))"
   ]
  },
  {
   "cell_type": "markdown",
   "metadata": {},
   "source": [
    "melhor score r2 0.7291 <br>\n",
    "Best hyperparameters: {'n_estimators': 190, 'max_depth': 26, 'min_samples_leaf': 1, 'min_samples_split': 5, Best hyperparameters: {'n_estimators': 160, 'max_depth': 14, 'min_samples_leaf': 6, 'min_samples_split': 7, 'max_features': 5}"
   ]
  },
  {
   "cell_type": "code",
   "execution_count": 54,
   "metadata": {},
   "outputs": [
    {
     "data": {
      "text/plain": [
       "FrozenTrial(number=13, values=[0.7291587014172538], datetime_start=datetime.datetime(2022, 11, 23, 17, 34, 34, 444004), datetime_complete=datetime.datetime(2022, 11, 23, 17, 34, 46, 836876), params={'n_estimators': 160, 'max_depth': 14, 'min_samples_leaf': 6, 'min_samples_split': 7, 'max_features': 5}, distributions={'n_estimators': IntDistribution(high=200, log=False, low=20, step=10), 'max_depth': IntDistribution(high=50, log=False, low=2, step=2), 'min_samples_leaf': IntDistribution(high=8, log=False, low=1, step=1), 'min_samples_split': IntDistribution(high=8, log=False, low=2, step=1), 'max_features': CategoricalDistribution(choices=(2, 3, 4, 5, 6, 7))}, user_attrs={}, system_attrs={}, intermediate_values={}, trial_id=13, state=TrialState.COMPLETE, value=None)"
      ]
     },
     "execution_count": 54,
     "metadata": {},
     "output_type": "execute_result"
    }
   ],
   "source": [
    "study.best_trial"
   ]
  },
  {
   "cell_type": "code",
   "execution_count": 55,
   "metadata": {},
   "outputs": [
    {
     "data": {
      "application/vnd.plotly.v1+json": {
       "config": {
        "plotlyServerURL": "https://plot.ly"
       },
       "data": [
        {
         "mode": "markers",
         "name": "Objective Value",
         "type": "scatter",
         "x": [
          0,
          1,
          2,
          3,
          4,
          5,
          6,
          7,
          8,
          9,
          10,
          11,
          12,
          13,
          14,
          15,
          16,
          17,
          18,
          19,
          20,
          21,
          22,
          23,
          24,
          25,
          26,
          27,
          28,
          29,
          30,
          31,
          32,
          33,
          34,
          35,
          36,
          37,
          38,
          39,
          40,
          41,
          42,
          43,
          44,
          45,
          46,
          47,
          48,
          49,
          50,
          51,
          52,
          53,
          54,
          55,
          56,
          57,
          58,
          59,
          60,
          61,
          62,
          63,
          64,
          65,
          66,
          67,
          68,
          69,
          70,
          71,
          72,
          73,
          74,
          75,
          76,
          77,
          78,
          79,
          80,
          81,
          82,
          83,
          84,
          85,
          86,
          87,
          88,
          89,
          90,
          91,
          92,
          93,
          94,
          95,
          96,
          97,
          98,
          99
         ],
         "y": [
          0.7266637747393532,
          0.6914276625272096,
          0.7276782345792143,
          0.7281240300894645,
          0.7268219164620651,
          0.7224010784176609,
          0.725747228263584,
          0.6692537609426215,
          0.7202658997610919,
          0.7241666320790918,
          0.3515757025157391,
          0.7271726679268725,
          0.7272571205864888,
          0.7291587014172538,
          0.7282254878281653,
          0.7261586722023219,
          0.728461850676738,
          0.728421972616315,
          0.7252890117437961,
          0.7094288009853303,
          0.5875836117239002,
          0.7283770044140718,
          0.7278604624609759,
          0.7269037511196936,
          0.7272752039584159,
          0.7244719763321372,
          0.7279164735222967,
          0.7189062012921158,
          0.31837593103181194,
          0.7223238927485436,
          0.7266390449217424,
          0.7283770044140718,
          0.6743745134752513,
          0.7235585405003322,
          0.7278884623496644,
          0.7257695337164196,
          0.7262500277046093,
          0.6742495274421119,
          0.7280685323119431,
          0.7217459716869996,
          0.6998456367949715,
          0.7270630760752617,
          0.7283770044140718,
          0.7284644931660359,
          0.5600522003973967,
          0.7099120593812795,
          0.7255553390301451,
          0.7278746648923169,
          0.7273489429620474,
          0.7270595218510997,
          0.7222467419405881,
          0.728421972616315,
          0.7244642387792501,
          0.7282140668077791,
          0.7079282756404011,
          0.5921552204414358,
          0.7263511994960801,
          0.7282345794853837,
          0.6738842678512774,
          0.726595721459917,
          0.7284817141544727,
          0.7282254878281652,
          0.7250073851098865,
          0.7280433595866797,
          0.7282956485695578,
          0.7271532366653624,
          0.7235472417387194,
          0.7091743907993862,
          0.7282442062450807,
          0.7226989490742235,
          0.7268969804190109,
          0.7283770044140718,
          0.7283770044140718,
          0.7279385160512415,
          0.7246040121187499,
          0.6732665202149013,
          0.7282189293470236,
          0.6997347323408898,
          0.7279636956896254,
          0.7235661174177345,
          0.7251197172923161,
          0.7283770044140718,
          0.728461850676738,
          0.728208588402213,
          0.7271042901984386,
          0.7273619964180187,
          0.7267043722810427,
          0.5895525821185882,
          0.7098976318785415,
          0.7125766845299555,
          0.7244719763321372,
          0.7283770044140718,
          0.7255216467982981,
          0.727982444399779,
          0.7286560697249006,
          0.7278519863249489,
          0.7127976566339599,
          0.7268011948498279,
          0.7286699776249226,
          0.7278413605755278
         ]
        },
        {
         "name": "Best Value",
         "type": "scatter",
         "x": [
          0,
          1,
          2,
          3,
          4,
          5,
          6,
          7,
          8,
          9,
          10,
          11,
          12,
          13,
          14,
          15,
          16,
          17,
          18,
          19,
          20,
          21,
          22,
          23,
          24,
          25,
          26,
          27,
          28,
          29,
          30,
          31,
          32,
          33,
          34,
          35,
          36,
          37,
          38,
          39,
          40,
          41,
          42,
          43,
          44,
          45,
          46,
          47,
          48,
          49,
          50,
          51,
          52,
          53,
          54,
          55,
          56,
          57,
          58,
          59,
          60,
          61,
          62,
          63,
          64,
          65,
          66,
          67,
          68,
          69,
          70,
          71,
          72,
          73,
          74,
          75,
          76,
          77,
          78,
          79,
          80,
          81,
          82,
          83,
          84,
          85,
          86,
          87,
          88,
          89,
          90,
          91,
          92,
          93,
          94,
          95,
          96,
          97,
          98,
          99
         ],
         "y": [
          0.7266637747393532,
          0.7266637747393532,
          0.7276782345792143,
          0.7281240300894645,
          0.7281240300894645,
          0.7281240300894645,
          0.7281240300894645,
          0.7281240300894645,
          0.7281240300894645,
          0.7281240300894645,
          0.7281240300894645,
          0.7281240300894645,
          0.7281240300894645,
          0.7291587014172538,
          0.7291587014172538,
          0.7291587014172538,
          0.7291587014172538,
          0.7291587014172538,
          0.7291587014172538,
          0.7291587014172538,
          0.7291587014172538,
          0.7291587014172538,
          0.7291587014172538,
          0.7291587014172538,
          0.7291587014172538,
          0.7291587014172538,
          0.7291587014172538,
          0.7291587014172538,
          0.7291587014172538,
          0.7291587014172538,
          0.7291587014172538,
          0.7291587014172538,
          0.7291587014172538,
          0.7291587014172538,
          0.7291587014172538,
          0.7291587014172538,
          0.7291587014172538,
          0.7291587014172538,
          0.7291587014172538,
          0.7291587014172538,
          0.7291587014172538,
          0.7291587014172538,
          0.7291587014172538,
          0.7291587014172538,
          0.7291587014172538,
          0.7291587014172538,
          0.7291587014172538,
          0.7291587014172538,
          0.7291587014172538,
          0.7291587014172538,
          0.7291587014172538,
          0.7291587014172538,
          0.7291587014172538,
          0.7291587014172538,
          0.7291587014172538,
          0.7291587014172538,
          0.7291587014172538,
          0.7291587014172538,
          0.7291587014172538,
          0.7291587014172538,
          0.7291587014172538,
          0.7291587014172538,
          0.7291587014172538,
          0.7291587014172538,
          0.7291587014172538,
          0.7291587014172538,
          0.7291587014172538,
          0.7291587014172538,
          0.7291587014172538,
          0.7291587014172538,
          0.7291587014172538,
          0.7291587014172538,
          0.7291587014172538,
          0.7291587014172538,
          0.7291587014172538,
          0.7291587014172538,
          0.7291587014172538,
          0.7291587014172538,
          0.7291587014172538,
          0.7291587014172538,
          0.7291587014172538,
          0.7291587014172538,
          0.7291587014172538,
          0.7291587014172538,
          0.7291587014172538,
          0.7291587014172538,
          0.7291587014172538,
          0.7291587014172538,
          0.7291587014172538,
          0.7291587014172538,
          0.7291587014172538,
          0.7291587014172538,
          0.7291587014172538,
          0.7291587014172538,
          0.7291587014172538,
          0.7291587014172538,
          0.7291587014172538,
          0.7291587014172538,
          0.7291587014172538,
          0.7291587014172538
         ]
        }
       ],
       "layout": {
        "template": {
         "data": {
          "bar": [
           {
            "error_x": {
             "color": "#2a3f5f"
            },
            "error_y": {
             "color": "#2a3f5f"
            },
            "marker": {
             "line": {
              "color": "#E5ECF6",
              "width": 0.5
             },
             "pattern": {
              "fillmode": "overlay",
              "size": 10,
              "solidity": 0.2
             }
            },
            "type": "bar"
           }
          ],
          "barpolar": [
           {
            "marker": {
             "line": {
              "color": "#E5ECF6",
              "width": 0.5
             },
             "pattern": {
              "fillmode": "overlay",
              "size": 10,
              "solidity": 0.2
             }
            },
            "type": "barpolar"
           }
          ],
          "carpet": [
           {
            "aaxis": {
             "endlinecolor": "#2a3f5f",
             "gridcolor": "white",
             "linecolor": "white",
             "minorgridcolor": "white",
             "startlinecolor": "#2a3f5f"
            },
            "baxis": {
             "endlinecolor": "#2a3f5f",
             "gridcolor": "white",
             "linecolor": "white",
             "minorgridcolor": "white",
             "startlinecolor": "#2a3f5f"
            },
            "type": "carpet"
           }
          ],
          "choropleth": [
           {
            "colorbar": {
             "outlinewidth": 0,
             "ticks": ""
            },
            "type": "choropleth"
           }
          ],
          "contour": [
           {
            "colorbar": {
             "outlinewidth": 0,
             "ticks": ""
            },
            "colorscale": [
             [
              0,
              "#0d0887"
             ],
             [
              0.1111111111111111,
              "#46039f"
             ],
             [
              0.2222222222222222,
              "#7201a8"
             ],
             [
              0.3333333333333333,
              "#9c179e"
             ],
             [
              0.4444444444444444,
              "#bd3786"
             ],
             [
              0.5555555555555556,
              "#d8576b"
             ],
             [
              0.6666666666666666,
              "#ed7953"
             ],
             [
              0.7777777777777778,
              "#fb9f3a"
             ],
             [
              0.8888888888888888,
              "#fdca26"
             ],
             [
              1,
              "#f0f921"
             ]
            ],
            "type": "contour"
           }
          ],
          "contourcarpet": [
           {
            "colorbar": {
             "outlinewidth": 0,
             "ticks": ""
            },
            "type": "contourcarpet"
           }
          ],
          "heatmap": [
           {
            "colorbar": {
             "outlinewidth": 0,
             "ticks": ""
            },
            "colorscale": [
             [
              0,
              "#0d0887"
             ],
             [
              0.1111111111111111,
              "#46039f"
             ],
             [
              0.2222222222222222,
              "#7201a8"
             ],
             [
              0.3333333333333333,
              "#9c179e"
             ],
             [
              0.4444444444444444,
              "#bd3786"
             ],
             [
              0.5555555555555556,
              "#d8576b"
             ],
             [
              0.6666666666666666,
              "#ed7953"
             ],
             [
              0.7777777777777778,
              "#fb9f3a"
             ],
             [
              0.8888888888888888,
              "#fdca26"
             ],
             [
              1,
              "#f0f921"
             ]
            ],
            "type": "heatmap"
           }
          ],
          "heatmapgl": [
           {
            "colorbar": {
             "outlinewidth": 0,
             "ticks": ""
            },
            "colorscale": [
             [
              0,
              "#0d0887"
             ],
             [
              0.1111111111111111,
              "#46039f"
             ],
             [
              0.2222222222222222,
              "#7201a8"
             ],
             [
              0.3333333333333333,
              "#9c179e"
             ],
             [
              0.4444444444444444,
              "#bd3786"
             ],
             [
              0.5555555555555556,
              "#d8576b"
             ],
             [
              0.6666666666666666,
              "#ed7953"
             ],
             [
              0.7777777777777778,
              "#fb9f3a"
             ],
             [
              0.8888888888888888,
              "#fdca26"
             ],
             [
              1,
              "#f0f921"
             ]
            ],
            "type": "heatmapgl"
           }
          ],
          "histogram": [
           {
            "marker": {
             "pattern": {
              "fillmode": "overlay",
              "size": 10,
              "solidity": 0.2
             }
            },
            "type": "histogram"
           }
          ],
          "histogram2d": [
           {
            "colorbar": {
             "outlinewidth": 0,
             "ticks": ""
            },
            "colorscale": [
             [
              0,
              "#0d0887"
             ],
             [
              0.1111111111111111,
              "#46039f"
             ],
             [
              0.2222222222222222,
              "#7201a8"
             ],
             [
              0.3333333333333333,
              "#9c179e"
             ],
             [
              0.4444444444444444,
              "#bd3786"
             ],
             [
              0.5555555555555556,
              "#d8576b"
             ],
             [
              0.6666666666666666,
              "#ed7953"
             ],
             [
              0.7777777777777778,
              "#fb9f3a"
             ],
             [
              0.8888888888888888,
              "#fdca26"
             ],
             [
              1,
              "#f0f921"
             ]
            ],
            "type": "histogram2d"
           }
          ],
          "histogram2dcontour": [
           {
            "colorbar": {
             "outlinewidth": 0,
             "ticks": ""
            },
            "colorscale": [
             [
              0,
              "#0d0887"
             ],
             [
              0.1111111111111111,
              "#46039f"
             ],
             [
              0.2222222222222222,
              "#7201a8"
             ],
             [
              0.3333333333333333,
              "#9c179e"
             ],
             [
              0.4444444444444444,
              "#bd3786"
             ],
             [
              0.5555555555555556,
              "#d8576b"
             ],
             [
              0.6666666666666666,
              "#ed7953"
             ],
             [
              0.7777777777777778,
              "#fb9f3a"
             ],
             [
              0.8888888888888888,
              "#fdca26"
             ],
             [
              1,
              "#f0f921"
             ]
            ],
            "type": "histogram2dcontour"
           }
          ],
          "mesh3d": [
           {
            "colorbar": {
             "outlinewidth": 0,
             "ticks": ""
            },
            "type": "mesh3d"
           }
          ],
          "parcoords": [
           {
            "line": {
             "colorbar": {
              "outlinewidth": 0,
              "ticks": ""
             }
            },
            "type": "parcoords"
           }
          ],
          "pie": [
           {
            "automargin": true,
            "type": "pie"
           }
          ],
          "scatter": [
           {
            "fillpattern": {
             "fillmode": "overlay",
             "size": 10,
             "solidity": 0.2
            },
            "type": "scatter"
           }
          ],
          "scatter3d": [
           {
            "line": {
             "colorbar": {
              "outlinewidth": 0,
              "ticks": ""
             }
            },
            "marker": {
             "colorbar": {
              "outlinewidth": 0,
              "ticks": ""
             }
            },
            "type": "scatter3d"
           }
          ],
          "scattercarpet": [
           {
            "marker": {
             "colorbar": {
              "outlinewidth": 0,
              "ticks": ""
             }
            },
            "type": "scattercarpet"
           }
          ],
          "scattergeo": [
           {
            "marker": {
             "colorbar": {
              "outlinewidth": 0,
              "ticks": ""
             }
            },
            "type": "scattergeo"
           }
          ],
          "scattergl": [
           {
            "marker": {
             "colorbar": {
              "outlinewidth": 0,
              "ticks": ""
             }
            },
            "type": "scattergl"
           }
          ],
          "scattermapbox": [
           {
            "marker": {
             "colorbar": {
              "outlinewidth": 0,
              "ticks": ""
             }
            },
            "type": "scattermapbox"
           }
          ],
          "scatterpolar": [
           {
            "marker": {
             "colorbar": {
              "outlinewidth": 0,
              "ticks": ""
             }
            },
            "type": "scatterpolar"
           }
          ],
          "scatterpolargl": [
           {
            "marker": {
             "colorbar": {
              "outlinewidth": 0,
              "ticks": ""
             }
            },
            "type": "scatterpolargl"
           }
          ],
          "scatterternary": [
           {
            "marker": {
             "colorbar": {
              "outlinewidth": 0,
              "ticks": ""
             }
            },
            "type": "scatterternary"
           }
          ],
          "surface": [
           {
            "colorbar": {
             "outlinewidth": 0,
             "ticks": ""
            },
            "colorscale": [
             [
              0,
              "#0d0887"
             ],
             [
              0.1111111111111111,
              "#46039f"
             ],
             [
              0.2222222222222222,
              "#7201a8"
             ],
             [
              0.3333333333333333,
              "#9c179e"
             ],
             [
              0.4444444444444444,
              "#bd3786"
             ],
             [
              0.5555555555555556,
              "#d8576b"
             ],
             [
              0.6666666666666666,
              "#ed7953"
             ],
             [
              0.7777777777777778,
              "#fb9f3a"
             ],
             [
              0.8888888888888888,
              "#fdca26"
             ],
             [
              1,
              "#f0f921"
             ]
            ],
            "type": "surface"
           }
          ],
          "table": [
           {
            "cells": {
             "fill": {
              "color": "#EBF0F8"
             },
             "line": {
              "color": "white"
             }
            },
            "header": {
             "fill": {
              "color": "#C8D4E3"
             },
             "line": {
              "color": "white"
             }
            },
            "type": "table"
           }
          ]
         },
         "layout": {
          "annotationdefaults": {
           "arrowcolor": "#2a3f5f",
           "arrowhead": 0,
           "arrowwidth": 1
          },
          "autotypenumbers": "strict",
          "coloraxis": {
           "colorbar": {
            "outlinewidth": 0,
            "ticks": ""
           }
          },
          "colorscale": {
           "diverging": [
            [
             0,
             "#8e0152"
            ],
            [
             0.1,
             "#c51b7d"
            ],
            [
             0.2,
             "#de77ae"
            ],
            [
             0.3,
             "#f1b6da"
            ],
            [
             0.4,
             "#fde0ef"
            ],
            [
             0.5,
             "#f7f7f7"
            ],
            [
             0.6,
             "#e6f5d0"
            ],
            [
             0.7,
             "#b8e186"
            ],
            [
             0.8,
             "#7fbc41"
            ],
            [
             0.9,
             "#4d9221"
            ],
            [
             1,
             "#276419"
            ]
           ],
           "sequential": [
            [
             0,
             "#0d0887"
            ],
            [
             0.1111111111111111,
             "#46039f"
            ],
            [
             0.2222222222222222,
             "#7201a8"
            ],
            [
             0.3333333333333333,
             "#9c179e"
            ],
            [
             0.4444444444444444,
             "#bd3786"
            ],
            [
             0.5555555555555556,
             "#d8576b"
            ],
            [
             0.6666666666666666,
             "#ed7953"
            ],
            [
             0.7777777777777778,
             "#fb9f3a"
            ],
            [
             0.8888888888888888,
             "#fdca26"
            ],
            [
             1,
             "#f0f921"
            ]
           ],
           "sequentialminus": [
            [
             0,
             "#0d0887"
            ],
            [
             0.1111111111111111,
             "#46039f"
            ],
            [
             0.2222222222222222,
             "#7201a8"
            ],
            [
             0.3333333333333333,
             "#9c179e"
            ],
            [
             0.4444444444444444,
             "#bd3786"
            ],
            [
             0.5555555555555556,
             "#d8576b"
            ],
            [
             0.6666666666666666,
             "#ed7953"
            ],
            [
             0.7777777777777778,
             "#fb9f3a"
            ],
            [
             0.8888888888888888,
             "#fdca26"
            ],
            [
             1,
             "#f0f921"
            ]
           ]
          },
          "colorway": [
           "#636efa",
           "#EF553B",
           "#00cc96",
           "#ab63fa",
           "#FFA15A",
           "#19d3f3",
           "#FF6692",
           "#B6E880",
           "#FF97FF",
           "#FECB52"
          ],
          "font": {
           "color": "#2a3f5f"
          },
          "geo": {
           "bgcolor": "white",
           "lakecolor": "white",
           "landcolor": "#E5ECF6",
           "showlakes": true,
           "showland": true,
           "subunitcolor": "white"
          },
          "hoverlabel": {
           "align": "left"
          },
          "hovermode": "closest",
          "mapbox": {
           "style": "light"
          },
          "paper_bgcolor": "white",
          "plot_bgcolor": "#E5ECF6",
          "polar": {
           "angularaxis": {
            "gridcolor": "white",
            "linecolor": "white",
            "ticks": ""
           },
           "bgcolor": "#E5ECF6",
           "radialaxis": {
            "gridcolor": "white",
            "linecolor": "white",
            "ticks": ""
           }
          },
          "scene": {
           "xaxis": {
            "backgroundcolor": "#E5ECF6",
            "gridcolor": "white",
            "gridwidth": 2,
            "linecolor": "white",
            "showbackground": true,
            "ticks": "",
            "zerolinecolor": "white"
           },
           "yaxis": {
            "backgroundcolor": "#E5ECF6",
            "gridcolor": "white",
            "gridwidth": 2,
            "linecolor": "white",
            "showbackground": true,
            "ticks": "",
            "zerolinecolor": "white"
           },
           "zaxis": {
            "backgroundcolor": "#E5ECF6",
            "gridcolor": "white",
            "gridwidth": 2,
            "linecolor": "white",
            "showbackground": true,
            "ticks": "",
            "zerolinecolor": "white"
           }
          },
          "shapedefaults": {
           "line": {
            "color": "#2a3f5f"
           }
          },
          "ternary": {
           "aaxis": {
            "gridcolor": "white",
            "linecolor": "white",
            "ticks": ""
           },
           "baxis": {
            "gridcolor": "white",
            "linecolor": "white",
            "ticks": ""
           },
           "bgcolor": "#E5ECF6",
           "caxis": {
            "gridcolor": "white",
            "linecolor": "white",
            "ticks": ""
           }
          },
          "title": {
           "x": 0.05
          },
          "xaxis": {
           "automargin": true,
           "gridcolor": "white",
           "linecolor": "white",
           "ticks": "",
           "title": {
            "standoff": 15
           },
           "zerolinecolor": "white",
           "zerolinewidth": 2
          },
          "yaxis": {
           "automargin": true,
           "gridcolor": "white",
           "linecolor": "white",
           "ticks": "",
           "title": {
            "standoff": 15
           },
           "zerolinecolor": "white",
           "zerolinewidth": 2
          }
         }
        },
        "title": {
         "text": "Optimization History Plot"
        },
        "xaxis": {
         "title": {
          "text": "Trial"
         }
        },
        "yaxis": {
         "title": {
          "text": "Objective Value"
         }
        }
       }
      }
     },
     "metadata": {},
     "output_type": "display_data"
    }
   ],
   "source": [
    "optuna.visualization.plot_optimization_history(study)"
   ]
  },
  {
   "cell_type": "code",
   "execution_count": 56,
   "metadata": {},
   "outputs": [
    {
     "data": {
      "application/vnd.plotly.v1+json": {
       "config": {
        "plotlyServerURL": "https://plot.ly"
       },
       "data": [
        {
         "marker": {
          "color": [
           0,
           1,
           2,
           3,
           4,
           5,
           6,
           7,
           8,
           9,
           10,
           11,
           12,
           13,
           14,
           15,
           16,
           17,
           18,
           19,
           20,
           21,
           22,
           23,
           24,
           25,
           26,
           27,
           28,
           29,
           30,
           31,
           32,
           33,
           34,
           35,
           36,
           37,
           38,
           39,
           40,
           41,
           42,
           43,
           44,
           45,
           46,
           47,
           48,
           49,
           50,
           51,
           52,
           53,
           54,
           55,
           56,
           57,
           58,
           59,
           60,
           61,
           62,
           63,
           64,
           65,
           66,
           67,
           68,
           69,
           70,
           71,
           72,
           73,
           74,
           75,
           76,
           77,
           78,
           79,
           80,
           81,
           82,
           83,
           84,
           85,
           86,
           87,
           88,
           89,
           90,
           91,
           92,
           93,
           94,
           95,
           96,
           97,
           98,
           99
          ],
          "colorbar": {
           "title": {
            "text": "Trial"
           },
           "x": 1,
           "xpad": 40
          },
          "colorscale": [
           [
            0,
            "rgb(247,251,255)"
           ],
           [
            0.125,
            "rgb(222,235,247)"
           ],
           [
            0.25,
            "rgb(198,219,239)"
           ],
           [
            0.375,
            "rgb(158,202,225)"
           ],
           [
            0.5,
            "rgb(107,174,214)"
           ],
           [
            0.625,
            "rgb(66,146,198)"
           ],
           [
            0.75,
            "rgb(33,113,181)"
           ],
           [
            0.875,
            "rgb(8,81,156)"
           ],
           [
            1,
            "rgb(8,48,107)"
           ]
          ],
          "line": {
           "color": "Grey",
           "width": 0.5
          },
          "showscale": true
         },
         "mode": "markers",
         "showlegend": false,
         "type": "scatter",
         "x": [
          40,
          8,
          42,
          14,
          36,
          20,
          32,
          6,
          18,
          22,
          2,
          44,
          50,
          14,
          14,
          28,
          12,
          12,
          26,
          8,
          4,
          12,
          12,
          18,
          24,
          10,
          18,
          16,
          2,
          10,
          32,
          12,
          6,
          10,
          16,
          14,
          22,
          6,
          12,
          16,
          8,
          20,
          12,
          12,
          4,
          8,
          20,
          14,
          16,
          28,
          40,
          12,
          10,
          14,
          8,
          4,
          18,
          12,
          6,
          22,
          14,
          14,
          10,
          16,
          12,
          18,
          10,
          8,
          14,
          20,
          24,
          12,
          12,
          16,
          10,
          6,
          12,
          8,
          14,
          50,
          10,
          12,
          12,
          14,
          18,
          16,
          34,
          4,
          8,
          12,
          10,
          12,
          14,
          16,
          12,
          14,
          10,
          18,
          14,
          16
         ],
         "xaxis": "x",
         "y": [
          0.7266637747393532,
          0.6914276625272096,
          0.7276782345792143,
          0.7281240300894645,
          0.7268219164620651,
          0.7224010784176609,
          0.725747228263584,
          0.6692537609426215,
          0.7202658997610919,
          0.7241666320790918,
          0.3515757025157391,
          0.7271726679268725,
          0.7272571205864888,
          0.7291587014172538,
          0.7282254878281653,
          0.7261586722023219,
          0.728461850676738,
          0.728421972616315,
          0.7252890117437961,
          0.7094288009853303,
          0.5875836117239002,
          0.7283770044140718,
          0.7278604624609759,
          0.7269037511196936,
          0.7272752039584159,
          0.7244719763321372,
          0.7279164735222967,
          0.7189062012921158,
          0.31837593103181194,
          0.7223238927485436,
          0.7266390449217424,
          0.7283770044140718,
          0.6743745134752513,
          0.7235585405003322,
          0.7278884623496644,
          0.7257695337164196,
          0.7262500277046093,
          0.6742495274421119,
          0.7280685323119431,
          0.7217459716869996,
          0.6998456367949715,
          0.7270630760752617,
          0.7283770044140718,
          0.7284644931660359,
          0.5600522003973967,
          0.7099120593812795,
          0.7255553390301451,
          0.7278746648923169,
          0.7273489429620474,
          0.7270595218510997,
          0.7222467419405881,
          0.728421972616315,
          0.7244642387792501,
          0.7282140668077791,
          0.7079282756404011,
          0.5921552204414358,
          0.7263511994960801,
          0.7282345794853837,
          0.6738842678512774,
          0.726595721459917,
          0.7284817141544727,
          0.7282254878281652,
          0.7250073851098865,
          0.7280433595866797,
          0.7282956485695578,
          0.7271532366653624,
          0.7235472417387194,
          0.7091743907993862,
          0.7282442062450807,
          0.7226989490742235,
          0.7268969804190109,
          0.7283770044140718,
          0.7283770044140718,
          0.7279385160512415,
          0.7246040121187499,
          0.6732665202149013,
          0.7282189293470236,
          0.6997347323408898,
          0.7279636956896254,
          0.7235661174177345,
          0.7251197172923161,
          0.7283770044140718,
          0.728461850676738,
          0.728208588402213,
          0.7271042901984386,
          0.7273619964180187,
          0.7267043722810427,
          0.5895525821185882,
          0.7098976318785415,
          0.7125766845299555,
          0.7244719763321372,
          0.7283770044140718,
          0.7255216467982981,
          0.727982444399779,
          0.7286560697249006,
          0.7278519863249489,
          0.7127976566339599,
          0.7268011948498279,
          0.7286699776249226,
          0.7278413605755278
         ],
         "yaxis": "y"
        },
        {
         "marker": {
          "color": [
           0,
           1,
           2,
           3,
           4,
           5,
           6,
           7,
           8,
           9,
           10,
           11,
           12,
           13,
           14,
           15,
           16,
           17,
           18,
           19,
           20,
           21,
           22,
           23,
           24,
           25,
           26,
           27,
           28,
           29,
           30,
           31,
           32,
           33,
           34,
           35,
           36,
           37,
           38,
           39,
           40,
           41,
           42,
           43,
           44,
           45,
           46,
           47,
           48,
           49,
           50,
           51,
           52,
           53,
           54,
           55,
           56,
           57,
           58,
           59,
           60,
           61,
           62,
           63,
           64,
           65,
           66,
           67,
           68,
           69,
           70,
           71,
           72,
           73,
           74,
           75,
           76,
           77,
           78,
           79,
           80,
           81,
           82,
           83,
           84,
           85,
           86,
           87,
           88,
           89,
           90,
           91,
           92,
           93,
           94,
           95,
           96,
           97,
           98,
           99
          ],
          "colorbar": {
           "title": {
            "text": "Trial"
           },
           "x": 1,
           "xpad": 40
          },
          "colorscale": [
           [
            0,
            "rgb(247,251,255)"
           ],
           [
            0.125,
            "rgb(222,235,247)"
           ],
           [
            0.25,
            "rgb(198,219,239)"
           ],
           [
            0.375,
            "rgb(158,202,225)"
           ],
           [
            0.5,
            "rgb(107,174,214)"
           ],
           [
            0.625,
            "rgb(66,146,198)"
           ],
           [
            0.75,
            "rgb(33,113,181)"
           ],
           [
            0.875,
            "rgb(8,81,156)"
           ],
           [
            1,
            "rgb(8,48,107)"
           ]
          ],
          "line": {
           "color": "Grey",
           "width": 0.5
          },
          "showscale": false
         },
         "mode": "markers",
         "showlegend": false,
         "type": "scatter",
         "x": [
          7,
          3,
          5,
          7,
          7,
          2,
          3,
          3,
          2,
          7,
          4,
          5,
          6,
          5,
          5,
          5,
          5,
          5,
          4,
          6,
          5,
          5,
          5,
          5,
          5,
          5,
          5,
          2,
          6,
          4,
          5,
          5,
          5,
          5,
          5,
          3,
          7,
          5,
          5,
          2,
          3,
          5,
          5,
          7,
          7,
          7,
          7,
          7,
          4,
          6,
          2,
          5,
          5,
          5,
          5,
          3,
          7,
          5,
          5,
          4,
          6,
          5,
          6,
          6,
          6,
          6,
          5,
          5,
          7,
          2,
          5,
          5,
          5,
          5,
          5,
          6,
          5,
          3,
          5,
          4,
          7,
          5,
          5,
          5,
          5,
          5,
          5,
          5,
          6,
          2,
          5,
          5,
          5,
          5,
          5,
          7,
          3,
          5,
          5,
          5
         ],
         "xaxis": "x2",
         "y": [
          0.7266637747393532,
          0.6914276625272096,
          0.7276782345792143,
          0.7281240300894645,
          0.7268219164620651,
          0.7224010784176609,
          0.725747228263584,
          0.6692537609426215,
          0.7202658997610919,
          0.7241666320790918,
          0.3515757025157391,
          0.7271726679268725,
          0.7272571205864888,
          0.7291587014172538,
          0.7282254878281653,
          0.7261586722023219,
          0.728461850676738,
          0.728421972616315,
          0.7252890117437961,
          0.7094288009853303,
          0.5875836117239002,
          0.7283770044140718,
          0.7278604624609759,
          0.7269037511196936,
          0.7272752039584159,
          0.7244719763321372,
          0.7279164735222967,
          0.7189062012921158,
          0.31837593103181194,
          0.7223238927485436,
          0.7266390449217424,
          0.7283770044140718,
          0.6743745134752513,
          0.7235585405003322,
          0.7278884623496644,
          0.7257695337164196,
          0.7262500277046093,
          0.6742495274421119,
          0.7280685323119431,
          0.7217459716869996,
          0.6998456367949715,
          0.7270630760752617,
          0.7283770044140718,
          0.7284644931660359,
          0.5600522003973967,
          0.7099120593812795,
          0.7255553390301451,
          0.7278746648923169,
          0.7273489429620474,
          0.7270595218510997,
          0.7222467419405881,
          0.728421972616315,
          0.7244642387792501,
          0.7282140668077791,
          0.7079282756404011,
          0.5921552204414358,
          0.7263511994960801,
          0.7282345794853837,
          0.6738842678512774,
          0.726595721459917,
          0.7284817141544727,
          0.7282254878281652,
          0.7250073851098865,
          0.7280433595866797,
          0.7282956485695578,
          0.7271532366653624,
          0.7235472417387194,
          0.7091743907993862,
          0.7282442062450807,
          0.7226989490742235,
          0.7268969804190109,
          0.7283770044140718,
          0.7283770044140718,
          0.7279385160512415,
          0.7246040121187499,
          0.6732665202149013,
          0.7282189293470236,
          0.6997347323408898,
          0.7279636956896254,
          0.7235661174177345,
          0.7251197172923161,
          0.7283770044140718,
          0.728461850676738,
          0.728208588402213,
          0.7271042901984386,
          0.7273619964180187,
          0.7267043722810427,
          0.5895525821185882,
          0.7098976318785415,
          0.7125766845299555,
          0.7244719763321372,
          0.7283770044140718,
          0.7255216467982981,
          0.727982444399779,
          0.7286560697249006,
          0.7278519863249489,
          0.7127976566339599,
          0.7268011948498279,
          0.7286699776249226,
          0.7278413605755278
         ],
         "yaxis": "y2"
        },
        {
         "marker": {
          "color": [
           0,
           1,
           2,
           3,
           4,
           5,
           6,
           7,
           8,
           9,
           10,
           11,
           12,
           13,
           14,
           15,
           16,
           17,
           18,
           19,
           20,
           21,
           22,
           23,
           24,
           25,
           26,
           27,
           28,
           29,
           30,
           31,
           32,
           33,
           34,
           35,
           36,
           37,
           38,
           39,
           40,
           41,
           42,
           43,
           44,
           45,
           46,
           47,
           48,
           49,
           50,
           51,
           52,
           53,
           54,
           55,
           56,
           57,
           58,
           59,
           60,
           61,
           62,
           63,
           64,
           65,
           66,
           67,
           68,
           69,
           70,
           71,
           72,
           73,
           74,
           75,
           76,
           77,
           78,
           79,
           80,
           81,
           82,
           83,
           84,
           85,
           86,
           87,
           88,
           89,
           90,
           91,
           92,
           93,
           94,
           95,
           96,
           97,
           98,
           99
          ],
          "colorbar": {
           "title": {
            "text": "Trial"
           },
           "x": 1,
           "xpad": 40
          },
          "colorscale": [
           [
            0,
            "rgb(247,251,255)"
           ],
           [
            0.125,
            "rgb(222,235,247)"
           ],
           [
            0.25,
            "rgb(198,219,239)"
           ],
           [
            0.375,
            "rgb(158,202,225)"
           ],
           [
            0.5,
            "rgb(107,174,214)"
           ],
           [
            0.625,
            "rgb(66,146,198)"
           ],
           [
            0.75,
            "rgb(33,113,181)"
           ],
           [
            0.875,
            "rgb(8,81,156)"
           ],
           [
            1,
            "rgb(8,48,107)"
           ]
          ],
          "line": {
           "color": "Grey",
           "width": 0.5
          },
          "showscale": false
         },
         "mode": "markers",
         "showlegend": false,
         "type": "scatter",
         "x": [
          8,
          8,
          6,
          8,
          7,
          2,
          7,
          2,
          3,
          3,
          5,
          5,
          6,
          6,
          7,
          6,
          4,
          4,
          1,
          4,
          5,
          4,
          4,
          3,
          5,
          4,
          6,
          3,
          2,
          5,
          4,
          4,
          4,
          3,
          6,
          5,
          7,
          8,
          4,
          2,
          3,
          4,
          4,
          5,
          5,
          6,
          5,
          6,
          7,
          5,
          3,
          4,
          4,
          5,
          3,
          4,
          6,
          5,
          4,
          4,
          7,
          7,
          6,
          7,
          3,
          8,
          5,
          6,
          5,
          4,
          8,
          4,
          4,
          3,
          4,
          4,
          5,
          3,
          4,
          1,
          7,
          4,
          4,
          4,
          4,
          3,
          5,
          4,
          5,
          4,
          4,
          4,
          4,
          4,
          3,
          2,
          3,
          3,
          2,
          2
         ],
         "xaxis": "x3",
         "y": [
          0.7266637747393532,
          0.6914276625272096,
          0.7276782345792143,
          0.7281240300894645,
          0.7268219164620651,
          0.7224010784176609,
          0.725747228263584,
          0.6692537609426215,
          0.7202658997610919,
          0.7241666320790918,
          0.3515757025157391,
          0.7271726679268725,
          0.7272571205864888,
          0.7291587014172538,
          0.7282254878281653,
          0.7261586722023219,
          0.728461850676738,
          0.728421972616315,
          0.7252890117437961,
          0.7094288009853303,
          0.5875836117239002,
          0.7283770044140718,
          0.7278604624609759,
          0.7269037511196936,
          0.7272752039584159,
          0.7244719763321372,
          0.7279164735222967,
          0.7189062012921158,
          0.31837593103181194,
          0.7223238927485436,
          0.7266390449217424,
          0.7283770044140718,
          0.6743745134752513,
          0.7235585405003322,
          0.7278884623496644,
          0.7257695337164196,
          0.7262500277046093,
          0.6742495274421119,
          0.7280685323119431,
          0.7217459716869996,
          0.6998456367949715,
          0.7270630760752617,
          0.7283770044140718,
          0.7284644931660359,
          0.5600522003973967,
          0.7099120593812795,
          0.7255553390301451,
          0.7278746648923169,
          0.7273489429620474,
          0.7270595218510997,
          0.7222467419405881,
          0.728421972616315,
          0.7244642387792501,
          0.7282140668077791,
          0.7079282756404011,
          0.5921552204414358,
          0.7263511994960801,
          0.7282345794853837,
          0.6738842678512774,
          0.726595721459917,
          0.7284817141544727,
          0.7282254878281652,
          0.7250073851098865,
          0.7280433595866797,
          0.7282956485695578,
          0.7271532366653624,
          0.7235472417387194,
          0.7091743907993862,
          0.7282442062450807,
          0.7226989490742235,
          0.7268969804190109,
          0.7283770044140718,
          0.7283770044140718,
          0.7279385160512415,
          0.7246040121187499,
          0.6732665202149013,
          0.7282189293470236,
          0.6997347323408898,
          0.7279636956896254,
          0.7235661174177345,
          0.7251197172923161,
          0.7283770044140718,
          0.728461850676738,
          0.728208588402213,
          0.7271042901984386,
          0.7273619964180187,
          0.7267043722810427,
          0.5895525821185882,
          0.7098976318785415,
          0.7125766845299555,
          0.7244719763321372,
          0.7283770044140718,
          0.7255216467982981,
          0.727982444399779,
          0.7286560697249006,
          0.7278519863249489,
          0.7127976566339599,
          0.7268011948498279,
          0.7286699776249226,
          0.7278413605755278
         ],
         "yaxis": "y3"
        },
        {
         "marker": {
          "color": [
           0,
           1,
           2,
           3,
           4,
           5,
           6,
           7,
           8,
           9,
           10,
           11,
           12,
           13,
           14,
           15,
           16,
           17,
           18,
           19,
           20,
           21,
           22,
           23,
           24,
           25,
           26,
           27,
           28,
           29,
           30,
           31,
           32,
           33,
           34,
           35,
           36,
           37,
           38,
           39,
           40,
           41,
           42,
           43,
           44,
           45,
           46,
           47,
           48,
           49,
           50,
           51,
           52,
           53,
           54,
           55,
           56,
           57,
           58,
           59,
           60,
           61,
           62,
           63,
           64,
           65,
           66,
           67,
           68,
           69,
           70,
           71,
           72,
           73,
           74,
           75,
           76,
           77,
           78,
           79,
           80,
           81,
           82,
           83,
           84,
           85,
           86,
           87,
           88,
           89,
           90,
           91,
           92,
           93,
           94,
           95,
           96,
           97,
           98,
           99
          ],
          "colorbar": {
           "title": {
            "text": "Trial"
           },
           "x": 1,
           "xpad": 40
          },
          "colorscale": [
           [
            0,
            "rgb(247,251,255)"
           ],
           [
            0.125,
            "rgb(222,235,247)"
           ],
           [
            0.25,
            "rgb(198,219,239)"
           ],
           [
            0.375,
            "rgb(158,202,225)"
           ],
           [
            0.5,
            "rgb(107,174,214)"
           ],
           [
            0.625,
            "rgb(66,146,198)"
           ],
           [
            0.75,
            "rgb(33,113,181)"
           ],
           [
            0.875,
            "rgb(8,81,156)"
           ],
           [
            1,
            "rgb(8,48,107)"
           ]
          ],
          "line": {
           "color": "Grey",
           "width": 0.5
          },
          "showscale": false
         },
         "mode": "markers",
         "showlegend": false,
         "type": "scatter",
         "x": [
          5,
          2,
          7,
          8,
          3,
          6,
          5,
          4,
          5,
          8,
          8,
          7,
          7,
          7,
          8,
          6,
          6,
          6,
          4,
          6,
          7,
          6,
          6,
          5,
          7,
          4,
          6,
          7,
          5,
          6,
          7,
          6,
          6,
          5,
          2,
          7,
          6,
          5,
          7,
          4,
          6,
          6,
          6,
          5,
          5,
          8,
          4,
          3,
          5,
          7,
          5,
          6,
          6,
          7,
          6,
          6,
          8,
          5,
          7,
          5,
          6,
          6,
          6,
          6,
          5,
          7,
          6,
          5,
          7,
          4,
          6,
          6,
          6,
          6,
          7,
          6,
          5,
          6,
          7,
          5,
          6,
          6,
          6,
          6,
          6,
          7,
          6,
          5,
          7,
          8,
          6,
          6,
          5,
          6,
          6,
          6,
          7,
          5,
          6,
          6
         ],
         "xaxis": "x4",
         "y": [
          0.7266637747393532,
          0.6914276625272096,
          0.7276782345792143,
          0.7281240300894645,
          0.7268219164620651,
          0.7224010784176609,
          0.725747228263584,
          0.6692537609426215,
          0.7202658997610919,
          0.7241666320790918,
          0.3515757025157391,
          0.7271726679268725,
          0.7272571205864888,
          0.7291587014172538,
          0.7282254878281653,
          0.7261586722023219,
          0.728461850676738,
          0.728421972616315,
          0.7252890117437961,
          0.7094288009853303,
          0.5875836117239002,
          0.7283770044140718,
          0.7278604624609759,
          0.7269037511196936,
          0.7272752039584159,
          0.7244719763321372,
          0.7279164735222967,
          0.7189062012921158,
          0.31837593103181194,
          0.7223238927485436,
          0.7266390449217424,
          0.7283770044140718,
          0.6743745134752513,
          0.7235585405003322,
          0.7278884623496644,
          0.7257695337164196,
          0.7262500277046093,
          0.6742495274421119,
          0.7280685323119431,
          0.7217459716869996,
          0.6998456367949715,
          0.7270630760752617,
          0.7283770044140718,
          0.7284644931660359,
          0.5600522003973967,
          0.7099120593812795,
          0.7255553390301451,
          0.7278746648923169,
          0.7273489429620474,
          0.7270595218510997,
          0.7222467419405881,
          0.728421972616315,
          0.7244642387792501,
          0.7282140668077791,
          0.7079282756404011,
          0.5921552204414358,
          0.7263511994960801,
          0.7282345794853837,
          0.6738842678512774,
          0.726595721459917,
          0.7284817141544727,
          0.7282254878281652,
          0.7250073851098865,
          0.7280433595866797,
          0.7282956485695578,
          0.7271532366653624,
          0.7235472417387194,
          0.7091743907993862,
          0.7282442062450807,
          0.7226989490742235,
          0.7268969804190109,
          0.7283770044140718,
          0.7283770044140718,
          0.7279385160512415,
          0.7246040121187499,
          0.6732665202149013,
          0.7282189293470236,
          0.6997347323408898,
          0.7279636956896254,
          0.7235661174177345,
          0.7251197172923161,
          0.7283770044140718,
          0.728461850676738,
          0.728208588402213,
          0.7271042901984386,
          0.7273619964180187,
          0.7267043722810427,
          0.5895525821185882,
          0.7098976318785415,
          0.7125766845299555,
          0.7244719763321372,
          0.7283770044140718,
          0.7255216467982981,
          0.727982444399779,
          0.7286560697249006,
          0.7278519863249489,
          0.7127976566339599,
          0.7268011948498279,
          0.7286699776249226,
          0.7278413605755278
         ],
         "yaxis": "y4"
        },
        {
         "marker": {
          "color": [
           0,
           1,
           2,
           3,
           4,
           5,
           6,
           7,
           8,
           9,
           10,
           11,
           12,
           13,
           14,
           15,
           16,
           17,
           18,
           19,
           20,
           21,
           22,
           23,
           24,
           25,
           26,
           27,
           28,
           29,
           30,
           31,
           32,
           33,
           34,
           35,
           36,
           37,
           38,
           39,
           40,
           41,
           42,
           43,
           44,
           45,
           46,
           47,
           48,
           49,
           50,
           51,
           52,
           53,
           54,
           55,
           56,
           57,
           58,
           59,
           60,
           61,
           62,
           63,
           64,
           65,
           66,
           67,
           68,
           69,
           70,
           71,
           72,
           73,
           74,
           75,
           76,
           77,
           78,
           79,
           80,
           81,
           82,
           83,
           84,
           85,
           86,
           87,
           88,
           89,
           90,
           91,
           92,
           93,
           94,
           95,
           96,
           97,
           98,
           99
          ],
          "colorbar": {
           "title": {
            "text": "Trial"
           },
           "x": 1,
           "xpad": 40
          },
          "colorscale": [
           [
            0,
            "rgb(247,251,255)"
           ],
           [
            0.125,
            "rgb(222,235,247)"
           ],
           [
            0.25,
            "rgb(198,219,239)"
           ],
           [
            0.375,
            "rgb(158,202,225)"
           ],
           [
            0.5,
            "rgb(107,174,214)"
           ],
           [
            0.625,
            "rgb(66,146,198)"
           ],
           [
            0.75,
            "rgb(33,113,181)"
           ],
           [
            0.875,
            "rgb(8,81,156)"
           ],
           [
            1,
            "rgb(8,48,107)"
           ]
          ],
          "line": {
           "color": "Grey",
           "width": 0.5
          },
          "showscale": false
         },
         "mode": "markers",
         "showlegend": false,
         "type": "scatter",
         "x": [
          80,
          20,
          150,
          120,
          190,
          190,
          100,
          200,
          160,
          70,
          130,
          130,
          150,
          160,
          110,
          40,
          100,
          80,
          160,
          60,
          100,
          90,
          50,
          80,
          130,
          110,
          170,
          30,
          70,
          80,
          90,
          90,
          60,
          90,
          110,
          140,
          100,
          120,
          70,
          180,
          120,
          90,
          90,
          100,
          100,
          80,
          60,
          140,
          120,
          110,
          100,
          80,
          200,
          70,
          50,
          90,
          80,
          70,
          100,
          80,
          110,
          110,
          120,
          100,
          140,
          110,
          160,
          130,
          80,
          90,
          50,
          90,
          90,
          190,
          100,
          80,
          110,
          170,
          70,
          60,
          90,
          90,
          100,
          100,
          110,
          100,
          120,
          80,
          70,
          130,
          110,
          90,
          20,
          100,
          90,
          80,
          90,
          100,
          120,
          120
         ],
         "xaxis": "x5",
         "y": [
          0.7266637747393532,
          0.6914276625272096,
          0.7276782345792143,
          0.7281240300894645,
          0.7268219164620651,
          0.7224010784176609,
          0.725747228263584,
          0.6692537609426215,
          0.7202658997610919,
          0.7241666320790918,
          0.3515757025157391,
          0.7271726679268725,
          0.7272571205864888,
          0.7291587014172538,
          0.7282254878281653,
          0.7261586722023219,
          0.728461850676738,
          0.728421972616315,
          0.7252890117437961,
          0.7094288009853303,
          0.5875836117239002,
          0.7283770044140718,
          0.7278604624609759,
          0.7269037511196936,
          0.7272752039584159,
          0.7244719763321372,
          0.7279164735222967,
          0.7189062012921158,
          0.31837593103181194,
          0.7223238927485436,
          0.7266390449217424,
          0.7283770044140718,
          0.6743745134752513,
          0.7235585405003322,
          0.7278884623496644,
          0.7257695337164196,
          0.7262500277046093,
          0.6742495274421119,
          0.7280685323119431,
          0.7217459716869996,
          0.6998456367949715,
          0.7270630760752617,
          0.7283770044140718,
          0.7284644931660359,
          0.5600522003973967,
          0.7099120593812795,
          0.7255553390301451,
          0.7278746648923169,
          0.7273489429620474,
          0.7270595218510997,
          0.7222467419405881,
          0.728421972616315,
          0.7244642387792501,
          0.7282140668077791,
          0.7079282756404011,
          0.5921552204414358,
          0.7263511994960801,
          0.7282345794853837,
          0.6738842678512774,
          0.726595721459917,
          0.7284817141544727,
          0.7282254878281652,
          0.7250073851098865,
          0.7280433595866797,
          0.7282956485695578,
          0.7271532366653624,
          0.7235472417387194,
          0.7091743907993862,
          0.7282442062450807,
          0.7226989490742235,
          0.7268969804190109,
          0.7283770044140718,
          0.7283770044140718,
          0.7279385160512415,
          0.7246040121187499,
          0.6732665202149013,
          0.7282189293470236,
          0.6997347323408898,
          0.7279636956896254,
          0.7235661174177345,
          0.7251197172923161,
          0.7283770044140718,
          0.728461850676738,
          0.728208588402213,
          0.7271042901984386,
          0.7273619964180187,
          0.7267043722810427,
          0.5895525821185882,
          0.7098976318785415,
          0.7125766845299555,
          0.7244719763321372,
          0.7283770044140718,
          0.7255216467982981,
          0.727982444399779,
          0.7286560697249006,
          0.7278519863249489,
          0.7127976566339599,
          0.7268011948498279,
          0.7286699776249226,
          0.7278413605755278
         ],
         "yaxis": "y5"
        }
       ],
       "layout": {
        "template": {
         "data": {
          "bar": [
           {
            "error_x": {
             "color": "#2a3f5f"
            },
            "error_y": {
             "color": "#2a3f5f"
            },
            "marker": {
             "line": {
              "color": "#E5ECF6",
              "width": 0.5
             },
             "pattern": {
              "fillmode": "overlay",
              "size": 10,
              "solidity": 0.2
             }
            },
            "type": "bar"
           }
          ],
          "barpolar": [
           {
            "marker": {
             "line": {
              "color": "#E5ECF6",
              "width": 0.5
             },
             "pattern": {
              "fillmode": "overlay",
              "size": 10,
              "solidity": 0.2
             }
            },
            "type": "barpolar"
           }
          ],
          "carpet": [
           {
            "aaxis": {
             "endlinecolor": "#2a3f5f",
             "gridcolor": "white",
             "linecolor": "white",
             "minorgridcolor": "white",
             "startlinecolor": "#2a3f5f"
            },
            "baxis": {
             "endlinecolor": "#2a3f5f",
             "gridcolor": "white",
             "linecolor": "white",
             "minorgridcolor": "white",
             "startlinecolor": "#2a3f5f"
            },
            "type": "carpet"
           }
          ],
          "choropleth": [
           {
            "colorbar": {
             "outlinewidth": 0,
             "ticks": ""
            },
            "type": "choropleth"
           }
          ],
          "contour": [
           {
            "colorbar": {
             "outlinewidth": 0,
             "ticks": ""
            },
            "colorscale": [
             [
              0,
              "#0d0887"
             ],
             [
              0.1111111111111111,
              "#46039f"
             ],
             [
              0.2222222222222222,
              "#7201a8"
             ],
             [
              0.3333333333333333,
              "#9c179e"
             ],
             [
              0.4444444444444444,
              "#bd3786"
             ],
             [
              0.5555555555555556,
              "#d8576b"
             ],
             [
              0.6666666666666666,
              "#ed7953"
             ],
             [
              0.7777777777777778,
              "#fb9f3a"
             ],
             [
              0.8888888888888888,
              "#fdca26"
             ],
             [
              1,
              "#f0f921"
             ]
            ],
            "type": "contour"
           }
          ],
          "contourcarpet": [
           {
            "colorbar": {
             "outlinewidth": 0,
             "ticks": ""
            },
            "type": "contourcarpet"
           }
          ],
          "heatmap": [
           {
            "colorbar": {
             "outlinewidth": 0,
             "ticks": ""
            },
            "colorscale": [
             [
              0,
              "#0d0887"
             ],
             [
              0.1111111111111111,
              "#46039f"
             ],
             [
              0.2222222222222222,
              "#7201a8"
             ],
             [
              0.3333333333333333,
              "#9c179e"
             ],
             [
              0.4444444444444444,
              "#bd3786"
             ],
             [
              0.5555555555555556,
              "#d8576b"
             ],
             [
              0.6666666666666666,
              "#ed7953"
             ],
             [
              0.7777777777777778,
              "#fb9f3a"
             ],
             [
              0.8888888888888888,
              "#fdca26"
             ],
             [
              1,
              "#f0f921"
             ]
            ],
            "type": "heatmap"
           }
          ],
          "heatmapgl": [
           {
            "colorbar": {
             "outlinewidth": 0,
             "ticks": ""
            },
            "colorscale": [
             [
              0,
              "#0d0887"
             ],
             [
              0.1111111111111111,
              "#46039f"
             ],
             [
              0.2222222222222222,
              "#7201a8"
             ],
             [
              0.3333333333333333,
              "#9c179e"
             ],
             [
              0.4444444444444444,
              "#bd3786"
             ],
             [
              0.5555555555555556,
              "#d8576b"
             ],
             [
              0.6666666666666666,
              "#ed7953"
             ],
             [
              0.7777777777777778,
              "#fb9f3a"
             ],
             [
              0.8888888888888888,
              "#fdca26"
             ],
             [
              1,
              "#f0f921"
             ]
            ],
            "type": "heatmapgl"
           }
          ],
          "histogram": [
           {
            "marker": {
             "pattern": {
              "fillmode": "overlay",
              "size": 10,
              "solidity": 0.2
             }
            },
            "type": "histogram"
           }
          ],
          "histogram2d": [
           {
            "colorbar": {
             "outlinewidth": 0,
             "ticks": ""
            },
            "colorscale": [
             [
              0,
              "#0d0887"
             ],
             [
              0.1111111111111111,
              "#46039f"
             ],
             [
              0.2222222222222222,
              "#7201a8"
             ],
             [
              0.3333333333333333,
              "#9c179e"
             ],
             [
              0.4444444444444444,
              "#bd3786"
             ],
             [
              0.5555555555555556,
              "#d8576b"
             ],
             [
              0.6666666666666666,
              "#ed7953"
             ],
             [
              0.7777777777777778,
              "#fb9f3a"
             ],
             [
              0.8888888888888888,
              "#fdca26"
             ],
             [
              1,
              "#f0f921"
             ]
            ],
            "type": "histogram2d"
           }
          ],
          "histogram2dcontour": [
           {
            "colorbar": {
             "outlinewidth": 0,
             "ticks": ""
            },
            "colorscale": [
             [
              0,
              "#0d0887"
             ],
             [
              0.1111111111111111,
              "#46039f"
             ],
             [
              0.2222222222222222,
              "#7201a8"
             ],
             [
              0.3333333333333333,
              "#9c179e"
             ],
             [
              0.4444444444444444,
              "#bd3786"
             ],
             [
              0.5555555555555556,
              "#d8576b"
             ],
             [
              0.6666666666666666,
              "#ed7953"
             ],
             [
              0.7777777777777778,
              "#fb9f3a"
             ],
             [
              0.8888888888888888,
              "#fdca26"
             ],
             [
              1,
              "#f0f921"
             ]
            ],
            "type": "histogram2dcontour"
           }
          ],
          "mesh3d": [
           {
            "colorbar": {
             "outlinewidth": 0,
             "ticks": ""
            },
            "type": "mesh3d"
           }
          ],
          "parcoords": [
           {
            "line": {
             "colorbar": {
              "outlinewidth": 0,
              "ticks": ""
             }
            },
            "type": "parcoords"
           }
          ],
          "pie": [
           {
            "automargin": true,
            "type": "pie"
           }
          ],
          "scatter": [
           {
            "fillpattern": {
             "fillmode": "overlay",
             "size": 10,
             "solidity": 0.2
            },
            "type": "scatter"
           }
          ],
          "scatter3d": [
           {
            "line": {
             "colorbar": {
              "outlinewidth": 0,
              "ticks": ""
             }
            },
            "marker": {
             "colorbar": {
              "outlinewidth": 0,
              "ticks": ""
             }
            },
            "type": "scatter3d"
           }
          ],
          "scattercarpet": [
           {
            "marker": {
             "colorbar": {
              "outlinewidth": 0,
              "ticks": ""
             }
            },
            "type": "scattercarpet"
           }
          ],
          "scattergeo": [
           {
            "marker": {
             "colorbar": {
              "outlinewidth": 0,
              "ticks": ""
             }
            },
            "type": "scattergeo"
           }
          ],
          "scattergl": [
           {
            "marker": {
             "colorbar": {
              "outlinewidth": 0,
              "ticks": ""
             }
            },
            "type": "scattergl"
           }
          ],
          "scattermapbox": [
           {
            "marker": {
             "colorbar": {
              "outlinewidth": 0,
              "ticks": ""
             }
            },
            "type": "scattermapbox"
           }
          ],
          "scatterpolar": [
           {
            "marker": {
             "colorbar": {
              "outlinewidth": 0,
              "ticks": ""
             }
            },
            "type": "scatterpolar"
           }
          ],
          "scatterpolargl": [
           {
            "marker": {
             "colorbar": {
              "outlinewidth": 0,
              "ticks": ""
             }
            },
            "type": "scatterpolargl"
           }
          ],
          "scatterternary": [
           {
            "marker": {
             "colorbar": {
              "outlinewidth": 0,
              "ticks": ""
             }
            },
            "type": "scatterternary"
           }
          ],
          "surface": [
           {
            "colorbar": {
             "outlinewidth": 0,
             "ticks": ""
            },
            "colorscale": [
             [
              0,
              "#0d0887"
             ],
             [
              0.1111111111111111,
              "#46039f"
             ],
             [
              0.2222222222222222,
              "#7201a8"
             ],
             [
              0.3333333333333333,
              "#9c179e"
             ],
             [
              0.4444444444444444,
              "#bd3786"
             ],
             [
              0.5555555555555556,
              "#d8576b"
             ],
             [
              0.6666666666666666,
              "#ed7953"
             ],
             [
              0.7777777777777778,
              "#fb9f3a"
             ],
             [
              0.8888888888888888,
              "#fdca26"
             ],
             [
              1,
              "#f0f921"
             ]
            ],
            "type": "surface"
           }
          ],
          "table": [
           {
            "cells": {
             "fill": {
              "color": "#EBF0F8"
             },
             "line": {
              "color": "white"
             }
            },
            "header": {
             "fill": {
              "color": "#C8D4E3"
             },
             "line": {
              "color": "white"
             }
            },
            "type": "table"
           }
          ]
         },
         "layout": {
          "annotationdefaults": {
           "arrowcolor": "#2a3f5f",
           "arrowhead": 0,
           "arrowwidth": 1
          },
          "autotypenumbers": "strict",
          "coloraxis": {
           "colorbar": {
            "outlinewidth": 0,
            "ticks": ""
           }
          },
          "colorscale": {
           "diverging": [
            [
             0,
             "#8e0152"
            ],
            [
             0.1,
             "#c51b7d"
            ],
            [
             0.2,
             "#de77ae"
            ],
            [
             0.3,
             "#f1b6da"
            ],
            [
             0.4,
             "#fde0ef"
            ],
            [
             0.5,
             "#f7f7f7"
            ],
            [
             0.6,
             "#e6f5d0"
            ],
            [
             0.7,
             "#b8e186"
            ],
            [
             0.8,
             "#7fbc41"
            ],
            [
             0.9,
             "#4d9221"
            ],
            [
             1,
             "#276419"
            ]
           ],
           "sequential": [
            [
             0,
             "#0d0887"
            ],
            [
             0.1111111111111111,
             "#46039f"
            ],
            [
             0.2222222222222222,
             "#7201a8"
            ],
            [
             0.3333333333333333,
             "#9c179e"
            ],
            [
             0.4444444444444444,
             "#bd3786"
            ],
            [
             0.5555555555555556,
             "#d8576b"
            ],
            [
             0.6666666666666666,
             "#ed7953"
            ],
            [
             0.7777777777777778,
             "#fb9f3a"
            ],
            [
             0.8888888888888888,
             "#fdca26"
            ],
            [
             1,
             "#f0f921"
            ]
           ],
           "sequentialminus": [
            [
             0,
             "#0d0887"
            ],
            [
             0.1111111111111111,
             "#46039f"
            ],
            [
             0.2222222222222222,
             "#7201a8"
            ],
            [
             0.3333333333333333,
             "#9c179e"
            ],
            [
             0.4444444444444444,
             "#bd3786"
            ],
            [
             0.5555555555555556,
             "#d8576b"
            ],
            [
             0.6666666666666666,
             "#ed7953"
            ],
            [
             0.7777777777777778,
             "#fb9f3a"
            ],
            [
             0.8888888888888888,
             "#fdca26"
            ],
            [
             1,
             "#f0f921"
            ]
           ]
          },
          "colorway": [
           "#636efa",
           "#EF553B",
           "#00cc96",
           "#ab63fa",
           "#FFA15A",
           "#19d3f3",
           "#FF6692",
           "#B6E880",
           "#FF97FF",
           "#FECB52"
          ],
          "font": {
           "color": "#2a3f5f"
          },
          "geo": {
           "bgcolor": "white",
           "lakecolor": "white",
           "landcolor": "#E5ECF6",
           "showlakes": true,
           "showland": true,
           "subunitcolor": "white"
          },
          "hoverlabel": {
           "align": "left"
          },
          "hovermode": "closest",
          "mapbox": {
           "style": "light"
          },
          "paper_bgcolor": "white",
          "plot_bgcolor": "#E5ECF6",
          "polar": {
           "angularaxis": {
            "gridcolor": "white",
            "linecolor": "white",
            "ticks": ""
           },
           "bgcolor": "#E5ECF6",
           "radialaxis": {
            "gridcolor": "white",
            "linecolor": "white",
            "ticks": ""
           }
          },
          "scene": {
           "xaxis": {
            "backgroundcolor": "#E5ECF6",
            "gridcolor": "white",
            "gridwidth": 2,
            "linecolor": "white",
            "showbackground": true,
            "ticks": "",
            "zerolinecolor": "white"
           },
           "yaxis": {
            "backgroundcolor": "#E5ECF6",
            "gridcolor": "white",
            "gridwidth": 2,
            "linecolor": "white",
            "showbackground": true,
            "ticks": "",
            "zerolinecolor": "white"
           },
           "zaxis": {
            "backgroundcolor": "#E5ECF6",
            "gridcolor": "white",
            "gridwidth": 2,
            "linecolor": "white",
            "showbackground": true,
            "ticks": "",
            "zerolinecolor": "white"
           }
          },
          "shapedefaults": {
           "line": {
            "color": "#2a3f5f"
           }
          },
          "ternary": {
           "aaxis": {
            "gridcolor": "white",
            "linecolor": "white",
            "ticks": ""
           },
           "baxis": {
            "gridcolor": "white",
            "linecolor": "white",
            "ticks": ""
           },
           "bgcolor": "#E5ECF6",
           "caxis": {
            "gridcolor": "white",
            "linecolor": "white",
            "ticks": ""
           }
          },
          "title": {
           "x": 0.05
          },
          "xaxis": {
           "automargin": true,
           "gridcolor": "white",
           "linecolor": "white",
           "ticks": "",
           "title": {
            "standoff": 15
           },
           "zerolinecolor": "white",
           "zerolinewidth": 2
          },
          "yaxis": {
           "automargin": true,
           "gridcolor": "white",
           "linecolor": "white",
           "ticks": "",
           "title": {
            "standoff": 15
           },
           "zerolinecolor": "white",
           "zerolinewidth": 2
          }
         }
        },
        "title": {
         "text": "Slice Plot"
        },
        "width": 1500,
        "xaxis": {
         "anchor": "y",
         "domain": [
          0,
          0.16799999999999998
         ],
         "title": {
          "text": "max_depth"
         }
        },
        "xaxis2": {
         "anchor": "y2",
         "domain": [
          0.208,
          0.376
         ],
         "title": {
          "text": "max_features"
         }
        },
        "xaxis3": {
         "anchor": "y3",
         "domain": [
          0.416,
          0.584
         ],
         "title": {
          "text": "min_samples_leaf"
         }
        },
        "xaxis4": {
         "anchor": "y4",
         "domain": [
          0.624,
          0.792
         ],
         "title": {
          "text": "min_samples_split"
         }
        },
        "xaxis5": {
         "anchor": "y5",
         "domain": [
          0.832,
          1
         ],
         "title": {
          "text": "n_estimators"
         }
        },
        "yaxis": {
         "anchor": "x",
         "domain": [
          0,
          1
         ],
         "title": {
          "text": "Objective Value"
         }
        },
        "yaxis2": {
         "anchor": "x2",
         "domain": [
          0,
          1
         ],
         "matches": "y",
         "showticklabels": false
        },
        "yaxis3": {
         "anchor": "x3",
         "domain": [
          0,
          1
         ],
         "matches": "y",
         "showticklabels": false
        },
        "yaxis4": {
         "anchor": "x4",
         "domain": [
          0,
          1
         ],
         "matches": "y",
         "showticklabels": false
        },
        "yaxis5": {
         "anchor": "x5",
         "domain": [
          0,
          1
         ],
         "matches": "y",
         "showticklabels": false
        }
       }
      }
     },
     "metadata": {},
     "output_type": "display_data"
    }
   ],
   "source": [
    "optuna.visualization.plot_slice(study)"
   ]
  },
  {
   "cell_type": "markdown",
   "metadata": {},
   "source": [
    "### AdaBoost"
   ]
  },
  {
   "cell_type": "code",
   "execution_count": 34,
   "metadata": {},
   "outputs": [
    {
     "name": "stderr",
     "output_type": "stream",
     "text": [
      "\u001b[32m[I 2022-11-22 16:39:49,803]\u001b[0m A new study created in memory with name: no-name-e0fc4147-2a72-4fe0-98a5-c93f9492089f\u001b[0m\n",
      "c:\\Users\\DELL\\.conda\\envs\\sparsesensing\\lib\\site-packages\\sklearn\\utils\\validation.py:1111: DataConversionWarning:\n",
      "\n",
      "A column-vector y was passed when a 1d array was expected. Please change the shape of y to (n_samples, ), for example using ravel().\n",
      "\n",
      "\u001b[32m[I 2022-11-22 16:40:06,303]\u001b[0m Trial 0 finished with value: 0.8889603558038552 and parameters: {'n_estimators': 156, 'learning_rate': 0.6099900386234557, 'loss': 'exponential'}. Best is trial 0 with value: 0.8889603558038552.\u001b[0m\n",
      "c:\\Users\\DELL\\.conda\\envs\\sparsesensing\\lib\\site-packages\\sklearn\\utils\\validation.py:1111: DataConversionWarning:\n",
      "\n",
      "A column-vector y was passed when a 1d array was expected. Please change the shape of y to (n_samples, ), for example using ravel().\n",
      "\n",
      "\u001b[32m[I 2022-11-22 16:40:46,626]\u001b[0m Trial 1 finished with value: 0.8896065503148924 and parameters: {'n_estimators': 446, 'learning_rate': 0.7149121813241174, 'loss': 'exponential'}. Best is trial 1 with value: 0.8896065503148924.\u001b[0m\n",
      "c:\\Users\\DELL\\.conda\\envs\\sparsesensing\\lib\\site-packages\\sklearn\\utils\\validation.py:1111: DataConversionWarning:\n",
      "\n",
      "A column-vector y was passed when a 1d array was expected. Please change the shape of y to (n_samples, ), for example using ravel().\n",
      "\n",
      "\u001b[32m[I 2022-11-22 16:41:33,439]\u001b[0m Trial 2 finished with value: 0.8922749835236559 and parameters: {'n_estimators': 386, 'learning_rate': 0.1392044551995674, 'loss': 'square'}. Best is trial 2 with value: 0.8922749835236559.\u001b[0m\n",
      "c:\\Users\\DELL\\.conda\\envs\\sparsesensing\\lib\\site-packages\\sklearn\\utils\\validation.py:1111: DataConversionWarning:\n",
      "\n",
      "A column-vector y was passed when a 1d array was expected. Please change the shape of y to (n_samples, ), for example using ravel().\n",
      "\n",
      "\u001b[32m[I 2022-11-22 16:41:47,521]\u001b[0m Trial 3 finished with value: 0.8859309018415747 and parameters: {'n_estimators': 97, 'learning_rate': 0.3904041647841706, 'loss': 'exponential'}. Best is trial 2 with value: 0.8922749835236559.\u001b[0m\n",
      "c:\\Users\\DELL\\.conda\\envs\\sparsesensing\\lib\\site-packages\\sklearn\\utils\\validation.py:1111: DataConversionWarning:\n",
      "\n",
      "A column-vector y was passed when a 1d array was expected. Please change the shape of y to (n_samples, ), for example using ravel().\n",
      "\n",
      "\u001b[32m[I 2022-11-22 16:42:05,742]\u001b[0m Trial 4 finished with value: 0.8905728090297617 and parameters: {'n_estimators': 230, 'learning_rate': 0.9557009215944255, 'loss': 'exponential'}. Best is trial 2 with value: 0.8922749835236559.\u001b[0m\n",
      "c:\\Users\\DELL\\.conda\\envs\\sparsesensing\\lib\\site-packages\\sklearn\\utils\\validation.py:1111: DataConversionWarning:\n",
      "\n",
      "A column-vector y was passed when a 1d array was expected. Please change the shape of y to (n_samples, ), for example using ravel().\n",
      "\n",
      "\u001b[32m[I 2022-11-22 16:42:42,509]\u001b[0m Trial 5 finished with value: 0.8904171965165667 and parameters: {'n_estimators': 421, 'learning_rate': 0.4198272253498478, 'loss': 'exponential'}. Best is trial 2 with value: 0.8922749835236559.\u001b[0m\n",
      "c:\\Users\\DELL\\.conda\\envs\\sparsesensing\\lib\\site-packages\\sklearn\\utils\\validation.py:1111: DataConversionWarning:\n",
      "\n",
      "A column-vector y was passed when a 1d array was expected. Please change the shape of y to (n_samples, ), for example using ravel().\n",
      "\n",
      "\u001b[32m[I 2022-11-22 16:43:03,539]\u001b[0m Trial 6 finished with value: 0.8927268014807933 and parameters: {'n_estimators': 174, 'learning_rate': 0.24975112886252285, 'loss': 'square'}. Best is trial 6 with value: 0.8927268014807933.\u001b[0m\n",
      "c:\\Users\\DELL\\.conda\\envs\\sparsesensing\\lib\\site-packages\\sklearn\\utils\\validation.py:1111: DataConversionWarning:\n",
      "\n",
      "A column-vector y was passed when a 1d array was expected. Please change the shape of y to (n_samples, ), for example using ravel().\n",
      "\n",
      "\u001b[32m[I 2022-11-22 16:43:26,704]\u001b[0m Trial 7 finished with value: 0.8953009926124939 and parameters: {'n_estimators': 299, 'learning_rate': 0.7517329259107745, 'loss': 'square'}. Best is trial 7 with value: 0.8953009926124939.\u001b[0m\n",
      "c:\\Users\\DELL\\.conda\\envs\\sparsesensing\\lib\\site-packages\\sklearn\\utils\\validation.py:1111: DataConversionWarning:\n",
      "\n",
      "A column-vector y was passed when a 1d array was expected. Please change the shape of y to (n_samples, ), for example using ravel().\n",
      "\n",
      "\u001b[32m[I 2022-11-22 16:44:01,485]\u001b[0m Trial 8 finished with value: 0.8948280684366646 and parameters: {'n_estimators': 345, 'learning_rate': 0.21017690461616417, 'loss': 'square'}. Best is trial 7 with value: 0.8953009926124939.\u001b[0m\n",
      "c:\\Users\\DELL\\.conda\\envs\\sparsesensing\\lib\\site-packages\\sklearn\\utils\\validation.py:1111: DataConversionWarning:\n",
      "\n",
      "A column-vector y was passed when a 1d array was expected. Please change the shape of y to (n_samples, ), for example using ravel().\n",
      "\n",
      "\u001b[32m[I 2022-11-22 16:44:24,889]\u001b[0m Trial 9 finished with value: 0.8924519615991853 and parameters: {'n_estimators': 213, 'learning_rate': 0.33105286468306155, 'loss': 'linear'}. Best is trial 7 with value: 0.8953009926124939.\u001b[0m\n",
      "c:\\Users\\DELL\\.conda\\envs\\sparsesensing\\lib\\site-packages\\sklearn\\utils\\validation.py:1111: DataConversionWarning:\n",
      "\n",
      "A column-vector y was passed when a 1d array was expected. Please change the shape of y to (n_samples, ), for example using ravel().\n",
      "\n",
      "\u001b[32m[I 2022-11-22 16:44:48,406]\u001b[0m Trial 10 finished with value: 0.8949769494195077 and parameters: {'n_estimators': 324, 'learning_rate': 0.8905272437405689, 'loss': 'linear'}. Best is trial 7 with value: 0.8953009926124939.\u001b[0m\n",
      "c:\\Users\\DELL\\.conda\\envs\\sparsesensing\\lib\\site-packages\\sklearn\\utils\\validation.py:1111: DataConversionWarning:\n",
      "\n",
      "A column-vector y was passed when a 1d array was expected. Please change the shape of y to (n_samples, ), for example using ravel().\n",
      "\n",
      "\u001b[32m[I 2022-11-22 16:45:10,745]\u001b[0m Trial 11 finished with value: 0.891749532209333 and parameters: {'n_estimators': 318, 'learning_rate': 0.8727300380523413, 'loss': 'linear'}. Best is trial 7 with value: 0.8953009926124939.\u001b[0m\n",
      "c:\\Users\\DELL\\.conda\\envs\\sparsesensing\\lib\\site-packages\\sklearn\\utils\\validation.py:1111: DataConversionWarning:\n",
      "\n",
      "A column-vector y was passed when a 1d array was expected. Please change the shape of y to (n_samples, ), for example using ravel().\n",
      "\n",
      "\u001b[32m[I 2022-11-22 16:45:33,799]\u001b[0m Trial 12 finished with value: 0.8922862212070134 and parameters: {'n_estimators': 299, 'learning_rate': 0.7656128956578864, 'loss': 'linear'}. Best is trial 7 with value: 0.8953009926124939.\u001b[0m\n",
      "c:\\Users\\DELL\\.conda\\envs\\sparsesensing\\lib\\site-packages\\sklearn\\utils\\validation.py:1111: DataConversionWarning:\n",
      "\n",
      "A column-vector y was passed when a 1d array was expected. Please change the shape of y to (n_samples, ), for example using ravel().\n",
      "\n",
      "\u001b[32m[I 2022-11-22 16:46:07,580]\u001b[0m Trial 13 finished with value: 0.8905761320084138 and parameters: {'n_estimators': 498, 'learning_rate': 0.5999230111597418, 'loss': 'linear'}. Best is trial 7 with value: 0.8953009926124939.\u001b[0m\n",
      "c:\\Users\\DELL\\.conda\\envs\\sparsesensing\\lib\\site-packages\\sklearn\\utils\\validation.py:1111: DataConversionWarning:\n",
      "\n",
      "A column-vector y was passed when a 1d array was expected. Please change the shape of y to (n_samples, ), for example using ravel().\n",
      "\n",
      "\u001b[32m[I 2022-11-22 16:46:28,623]\u001b[0m Trial 14 finished with value: 0.8950865931382194 and parameters: {'n_estimators': 298, 'learning_rate': 0.8426469025181466, 'loss': 'square'}. Best is trial 7 with value: 0.8953009926124939.\u001b[0m\n",
      "c:\\Users\\DELL\\.conda\\envs\\sparsesensing\\lib\\site-packages\\sklearn\\utils\\validation.py:1111: DataConversionWarning:\n",
      "\n",
      "A column-vector y was passed when a 1d array was expected. Please change the shape of y to (n_samples, ), for example using ravel().\n",
      "\n",
      "\u001b[32m[I 2022-11-22 16:46:33,509]\u001b[0m Trial 15 finished with value: 0.8918347056766425 and parameters: {'n_estimators': 40, 'learning_rate': 0.7540477068433294, 'loss': 'square'}. Best is trial 7 with value: 0.8953009926124939.\u001b[0m\n",
      "c:\\Users\\DELL\\.conda\\envs\\sparsesensing\\lib\\site-packages\\sklearn\\utils\\validation.py:1111: DataConversionWarning:\n",
      "\n",
      "A column-vector y was passed when a 1d array was expected. Please change the shape of y to (n_samples, ), for example using ravel().\n",
      "\n",
      "\u001b[32m[I 2022-11-22 16:46:52,752]\u001b[0m Trial 16 finished with value: 0.8956924828012784 and parameters: {'n_estimators': 260, 'learning_rate': 0.5707456799528166, 'loss': 'square'}. Best is trial 16 with value: 0.8956924828012784.\u001b[0m\n",
      "c:\\Users\\DELL\\.conda\\envs\\sparsesensing\\lib\\site-packages\\sklearn\\utils\\validation.py:1111: DataConversionWarning:\n",
      "\n",
      "A column-vector y was passed when a 1d array was expected. Please change the shape of y to (n_samples, ), for example using ravel().\n",
      "\n",
      "\u001b[32m[I 2022-11-22 16:47:18,493]\u001b[0m Trial 17 finished with value: 0.8938063790245746 and parameters: {'n_estimators': 241, 'learning_rate': 0.5214330258297506, 'loss': 'square'}. Best is trial 16 with value: 0.8956924828012784.\u001b[0m\n",
      "c:\\Users\\DELL\\.conda\\envs\\sparsesensing\\lib\\site-packages\\sklearn\\utils\\validation.py:1111: DataConversionWarning:\n",
      "\n",
      "A column-vector y was passed when a 1d array was expected. Please change the shape of y to (n_samples, ), for example using ravel().\n",
      "\n",
      "\u001b[32m[I 2022-11-22 16:47:32,251]\u001b[0m Trial 18 finished with value: 0.89720616909111 and parameters: {'n_estimators': 159, 'learning_rate': 0.6142028184381652, 'loss': 'square'}. Best is trial 18 with value: 0.89720616909111.\u001b[0m\n",
      "c:\\Users\\DELL\\.conda\\envs\\sparsesensing\\lib\\site-packages\\sklearn\\utils\\validation.py:1111: DataConversionWarning:\n",
      "\n",
      "A column-vector y was passed when a 1d array was expected. Please change the shape of y to (n_samples, ), for example using ravel().\n",
      "\n",
      "\u001b[32m[I 2022-11-22 16:47:57,257]\u001b[0m Trial 19 finished with value: 0.8129123266849139 and parameters: {'n_estimators': 146, 'learning_rate': 0.02073593161360321, 'loss': 'square'}. Best is trial 18 with value: 0.89720616909111.\u001b[0m\n",
      "c:\\Users\\DELL\\.conda\\envs\\sparsesensing\\lib\\site-packages\\sklearn\\utils\\validation.py:1111: DataConversionWarning:\n",
      "\n",
      "A column-vector y was passed when a 1d array was expected. Please change the shape of y to (n_samples, ), for example using ravel().\n",
      "\n",
      "\u001b[32m[I 2022-11-22 16:48:07,956]\u001b[0m Trial 20 finished with value: 0.8926479973318396 and parameters: {'n_estimators': 86, 'learning_rate': 0.5360586858434426, 'loss': 'square'}. Best is trial 18 with value: 0.89720616909111.\u001b[0m\n",
      "c:\\Users\\DELL\\.conda\\envs\\sparsesensing\\lib\\site-packages\\sklearn\\utils\\validation.py:1111: DataConversionWarning:\n",
      "\n",
      "A column-vector y was passed when a 1d array was expected. Please change the shape of y to (n_samples, ), for example using ravel().\n",
      "\n",
      "\u001b[32m[I 2022-11-22 16:48:26,945]\u001b[0m Trial 21 finished with value: 0.8963734274283496 and parameters: {'n_estimators': 260, 'learning_rate': 0.6988944987587853, 'loss': 'square'}. Best is trial 18 with value: 0.89720616909111.\u001b[0m\n",
      "c:\\Users\\DELL\\.conda\\envs\\sparsesensing\\lib\\site-packages\\sklearn\\utils\\validation.py:1111: DataConversionWarning:\n",
      "\n",
      "A column-vector y was passed when a 1d array was expected. Please change the shape of y to (n_samples, ), for example using ravel().\n",
      "\n",
      "\u001b[32m[I 2022-11-22 16:48:42,604]\u001b[0m Trial 22 finished with value: 0.8952485725799 and parameters: {'n_estimators': 194, 'learning_rate': 0.6373936777408871, 'loss': 'square'}. Best is trial 18 with value: 0.89720616909111.\u001b[0m\n",
      "c:\\Users\\DELL\\.conda\\envs\\sparsesensing\\lib\\site-packages\\sklearn\\utils\\validation.py:1111: DataConversionWarning:\n",
      "\n",
      "A column-vector y was passed when a 1d array was expected. Please change the shape of y to (n_samples, ), for example using ravel().\n",
      "\n",
      "\u001b[32m[I 2022-11-22 16:49:03,996]\u001b[0m Trial 23 finished with value: 0.894841555031468 and parameters: {'n_estimators': 271, 'learning_rate': 0.4354956858238501, 'loss': 'square'}. Best is trial 18 with value: 0.89720616909111.\u001b[0m\n",
      "c:\\Users\\DELL\\.conda\\envs\\sparsesensing\\lib\\site-packages\\sklearn\\utils\\validation.py:1111: DataConversionWarning:\n",
      "\n",
      "A column-vector y was passed when a 1d array was expected. Please change the shape of y to (n_samples, ), for example using ravel().\n",
      "\n",
      "\u001b[32m[I 2022-11-22 16:49:14,220]\u001b[0m Trial 24 finished with value: 0.8956599195139403 and parameters: {'n_estimators': 118, 'learning_rate': 0.6713060446105712, 'loss': 'square'}. Best is trial 18 with value: 0.89720616909111.\u001b[0m\n",
      "c:\\Users\\DELL\\.conda\\envs\\sparsesensing\\lib\\site-packages\\sklearn\\utils\\validation.py:1111: DataConversionWarning:\n",
      "\n",
      "A column-vector y was passed when a 1d array was expected. Please change the shape of y to (n_samples, ), for example using ravel().\n",
      "\n",
      "\u001b[32m[I 2022-11-22 16:49:41,498]\u001b[0m Trial 25 finished with value: 0.8950827715575551 and parameters: {'n_estimators': 253, 'learning_rate': 0.5333811631409214, 'loss': 'square'}. Best is trial 18 with value: 0.89720616909111.\u001b[0m\n",
      "c:\\Users\\DELL\\.conda\\envs\\sparsesensing\\lib\\site-packages\\sklearn\\utils\\validation.py:1111: DataConversionWarning:\n",
      "\n",
      "A column-vector y was passed when a 1d array was expected. Please change the shape of y to (n_samples, ), for example using ravel().\n",
      "\n",
      "\u001b[32m[I 2022-11-22 16:50:13,669]\u001b[0m Trial 26 finished with value: 0.8934366549373995 and parameters: {'n_estimators': 361, 'learning_rate': 0.4770881836402112, 'loss': 'square'}. Best is trial 18 with value: 0.89720616909111.\u001b[0m\n",
      "c:\\Users\\DELL\\.conda\\envs\\sparsesensing\\lib\\site-packages\\sklearn\\utils\\validation.py:1111: DataConversionWarning:\n",
      "\n",
      "A column-vector y was passed when a 1d array was expected. Please change the shape of y to (n_samples, ), for example using ravel().\n",
      "\n",
      "\u001b[32m[I 2022-11-22 16:50:17,772]\u001b[0m Trial 27 finished with value: 0.8879674626029831 and parameters: {'n_estimators': 31, 'learning_rate': 0.995863651837834, 'loss': 'square'}. Best is trial 18 with value: 0.89720616909111.\u001b[0m\n",
      "c:\\Users\\DELL\\.conda\\envs\\sparsesensing\\lib\\site-packages\\sklearn\\utils\\validation.py:1111: DataConversionWarning:\n",
      "\n",
      "A column-vector y was passed when a 1d array was expected. Please change the shape of y to (n_samples, ), for example using ravel().\n",
      "\n",
      "\u001b[32m[I 2022-11-22 16:50:32,095]\u001b[0m Trial 28 finished with value: 0.8949260230720462 and parameters: {'n_estimators': 194, 'learning_rate': 0.8003428455939627, 'loss': 'square'}. Best is trial 18 with value: 0.89720616909111.\u001b[0m\n",
      "c:\\Users\\DELL\\.conda\\envs\\sparsesensing\\lib\\site-packages\\sklearn\\utils\\validation.py:1111: DataConversionWarning:\n",
      "\n",
      "A column-vector y was passed when a 1d array was expected. Please change the shape of y to (n_samples, ), for example using ravel().\n",
      "\n",
      "\u001b[32m[I 2022-11-22 16:50:46,700]\u001b[0m Trial 29 finished with value: 0.8958925851387107 and parameters: {'n_estimators': 147, 'learning_rate': 0.581970899065447, 'loss': 'square'}. Best is trial 18 with value: 0.89720616909111.\u001b[0m\n",
      "c:\\Users\\DELL\\.conda\\envs\\sparsesensing\\lib\\site-packages\\sklearn\\utils\\validation.py:1111: DataConversionWarning:\n",
      "\n",
      "A column-vector y was passed when a 1d array was expected. Please change the shape of y to (n_samples, ), for example using ravel().\n",
      "\n",
      "\u001b[32m[I 2022-11-22 16:51:02,101]\u001b[0m Trial 30 finished with value: 0.8920790044147913 and parameters: {'n_estimators': 151, 'learning_rate': 0.6933956741746881, 'loss': 'exponential'}. Best is trial 18 with value: 0.89720616909111.\u001b[0m\n",
      "c:\\Users\\DELL\\.conda\\envs\\sparsesensing\\lib\\site-packages\\sklearn\\utils\\validation.py:1111: DataConversionWarning:\n",
      "\n",
      "A column-vector y was passed when a 1d array was expected. Please change the shape of y to (n_samples, ), for example using ravel().\n",
      "\n",
      "\u001b[32m[I 2022-11-22 16:51:14,282]\u001b[0m Trial 31 finished with value: 0.8982148411372156 and parameters: {'n_estimators': 127, 'learning_rate': 0.5940597107431921, 'loss': 'square'}. Best is trial 31 with value: 0.8982148411372156.\u001b[0m\n",
      "c:\\Users\\DELL\\.conda\\envs\\sparsesensing\\lib\\site-packages\\sklearn\\utils\\validation.py:1111: DataConversionWarning:\n",
      "\n",
      "A column-vector y was passed when a 1d array was expected. Please change the shape of y to (n_samples, ), for example using ravel().\n",
      "\n",
      "\u001b[32m[I 2022-11-22 16:51:25,549]\u001b[0m Trial 32 finished with value: 0.8929448059182311 and parameters: {'n_estimators': 118, 'learning_rate': 0.6185457052487281, 'loss': 'square'}. Best is trial 31 with value: 0.8982148411372156.\u001b[0m\n",
      "c:\\Users\\DELL\\.conda\\envs\\sparsesensing\\lib\\site-packages\\sklearn\\utils\\validation.py:1111: DataConversionWarning:\n",
      "\n",
      "A column-vector y was passed when a 1d array was expected. Please change the shape of y to (n_samples, ), for example using ravel().\n",
      "\n",
      "\u001b[32m[I 2022-11-22 16:51:32,398]\u001b[0m Trial 33 finished with value: 0.8919633143889374 and parameters: {'n_estimators': 65, 'learning_rate': 0.6780862064750025, 'loss': 'square'}. Best is trial 31 with value: 0.8982148411372156.\u001b[0m\n",
      "c:\\Users\\DELL\\.conda\\envs\\sparsesensing\\lib\\site-packages\\sklearn\\utils\\validation.py:1111: DataConversionWarning:\n",
      "\n",
      "A column-vector y was passed when a 1d array was expected. Please change the shape of y to (n_samples, ), for example using ravel().\n",
      "\n",
      "\u001b[32m[I 2022-11-22 16:51:45,807]\u001b[0m Trial 34 finished with value: 0.8948132421934106 and parameters: {'n_estimators': 137, 'learning_rate': 0.477416780425475, 'loss': 'square'}. Best is trial 31 with value: 0.8982148411372156.\u001b[0m\n",
      "c:\\Users\\DELL\\.conda\\envs\\sparsesensing\\lib\\site-packages\\sklearn\\utils\\validation.py:1111: DataConversionWarning:\n",
      "\n",
      "A column-vector y was passed when a 1d array was expected. Please change the shape of y to (n_samples, ), for example using ravel().\n",
      "\n",
      "\u001b[32m[I 2022-11-22 16:52:04,273]\u001b[0m Trial 35 finished with value: 0.8945069035167738 and parameters: {'n_estimators': 176, 'learning_rate': 0.5857917309738931, 'loss': 'exponential'}. Best is trial 31 with value: 0.8982148411372156.\u001b[0m\n",
      "c:\\Users\\DELL\\.conda\\envs\\sparsesensing\\lib\\site-packages\\sklearn\\utils\\validation.py:1111: DataConversionWarning:\n",
      "\n",
      "A column-vector y was passed when a 1d array was expected. Please change the shape of y to (n_samples, ), for example using ravel().\n",
      "\n",
      "\u001b[32m[I 2022-11-22 16:52:14,330]\u001b[0m Trial 36 finished with value: 0.8883044016317957 and parameters: {'n_estimators': 81, 'learning_rate': 0.3480613554113581, 'loss': 'square'}. Best is trial 31 with value: 0.8982148411372156.\u001b[0m\n",
      "c:\\Users\\DELL\\.conda\\envs\\sparsesensing\\lib\\site-packages\\sklearn\\utils\\validation.py:1111: DataConversionWarning:\n",
      "\n",
      "A column-vector y was passed when a 1d array was expected. Please change the shape of y to (n_samples, ), for example using ravel().\n",
      "\n",
      "\u001b[32m[I 2022-11-22 16:52:30,462]\u001b[0m Trial 37 finished with value: 0.8929227741014135 and parameters: {'n_estimators': 173, 'learning_rate': 0.6612499034278456, 'loss': 'exponential'}. Best is trial 31 with value: 0.8982148411372156.\u001b[0m\n",
      "c:\\Users\\DELL\\.conda\\envs\\sparsesensing\\lib\\site-packages\\sklearn\\utils\\validation.py:1111: DataConversionWarning:\n",
      "\n",
      "A column-vector y was passed when a 1d array was expected. Please change the shape of y to (n_samples, ), for example using ravel().\n",
      "\n",
      "\u001b[32m[I 2022-11-22 16:52:40,426]\u001b[0m Trial 38 finished with value: 0.8953246554102761 and parameters: {'n_estimators': 116, 'learning_rate': 0.7415010607813262, 'loss': 'square'}. Best is trial 31 with value: 0.8982148411372156.\u001b[0m\n",
      "c:\\Users\\DELL\\.conda\\envs\\sparsesensing\\lib\\site-packages\\sklearn\\utils\\validation.py:1111: DataConversionWarning:\n",
      "\n",
      "A column-vector y was passed when a 1d array was expected. Please change the shape of y to (n_samples, ), for example using ravel().\n",
      "\n",
      "\u001b[32m[I 2022-11-22 16:52:56,018]\u001b[0m Trial 39 finished with value: 0.8938479055627657 and parameters: {'n_estimators': 201, 'learning_rate': 0.8196685484178343, 'loss': 'square'}. Best is trial 31 with value: 0.8982148411372156.\u001b[0m\n",
      "c:\\Users\\DELL\\.conda\\envs\\sparsesensing\\lib\\site-packages\\sklearn\\utils\\validation.py:1111: DataConversionWarning:\n",
      "\n",
      "A column-vector y was passed when a 1d array was expected. Please change the shape of y to (n_samples, ), for example using ravel().\n",
      "\n",
      "\u001b[32m[I 2022-11-22 16:53:05,672]\u001b[0m Trial 40 finished with value: 0.881102631637733 and parameters: {'n_estimators': 65, 'learning_rate': 0.39821374792653186, 'loss': 'exponential'}. Best is trial 31 with value: 0.8982148411372156.\u001b[0m\n",
      "c:\\Users\\DELL\\.conda\\envs\\sparsesensing\\lib\\site-packages\\sklearn\\utils\\validation.py:1111: DataConversionWarning:\n",
      "\n",
      "A column-vector y was passed when a 1d array was expected. Please change the shape of y to (n_samples, ), for example using ravel().\n",
      "\n",
      "\u001b[32m[I 2022-11-22 16:53:26,956]\u001b[0m Trial 41 finished with value: 0.8958065939411323 and parameters: {'n_estimators': 274, 'learning_rate': 0.568925673743071, 'loss': 'square'}. Best is trial 31 with value: 0.8982148411372156.\u001b[0m\n",
      "c:\\Users\\DELL\\.conda\\envs\\sparsesensing\\lib\\site-packages\\sklearn\\utils\\validation.py:1111: DataConversionWarning:\n",
      "\n",
      "A column-vector y was passed when a 1d array was expected. Please change the shape of y to (n_samples, ), for example using ravel().\n",
      "\n",
      "\u001b[32m[I 2022-11-22 16:53:47,832]\u001b[0m Trial 42 finished with value: 0.8959249120870175 and parameters: {'n_estimators': 277, 'learning_rate': 0.5693539212296136, 'loss': 'square'}. Best is trial 31 with value: 0.8982148411372156.\u001b[0m\n",
      "c:\\Users\\DELL\\.conda\\envs\\sparsesensing\\lib\\site-packages\\sklearn\\utils\\validation.py:1111: DataConversionWarning:\n",
      "\n",
      "A column-vector y was passed when a 1d array was expected. Please change the shape of y to (n_samples, ), for example using ravel().\n",
      "\n",
      "\u001b[32m[I 2022-11-22 16:54:06,040]\u001b[0m Trial 43 finished with value: 0.8955909622193347 and parameters: {'n_estimators': 223, 'learning_rate': 0.4640910322526489, 'loss': 'square'}. Best is trial 31 with value: 0.8982148411372156.\u001b[0m\n",
      "c:\\Users\\DELL\\.conda\\envs\\sparsesensing\\lib\\site-packages\\sklearn\\utils\\validation.py:1111: DataConversionWarning:\n",
      "\n",
      "A column-vector y was passed when a 1d array was expected. Please change the shape of y to (n_samples, ), for example using ravel().\n",
      "\n",
      "\u001b[32m[I 2022-11-22 16:54:22,249]\u001b[0m Trial 44 finished with value: 0.8947361053595324 and parameters: {'n_estimators': 228, 'learning_rate': 0.7051156394916395, 'loss': 'square'}. Best is trial 31 with value: 0.8982148411372156.\u001b[0m\n",
      "c:\\Users\\DELL\\.conda\\envs\\sparsesensing\\lib\\site-packages\\sklearn\\utils\\validation.py:1111: DataConversionWarning:\n",
      "\n",
      "A column-vector y was passed when a 1d array was expected. Please change the shape of y to (n_samples, ), for example using ravel().\n",
      "\n",
      "\u001b[32m[I 2022-11-22 16:54:51,859]\u001b[0m Trial 45 finished with value: 0.891510484613614 and parameters: {'n_estimators': 420, 'learning_rate': 0.6146098843606057, 'loss': 'linear'}. Best is trial 31 with value: 0.8982148411372156.\u001b[0m\n",
      "c:\\Users\\DELL\\.conda\\envs\\sparsesensing\\lib\\site-packages\\sklearn\\utils\\validation.py:1111: DataConversionWarning:\n",
      "\n",
      "A column-vector y was passed when a 1d array was expected. Please change the shape of y to (n_samples, ), for example using ravel().\n",
      "\n",
      "\u001b[32m[I 2022-11-22 16:55:06,087]\u001b[0m Trial 46 finished with value: 0.8943780762299391 and parameters: {'n_estimators': 175, 'learning_rate': 0.559036808861983, 'loss': 'square'}. Best is trial 31 with value: 0.8982148411372156.\u001b[0m\n",
      "c:\\Users\\DELL\\.conda\\envs\\sparsesensing\\lib\\site-packages\\sklearn\\utils\\validation.py:1111: DataConversionWarning:\n",
      "\n",
      "A column-vector y was passed when a 1d array was expected. Please change the shape of y to (n_samples, ), for example using ravel().\n",
      "\n",
      "\u001b[32m[I 2022-11-22 16:55:17,001]\u001b[0m Trial 47 finished with value: 0.8946391574366704 and parameters: {'n_estimators': 131, 'learning_rate': 0.6495399289359687, 'loss': 'square'}. Best is trial 31 with value: 0.8982148411372156.\u001b[0m\n",
      "c:\\Users\\DELL\\.conda\\envs\\sparsesensing\\lib\\site-packages\\sklearn\\utils\\validation.py:1111: DataConversionWarning:\n",
      "\n",
      "A column-vector y was passed when a 1d array was expected. Please change the shape of y to (n_samples, ), for example using ravel().\n",
      "\n",
      "\u001b[32m[I 2022-11-22 16:55:47,859]\u001b[0m Trial 48 finished with value: 0.8924738338526121 and parameters: {'n_estimators': 344, 'learning_rate': 0.3377194856360153, 'loss': 'linear'}. Best is trial 31 with value: 0.8982148411372156.\u001b[0m\n",
      "c:\\Users\\DELL\\.conda\\envs\\sparsesensing\\lib\\site-packages\\sklearn\\utils\\validation.py:1111: DataConversionWarning:\n",
      "\n",
      "A column-vector y was passed when a 1d array was expected. Please change the shape of y to (n_samples, ), for example using ravel().\n",
      "\n",
      "\u001b[32m[I 2022-11-22 16:56:09,841]\u001b[0m Trial 49 finished with value: 0.8950019449584576 and parameters: {'n_estimators': 286, 'learning_rate': 0.5179419004206506, 'loss': 'square'}. Best is trial 31 with value: 0.8982148411372156.\u001b[0m\n",
      "c:\\Users\\DELL\\.conda\\envs\\sparsesensing\\lib\\site-packages\\sklearn\\utils\\validation.py:1111: DataConversionWarning:\n",
      "\n",
      "A column-vector y was passed when a 1d array was expected. Please change the shape of y to (n_samples, ), for example using ravel().\n",
      "\n",
      "\u001b[32m[I 2022-11-22 16:56:34,810]\u001b[0m Trial 50 finished with value: 0.8947355529394438 and parameters: {'n_estimators': 387, 'learning_rate': 0.7329184328200082, 'loss': 'square'}. Best is trial 31 with value: 0.8982148411372156.\u001b[0m\n",
      "c:\\Users\\DELL\\.conda\\envs\\sparsesensing\\lib\\site-packages\\sklearn\\utils\\validation.py:1111: DataConversionWarning:\n",
      "\n",
      "A column-vector y was passed when a 1d array was expected. Please change the shape of y to (n_samples, ), for example using ravel().\n",
      "\n",
      "\u001b[32m[I 2022-11-22 16:56:55,637]\u001b[0m Trial 51 finished with value: 0.8950669104452611 and parameters: {'n_estimators': 254, 'learning_rate': 0.5854366870203298, 'loss': 'square'}. Best is trial 31 with value: 0.8982148411372156.\u001b[0m\n",
      "c:\\Users\\DELL\\.conda\\envs\\sparsesensing\\lib\\site-packages\\sklearn\\utils\\validation.py:1111: DataConversionWarning:\n",
      "\n",
      "A column-vector y was passed when a 1d array was expected. Please change the shape of y to (n_samples, ), for example using ravel().\n",
      "\n",
      "\u001b[32m[I 2022-11-22 16:57:21,431]\u001b[0m Trial 52 finished with value: 0.8931679029962742 and parameters: {'n_estimators': 316, 'learning_rate': 0.5651898360890383, 'loss': 'square'}. Best is trial 31 with value: 0.8982148411372156.\u001b[0m\n",
      "c:\\Users\\DELL\\.conda\\envs\\sparsesensing\\lib\\site-packages\\sklearn\\utils\\validation.py:1111: DataConversionWarning:\n",
      "\n",
      "A column-vector y was passed when a 1d array was expected. Please change the shape of y to (n_samples, ), for example using ravel().\n",
      "\n",
      "\u001b[32m[I 2022-11-22 16:57:42,672]\u001b[0m Trial 53 finished with value: 0.8967424202095614 and parameters: {'n_estimators': 272, 'learning_rate': 0.7829679953971294, 'loss': 'square'}. Best is trial 31 with value: 0.8982148411372156.\u001b[0m\n",
      "c:\\Users\\DELL\\.conda\\envs\\sparsesensing\\lib\\site-packages\\sklearn\\utils\\validation.py:1111: DataConversionWarning:\n",
      "\n",
      "A column-vector y was passed when a 1d array was expected. Please change the shape of y to (n_samples, ), for example using ravel().\n",
      "\n",
      "\u001b[32m[I 2022-11-22 16:57:57,180]\u001b[0m Trial 54 finished with value: 0.8963968276441721 and parameters: {'n_estimators': 163, 'learning_rate': 0.7916526563704643, 'loss': 'square'}. Best is trial 31 with value: 0.8982148411372156.\u001b[0m\n",
      "c:\\Users\\DELL\\.conda\\envs\\sparsesensing\\lib\\site-packages\\sklearn\\utils\\validation.py:1111: DataConversionWarning:\n",
      "\n",
      "A column-vector y was passed when a 1d array was expected. Please change the shape of y to (n_samples, ), for example using ravel().\n",
      "\n",
      "\u001b[32m[I 2022-11-22 16:58:14,319]\u001b[0m Trial 55 finished with value: 0.8980547968811317 and parameters: {'n_estimators': 209, 'learning_rate': 0.8714970539087565, 'loss': 'square'}. Best is trial 31 with value: 0.8982148411372156.\u001b[0m\n",
      "c:\\Users\\DELL\\.conda\\envs\\sparsesensing\\lib\\site-packages\\sklearn\\utils\\validation.py:1111: DataConversionWarning:\n",
      "\n",
      "A column-vector y was passed when a 1d array was expected. Please change the shape of y to (n_samples, ), for example using ravel().\n",
      "\n",
      "\u001b[32m[I 2022-11-22 16:58:32,604]\u001b[0m Trial 56 finished with value: 0.8985887860072583 and parameters: {'n_estimators': 210, 'learning_rate': 0.9024721381202176, 'loss': 'square'}. Best is trial 56 with value: 0.8985887860072583.\u001b[0m\n",
      "c:\\Users\\DELL\\.conda\\envs\\sparsesensing\\lib\\site-packages\\sklearn\\utils\\validation.py:1111: DataConversionWarning:\n",
      "\n",
      "A column-vector y was passed when a 1d array was expected. Please change the shape of y to (n_samples, ), for example using ravel().\n",
      "\n",
      "\u001b[32m[I 2022-11-22 16:58:51,447]\u001b[0m Trial 57 finished with value: 0.8926309535829337 and parameters: {'n_estimators': 210, 'learning_rate': 0.9094017522822844, 'loss': 'linear'}. Best is trial 56 with value: 0.8985887860072583.\u001b[0m\n",
      "c:\\Users\\DELL\\.conda\\envs\\sparsesensing\\lib\\site-packages\\sklearn\\utils\\validation.py:1111: DataConversionWarning:\n",
      "\n",
      "A column-vector y was passed when a 1d array was expected. Please change the shape of y to (n_samples, ), for example using ravel().\n",
      "\n",
      "\u001b[32m[I 2022-11-22 16:59:07,368]\u001b[0m Trial 58 finished with value: 0.8970391918561055 and parameters: {'n_estimators': 168, 'learning_rate': 0.9322757224923628, 'loss': 'square'}. Best is trial 56 with value: 0.8985887860072583.\u001b[0m\n",
      "c:\\Users\\DELL\\.conda\\envs\\sparsesensing\\lib\\site-packages\\sklearn\\utils\\validation.py:1111: DataConversionWarning:\n",
      "\n",
      "A column-vector y was passed when a 1d array was expected. Please change the shape of y to (n_samples, ), for example using ravel().\n",
      "\n",
      "\u001b[32m[I 2022-11-22 16:59:25,817]\u001b[0m Trial 59 finished with value: 0.8912470758246518 and parameters: {'n_estimators': 240, 'learning_rate': 0.9513148240054681, 'loss': 'square'}. Best is trial 56 with value: 0.8985887860072583.\u001b[0m\n",
      "c:\\Users\\DELL\\.conda\\envs\\sparsesensing\\lib\\site-packages\\sklearn\\utils\\validation.py:1111: DataConversionWarning:\n",
      "\n",
      "A column-vector y was passed when a 1d array was expected. Please change the shape of y to (n_samples, ), for example using ravel().\n",
      "\n",
      "\u001b[32m[I 2022-11-22 16:59:43,924]\u001b[0m Trial 60 finished with value: 0.8941080931466211 and parameters: {'n_estimators': 188, 'learning_rate': 0.8744163888801101, 'loss': 'exponential'}. Best is trial 56 with value: 0.8985887860072583.\u001b[0m\n",
      "c:\\Users\\DELL\\.conda\\envs\\sparsesensing\\lib\\site-packages\\sklearn\\utils\\validation.py:1111: DataConversionWarning:\n",
      "\n",
      "A column-vector y was passed when a 1d array was expected. Please change the shape of y to (n_samples, ), for example using ravel().\n",
      "\n",
      "\u001b[32m[I 2022-11-22 16:59:58,597]\u001b[0m Trial 61 finished with value: 0.8984479883397937 and parameters: {'n_estimators': 161, 'learning_rate': 0.9249696882061953, 'loss': 'square'}. Best is trial 56 with value: 0.8985887860072583.\u001b[0m\n",
      "c:\\Users\\DELL\\.conda\\envs\\sparsesensing\\lib\\site-packages\\sklearn\\utils\\validation.py:1111: DataConversionWarning:\n",
      "\n",
      "A column-vector y was passed when a 1d array was expected. Please change the shape of y to (n_samples, ), for example using ravel().\n",
      "\n",
      "\u001b[32m[I 2022-11-22 17:00:12,671]\u001b[0m Trial 62 finished with value: 0.9013347174113231 and parameters: {'n_estimators': 212, 'learning_rate': 0.9311107326380043, 'loss': 'square'}. Best is trial 62 with value: 0.9013347174113231.\u001b[0m\n",
      "c:\\Users\\DELL\\.conda\\envs\\sparsesensing\\lib\\site-packages\\sklearn\\utils\\validation.py:1111: DataConversionWarning:\n",
      "\n",
      "A column-vector y was passed when a 1d array was expected. Please change the shape of y to (n_samples, ), for example using ravel().\n",
      "\n",
      "\u001b[32m[I 2022-11-22 17:00:27,028]\u001b[0m Trial 63 finished with value: 0.9000841424411737 and parameters: {'n_estimators': 217, 'learning_rate': 0.921582903049922, 'loss': 'square'}. Best is trial 62 with value: 0.9013347174113231.\u001b[0m\n",
      "c:\\Users\\DELL\\.conda\\envs\\sparsesensing\\lib\\site-packages\\sklearn\\utils\\validation.py:1111: DataConversionWarning:\n",
      "\n",
      "A column-vector y was passed when a 1d array was expected. Please change the shape of y to (n_samples, ), for example using ravel().\n",
      "\n",
      "\u001b[32m[I 2022-11-22 17:00:41,870]\u001b[0m Trial 64 finished with value: 0.9001691280129934 and parameters: {'n_estimators': 215, 'learning_rate': 0.9754682108242829, 'loss': 'square'}. Best is trial 62 with value: 0.9013347174113231.\u001b[0m\n",
      "c:\\Users\\DELL\\.conda\\envs\\sparsesensing\\lib\\site-packages\\sklearn\\utils\\validation.py:1111: DataConversionWarning:\n",
      "\n",
      "A column-vector y was passed when a 1d array was expected. Please change the shape of y to (n_samples, ), for example using ravel().\n",
      "\n",
      "\u001b[32m[I 2022-11-22 17:00:56,863]\u001b[0m Trial 65 finished with value: 0.900561070780142 and parameters: {'n_estimators': 212, 'learning_rate': 0.9977091801842701, 'loss': 'square'}. Best is trial 62 with value: 0.9013347174113231.\u001b[0m\n",
      "c:\\Users\\DELL\\.conda\\envs\\sparsesensing\\lib\\site-packages\\sklearn\\utils\\validation.py:1111: DataConversionWarning:\n",
      "\n",
      "A column-vector y was passed when a 1d array was expected. Please change the shape of y to (n_samples, ), for example using ravel().\n",
      "\n",
      "\u001b[32m[I 2022-11-22 17:01:13,270]\u001b[0m Trial 66 finished with value: 0.8983171847675595 and parameters: {'n_estimators': 224, 'learning_rate': 0.9986356986301937, 'loss': 'square'}. Best is trial 62 with value: 0.9013347174113231.\u001b[0m\n",
      "c:\\Users\\DELL\\.conda\\envs\\sparsesensing\\lib\\site-packages\\sklearn\\utils\\validation.py:1111: DataConversionWarning:\n",
      "\n",
      "A column-vector y was passed when a 1d array was expected. Please change the shape of y to (n_samples, ), for example using ravel().\n",
      "\n",
      "\u001b[32m[I 2022-11-22 17:01:30,315]\u001b[0m Trial 67 finished with value: 0.8978713534691714 and parameters: {'n_estimators': 242, 'learning_rate': 0.9929781396216848, 'loss': 'square'}. Best is trial 62 with value: 0.9013347174113231.\u001b[0m\n",
      "c:\\Users\\DELL\\.conda\\envs\\sparsesensing\\lib\\site-packages\\sklearn\\utils\\validation.py:1111: DataConversionWarning:\n",
      "\n",
      "A column-vector y was passed when a 1d array was expected. Please change the shape of y to (n_samples, ), for example using ravel().\n",
      "\n",
      "\u001b[32m[I 2022-11-22 17:01:44,954]\u001b[0m Trial 68 finished with value: 0.8938909840046746 and parameters: {'n_estimators': 221, 'learning_rate': 0.9688863562310759, 'loss': 'square'}. Best is trial 62 with value: 0.9013347174113231.\u001b[0m\n",
      "c:\\Users\\DELL\\.conda\\envs\\sparsesensing\\lib\\site-packages\\sklearn\\utils\\validation.py:1111: DataConversionWarning:\n",
      "\n",
      "A column-vector y was passed when a 1d array was expected. Please change the shape of y to (n_samples, ), for example using ravel().\n",
      "\n",
      "\u001b[32m[I 2022-11-22 17:02:00,459]\u001b[0m Trial 69 finished with value: 0.899682960033432 and parameters: {'n_estimators': 185, 'learning_rate': 0.9106475987092291, 'loss': 'square'}. Best is trial 62 with value: 0.9013347174113231.\u001b[0m\n",
      "c:\\Users\\DELL\\.conda\\envs\\sparsesensing\\lib\\site-packages\\sklearn\\utils\\validation.py:1111: DataConversionWarning:\n",
      "\n",
      "A column-vector y was passed when a 1d array was expected. Please change the shape of y to (n_samples, ), for example using ravel().\n",
      "\n",
      "\u001b[32m[I 2022-11-22 17:02:16,631]\u001b[0m Trial 70 finished with value: 0.8970811229571553 and parameters: {'n_estimators': 196, 'learning_rate': 0.9175941600449603, 'loss': 'linear'}. Best is trial 62 with value: 0.9013347174113231.\u001b[0m\n",
      "c:\\Users\\DELL\\.conda\\envs\\sparsesensing\\lib\\site-packages\\sklearn\\utils\\validation.py:1111: DataConversionWarning:\n",
      "\n",
      "A column-vector y was passed when a 1d array was expected. Please change the shape of y to (n_samples, ), for example using ravel().\n",
      "\n",
      "\u001b[32m[I 2022-11-22 17:02:34,098]\u001b[0m Trial 71 finished with value: 0.8976909377402731 and parameters: {'n_estimators': 237, 'learning_rate': 0.8486426558910839, 'loss': 'square'}. Best is trial 62 with value: 0.9013347174113231.\u001b[0m\n",
      "c:\\Users\\DELL\\.conda\\envs\\sparsesensing\\lib\\site-packages\\sklearn\\utils\\validation.py:1111: DataConversionWarning:\n",
      "\n",
      "A column-vector y was passed when a 1d array was expected. Please change the shape of y to (n_samples, ), for example using ravel().\n",
      "\n",
      "\u001b[32m[I 2022-11-22 17:02:47,809]\u001b[0m Trial 72 finished with value: 0.8956333566697563 and parameters: {'n_estimators': 184, 'learning_rate': 0.9503449707741589, 'loss': 'square'}. Best is trial 62 with value: 0.9013347174113231.\u001b[0m\n",
      "c:\\Users\\DELL\\.conda\\envs\\sparsesensing\\lib\\site-packages\\sklearn\\utils\\validation.py:1111: DataConversionWarning:\n",
      "\n",
      "A column-vector y was passed when a 1d array was expected. Please change the shape of y to (n_samples, ), for example using ravel().\n",
      "\n",
      "\u001b[32m[I 2022-11-22 17:03:05,030]\u001b[0m Trial 73 finished with value: 0.8972031224980238 and parameters: {'n_estimators': 204, 'learning_rate': 0.974986890360473, 'loss': 'square'}. Best is trial 62 with value: 0.9013347174113231.\u001b[0m\n",
      "c:\\Users\\DELL\\.conda\\envs\\sparsesensing\\lib\\site-packages\\sklearn\\utils\\validation.py:1111: DataConversionWarning:\n",
      "\n",
      "A column-vector y was passed when a 1d array was expected. Please change the shape of y to (n_samples, ), for example using ravel().\n",
      "\n",
      "\u001b[32m[I 2022-11-22 17:03:19,817]\u001b[0m Trial 74 finished with value: 0.8958922337762096 and parameters: {'n_estimators': 215, 'learning_rate': 0.8988337302655309, 'loss': 'square'}. Best is trial 62 with value: 0.9013347174113231.\u001b[0m\n",
      "c:\\Users\\DELL\\.conda\\envs\\sparsesensing\\lib\\site-packages\\sklearn\\utils\\validation.py:1111: DataConversionWarning:\n",
      "\n",
      "A column-vector y was passed when a 1d array was expected. Please change the shape of y to (n_samples, ), for example using ravel().\n",
      "\n",
      "\u001b[32m[I 2022-11-22 17:03:32,787]\u001b[0m Trial 75 finished with value: 0.8960047171830862 and parameters: {'n_estimators': 154, 'learning_rate': 0.9336642458628075, 'loss': 'square'}. Best is trial 62 with value: 0.9013347174113231.\u001b[0m\n",
      "c:\\Users\\DELL\\.conda\\envs\\sparsesensing\\lib\\site-packages\\sklearn\\utils\\validation.py:1111: DataConversionWarning:\n",
      "\n",
      "A column-vector y was passed when a 1d array was expected. Please change the shape of y to (n_samples, ), for example using ravel().\n",
      "\n",
      "\u001b[32m[I 2022-11-22 17:03:47,244]\u001b[0m Trial 76 finished with value: 0.8980919274529503 and parameters: {'n_estimators': 184, 'learning_rate': 0.8409426967067822, 'loss': 'square'}. Best is trial 62 with value: 0.9013347174113231.\u001b[0m\n",
      "c:\\Users\\DELL\\.conda\\envs\\sparsesensing\\lib\\site-packages\\sklearn\\utils\\validation.py:1111: DataConversionWarning:\n",
      "\n",
      "A column-vector y was passed when a 1d array was expected. Please change the shape of y to (n_samples, ), for example using ravel().\n",
      "\n",
      "\u001b[32m[I 2022-11-22 17:04:05,624]\u001b[0m Trial 77 finished with value: 0.8991686321485368 and parameters: {'n_estimators': 251, 'learning_rate': 0.9998454372059213, 'loss': 'square'}. Best is trial 62 with value: 0.9013347174113231.\u001b[0m\n",
      "c:\\Users\\DELL\\.conda\\envs\\sparsesensing\\lib\\site-packages\\sklearn\\utils\\validation.py:1111: DataConversionWarning:\n",
      "\n",
      "A column-vector y was passed when a 1d array was expected. Please change the shape of y to (n_samples, ), for example using ravel().\n",
      "\n",
      "\u001b[32m[I 2022-11-22 17:04:23,962]\u001b[0m Trial 78 finished with value: 0.895882537398893 and parameters: {'n_estimators': 251, 'learning_rate': 0.8915457069745537, 'loss': 'square'}. Best is trial 62 with value: 0.9013347174113231.\u001b[0m\n",
      "c:\\Users\\DELL\\.conda\\envs\\sparsesensing\\lib\\site-packages\\sklearn\\utils\\validation.py:1111: DataConversionWarning:\n",
      "\n",
      "A column-vector y was passed when a 1d array was expected. Please change the shape of y to (n_samples, ), for example using ravel().\n",
      "\n",
      "\u001b[32m[I 2022-11-22 17:04:48,316]\u001b[0m Trial 79 finished with value: 0.8969767538610038 and parameters: {'n_estimators': 293, 'learning_rate': 0.9669042077280892, 'loss': 'exponential'}. Best is trial 62 with value: 0.9013347174113231.\u001b[0m\n",
      "c:\\Users\\DELL\\.conda\\envs\\sparsesensing\\lib\\site-packages\\sklearn\\utils\\validation.py:1111: DataConversionWarning:\n",
      "\n",
      "A column-vector y was passed when a 1d array was expected. Please change the shape of y to (n_samples, ), for example using ravel().\n",
      "\n",
      "\u001b[32m[I 2022-11-22 17:05:06,382]\u001b[0m Trial 80 finished with value: 0.8935764406761968 and parameters: {'n_estimators': 230, 'learning_rate': 0.93252409831684, 'loss': 'square'}. Best is trial 62 with value: 0.9013347174113231.\u001b[0m\n",
      "c:\\Users\\DELL\\.conda\\envs\\sparsesensing\\lib\\site-packages\\sklearn\\utils\\validation.py:1111: DataConversionWarning:\n",
      "\n",
      "A column-vector y was passed when a 1d array was expected. Please change the shape of y to (n_samples, ), for example using ravel().\n",
      "\n",
      "\u001b[32m[I 2022-11-22 17:05:22,024]\u001b[0m Trial 81 finished with value: 0.8915307207132187 and parameters: {'n_estimators': 214, 'learning_rate': 0.9925496890483977, 'loss': 'square'}. Best is trial 62 with value: 0.9013347174113231.\u001b[0m\n",
      "c:\\Users\\DELL\\.conda\\envs\\sparsesensing\\lib\\site-packages\\sklearn\\utils\\validation.py:1111: DataConversionWarning:\n",
      "\n",
      "A column-vector y was passed when a 1d array was expected. Please change the shape of y to (n_samples, ), for example using ravel().\n",
      "\n",
      "\u001b[32m[I 2022-11-22 17:05:42,557]\u001b[0m Trial 82 finished with value: 0.8958781204286819 and parameters: {'n_estimators': 262, 'learning_rate': 0.9990065438277783, 'loss': 'square'}. Best is trial 62 with value: 0.9013347174113231.\u001b[0m\n",
      "c:\\Users\\DELL\\.conda\\envs\\sparsesensing\\lib\\site-packages\\sklearn\\utils\\validation.py:1111: DataConversionWarning:\n",
      "\n",
      "A column-vector y was passed when a 1d array was expected. Please change the shape of y to (n_samples, ), for example using ravel().\n",
      "\n",
      "\u001b[32m[I 2022-11-22 17:06:04,369]\u001b[0m Trial 83 finished with value: 0.8949250298147811 and parameters: {'n_estimators': 198, 'learning_rate': 0.8767303648385478, 'loss': 'square'}. Best is trial 62 with value: 0.9013347174113231.\u001b[0m\n",
      "c:\\Users\\DELL\\.conda\\envs\\sparsesensing\\lib\\site-packages\\sklearn\\utils\\validation.py:1111: DataConversionWarning:\n",
      "\n",
      "A column-vector y was passed when a 1d array was expected. Please change the shape of y to (n_samples, ), for example using ravel().\n",
      "\n",
      "\u001b[32m[I 2022-11-22 17:06:21,857]\u001b[0m Trial 84 finished with value: 0.8981347947806912 and parameters: {'n_estimators': 227, 'learning_rate': 0.948546629886243, 'loss': 'square'}. Best is trial 62 with value: 0.9013347174113231.\u001b[0m\n",
      "c:\\Users\\DELL\\.conda\\envs\\sparsesensing\\lib\\site-packages\\sklearn\\utils\\validation.py:1111: DataConversionWarning:\n",
      "\n",
      "A column-vector y was passed when a 1d array was expected. Please change the shape of y to (n_samples, ), for example using ravel().\n",
      "\n",
      "\u001b[32m[I 2022-11-22 17:06:36,555]\u001b[0m Trial 85 finished with value: 0.8956952616853118 and parameters: {'n_estimators': 182, 'learning_rate': 0.8482289830327864, 'loss': 'square'}. Best is trial 62 with value: 0.9013347174113231.\u001b[0m\n",
      "c:\\Users\\DELL\\.conda\\envs\\sparsesensing\\lib\\site-packages\\sklearn\\utils\\validation.py:1111: DataConversionWarning:\n",
      "\n",
      "A column-vector y was passed when a 1d array was expected. Please change the shape of y to (n_samples, ), for example using ravel().\n",
      "\n",
      "\u001b[32m[I 2022-11-22 17:06:53,601]\u001b[0m Trial 86 finished with value: 0.8938077497889387 and parameters: {'n_estimators': 243, 'learning_rate': 0.9180622109688511, 'loss': 'square'}. Best is trial 62 with value: 0.9013347174113231.\u001b[0m\n",
      "c:\\Users\\DELL\\.conda\\envs\\sparsesensing\\lib\\site-packages\\sklearn\\utils\\validation.py:1111: DataConversionWarning:\n",
      "\n",
      "A column-vector y was passed when a 1d array was expected. Please change the shape of y to (n_samples, ), for example using ravel().\n",
      "\n",
      "\u001b[32m[I 2022-11-22 17:07:08,089]\u001b[0m Trial 87 finished with value: 0.8924336041495093 and parameters: {'n_estimators': 142, 'learning_rate': 0.8226931130234543, 'loss': 'square'}. Best is trial 62 with value: 0.9013347174113231.\u001b[0m\n",
      "c:\\Users\\DELL\\.conda\\envs\\sparsesensing\\lib\\site-packages\\sklearn\\utils\\validation.py:1111: DataConversionWarning:\n",
      "\n",
      "A column-vector y was passed when a 1d array was expected. Please change the shape of y to (n_samples, ), for example using ravel().\n",
      "\n",
      "\u001b[32m[I 2022-11-22 17:07:19,679]\u001b[0m Trial 88 finished with value: 0.8925893864704241 and parameters: {'n_estimators': 159, 'learning_rate': 0.9719125924682616, 'loss': 'square'}. Best is trial 62 with value: 0.9013347174113231.\u001b[0m\n",
      "c:\\Users\\DELL\\.conda\\envs\\sparsesensing\\lib\\site-packages\\sklearn\\utils\\validation.py:1111: DataConversionWarning:\n",
      "\n",
      "A column-vector y was passed when a 1d array was expected. Please change the shape of y to (n_samples, ), for example using ravel().\n",
      "\n",
      "\u001b[32m[I 2022-11-22 17:07:34,559]\u001b[0m Trial 89 finished with value: 0.8939207651630396 and parameters: {'n_estimators': 205, 'learning_rate': 0.9028746579584602, 'loss': 'square'}. Best is trial 62 with value: 0.9013347174113231.\u001b[0m\n",
      "c:\\Users\\DELL\\.conda\\envs\\sparsesensing\\lib\\site-packages\\sklearn\\utils\\validation.py:1111: DataConversionWarning:\n",
      "\n",
      "A column-vector y was passed when a 1d array was expected. Please change the shape of y to (n_samples, ), for example using ravel().\n",
      "\n",
      "\u001b[32m[I 2022-11-22 17:08:02,143]\u001b[0m Trial 90 finished with value: 0.8912193956640369 and parameters: {'n_estimators': 220, 'learning_rate': 0.21863855558729972, 'loss': 'linear'}. Best is trial 62 with value: 0.9013347174113231.\u001b[0m\n",
      "c:\\Users\\DELL\\.conda\\envs\\sparsesensing\\lib\\site-packages\\sklearn\\utils\\validation.py:1111: DataConversionWarning:\n",
      "\n",
      "A column-vector y was passed when a 1d array was expected. Please change the shape of y to (n_samples, ), for example using ravel().\n",
      "\n",
      "\u001b[32m[I 2022-11-22 17:08:13,849]\u001b[0m Trial 91 finished with value: 0.8966733740931682 and parameters: {'n_estimators': 125, 'learning_rate': 0.9400542451781412, 'loss': 'square'}. Best is trial 62 with value: 0.9013347174113231.\u001b[0m\n",
      "c:\\Users\\DELL\\.conda\\envs\\sparsesensing\\lib\\site-packages\\sklearn\\utils\\validation.py:1111: DataConversionWarning:\n",
      "\n",
      "A column-vector y was passed when a 1d array was expected. Please change the shape of y to (n_samples, ), for example using ravel().\n",
      "\n",
      "\u001b[32m[I 2022-11-22 17:08:32,310]\u001b[0m Trial 92 finished with value: 0.8219556501773702 and parameters: {'n_estimators': 102, 'learning_rate': 0.03757139518637137, 'loss': 'square'}. Best is trial 62 with value: 0.9013347174113231.\u001b[0m\n",
      "c:\\Users\\DELL\\.conda\\envs\\sparsesensing\\lib\\site-packages\\sklearn\\utils\\validation.py:1111: DataConversionWarning:\n",
      "\n",
      "A column-vector y was passed when a 1d array was expected. Please change the shape of y to (n_samples, ), for example using ravel().\n",
      "\n",
      "\u001b[32m[I 2022-11-22 17:09:00,706]\u001b[0m Trial 93 finished with value: 0.8975384568770173 and parameters: {'n_estimators': 487, 'learning_rate': 0.9753433120528378, 'loss': 'square'}. Best is trial 62 with value: 0.9013347174113231.\u001b[0m\n",
      "c:\\Users\\DELL\\.conda\\envs\\sparsesensing\\lib\\site-packages\\sklearn\\utils\\validation.py:1111: DataConversionWarning:\n",
      "\n",
      "A column-vector y was passed when a 1d array was expected. Please change the shape of y to (n_samples, ), for example using ravel().\n",
      "\n",
      "\u001b[32m[I 2022-11-22 17:09:15,159]\u001b[0m Trial 94 finished with value: 0.8988956820214128 and parameters: {'n_estimators': 169, 'learning_rate': 0.9995597141192638, 'loss': 'square'}. Best is trial 62 with value: 0.9013347174113231.\u001b[0m\n",
      "c:\\Users\\DELL\\.conda\\envs\\sparsesensing\\lib\\site-packages\\sklearn\\utils\\validation.py:1111: DataConversionWarning:\n",
      "\n",
      "A column-vector y was passed when a 1d array was expected. Please change the shape of y to (n_samples, ), for example using ravel().\n",
      "\n",
      "\u001b[32m[I 2022-11-22 17:09:32,294]\u001b[0m Trial 95 finished with value: 0.8986197020983253 and parameters: {'n_estimators': 169, 'learning_rate': 0.9202124622312091, 'loss': 'square'}. Best is trial 62 with value: 0.9013347174113231.\u001b[0m\n",
      "c:\\Users\\DELL\\.conda\\envs\\sparsesensing\\lib\\site-packages\\sklearn\\utils\\validation.py:1111: DataConversionWarning:\n",
      "\n",
      "A column-vector y was passed when a 1d array was expected. Please change the shape of y to (n_samples, ), for example using ravel().\n",
      "\n",
      "\u001b[32m[I 2022-11-22 17:09:50,829]\u001b[0m Trial 96 finished with value: 0.8949212912415228 and parameters: {'n_estimators': 169, 'learning_rate': 0.8650326201328876, 'loss': 'square'}. Best is trial 62 with value: 0.9013347174113231.\u001b[0m\n",
      "c:\\Users\\DELL\\.conda\\envs\\sparsesensing\\lib\\site-packages\\sklearn\\utils\\validation.py:1111: DataConversionWarning:\n",
      "\n",
      "A column-vector y was passed when a 1d array was expected. Please change the shape of y to (n_samples, ), for example using ravel().\n",
      "\n",
      "\u001b[32m[I 2022-11-22 17:10:14,827]\u001b[0m Trial 97 finished with value: 0.8930610996445791 and parameters: {'n_estimators': 194, 'learning_rate': 0.9254660062938352, 'loss': 'exponential'}. Best is trial 62 with value: 0.9013347174113231.\u001b[0m\n",
      "c:\\Users\\DELL\\.conda\\envs\\sparsesensing\\lib\\site-packages\\sklearn\\utils\\validation.py:1111: DataConversionWarning:\n",
      "\n",
      "A column-vector y was passed when a 1d array was expected. Please change the shape of y to (n_samples, ), for example using ravel().\n",
      "\n",
      "\u001b[32m[I 2022-11-22 17:10:34,830]\u001b[0m Trial 98 finished with value: 0.8968291400869791 and parameters: {'n_estimators': 177, 'learning_rate': 0.8169980867168397, 'loss': 'square'}. Best is trial 62 with value: 0.9013347174113231.\u001b[0m\n",
      "c:\\Users\\DELL\\.conda\\envs\\sparsesensing\\lib\\site-packages\\sklearn\\utils\\validation.py:1111: DataConversionWarning:\n",
      "\n",
      "A column-vector y was passed when a 1d array was expected. Please change the shape of y to (n_samples, ), for example using ravel().\n",
      "\n",
      "\u001b[32m[I 2022-11-22 17:10:53,160]\u001b[0m Trial 99 finished with value: 0.8968129687104576 and parameters: {'n_estimators': 155, 'learning_rate': 0.8923673431665081, 'loss': 'square'}. Best is trial 62 with value: 0.9013347174113231.\u001b[0m\n"
     ]
    },
    {
     "name": "stdout",
     "output_type": "stream",
     "text": [
      "Accuracy: 0.9013347174113231\n",
      "Best hyperparameters: {'n_estimators': 212, 'learning_rate': 0.9311107326380043, 'loss': 'square'}\n"
     ]
    }
   ],
   "source": [
    "from sklearn.ensemble import AdaBoostRegressor\n",
    "\n",
    "def objective(trial):\n",
    "    \n",
    "        \n",
    "    h_n_estimators = trial.suggest_int(\"n_estimators\", low=20, high=500, step=1)\n",
    "    h_learning_rate = trial.suggest_float(\"learning_rate\", 0.01, 1)\n",
    "    h_loss = trial.suggest_categorical(\"loss\", ['linear', 'square', 'exponential'])\n",
    "    \n",
    "    model = AdaBoostRegressor(learning_rate=h_learning_rate,\n",
    "                                       loss=h_loss,\n",
    "                                       n_estimators=h_n_estimators,\n",
    "                                       random_state=0)\n",
    "    model.fit(X_train_final,y_train_final)\n",
    "    p=model.predict(X_test_final)\n",
    "    score= r2_score(y_test_final,p)\n",
    "    return score\n",
    "\n",
    "    \n",
    "study_ab = optuna.create_study(direction='maximize')\n",
    "study_ab.optimize(objective, n_trials=100)\n",
    "\n",
    "trial_ab = study_ab.best_trial\n",
    "\n",
    "print('Accuracy: {}'.format(trial_ab.value))\n",
    "print(\"Best hyperparameters: {}\".format(trial_ab.params))"
   ]
  },
  {
   "cell_type": "markdown",
   "metadata": {},
   "source": [
    "Melhor score r2: Accuracy: 0.9013347174113231 <br>\n",
    "Best hyperparameters: {'n_estimators': 212, 'learning_rate': 0.9311107326380043, 'loss': 'square'}"
   ]
  },
  {
   "cell_type": "code",
   "execution_count": 35,
   "metadata": {},
   "outputs": [
    {
     "data": {
      "application/vnd.plotly.v1+json": {
       "config": {
        "plotlyServerURL": "https://plot.ly"
       },
       "data": [
        {
         "mode": "markers",
         "name": "Objective Value",
         "type": "scatter",
         "x": [
          0,
          1,
          2,
          3,
          4,
          5,
          6,
          7,
          8,
          9,
          10,
          11,
          12,
          13,
          14,
          15,
          16,
          17,
          18,
          19,
          20,
          21,
          22,
          23,
          24,
          25,
          26,
          27,
          28,
          29,
          30,
          31,
          32,
          33,
          34,
          35,
          36,
          37,
          38,
          39,
          40,
          41,
          42,
          43,
          44,
          45,
          46,
          47,
          48,
          49,
          50,
          51,
          52,
          53,
          54,
          55,
          56,
          57,
          58,
          59,
          60,
          61,
          62,
          63,
          64,
          65,
          66,
          67,
          68,
          69,
          70,
          71,
          72,
          73,
          74,
          75,
          76,
          77,
          78,
          79,
          80,
          81,
          82,
          83,
          84,
          85,
          86,
          87,
          88,
          89,
          90,
          91,
          92,
          93,
          94,
          95,
          96,
          97,
          98,
          99
         ],
         "y": [
          0.8889603558038552,
          0.8896065503148924,
          0.8922749835236559,
          0.8859309018415747,
          0.8905728090297617,
          0.8904171965165667,
          0.8927268014807933,
          0.8953009926124939,
          0.8948280684366646,
          0.8924519615991853,
          0.8949769494195077,
          0.891749532209333,
          0.8922862212070134,
          0.8905761320084138,
          0.8950865931382194,
          0.8918347056766425,
          0.8956924828012784,
          0.8938063790245746,
          0.89720616909111,
          0.8129123266849139,
          0.8926479973318396,
          0.8963734274283496,
          0.8952485725799,
          0.894841555031468,
          0.8956599195139403,
          0.8950827715575551,
          0.8934366549373995,
          0.8879674626029831,
          0.8949260230720462,
          0.8958925851387107,
          0.8920790044147913,
          0.8982148411372156,
          0.8929448059182311,
          0.8919633143889374,
          0.8948132421934106,
          0.8945069035167738,
          0.8883044016317957,
          0.8929227741014135,
          0.8953246554102761,
          0.8938479055627657,
          0.881102631637733,
          0.8958065939411323,
          0.8959249120870175,
          0.8955909622193347,
          0.8947361053595324,
          0.891510484613614,
          0.8943780762299391,
          0.8946391574366704,
          0.8924738338526121,
          0.8950019449584576,
          0.8947355529394438,
          0.8950669104452611,
          0.8931679029962742,
          0.8967424202095614,
          0.8963968276441721,
          0.8980547968811317,
          0.8985887860072583,
          0.8926309535829337,
          0.8970391918561055,
          0.8912470758246518,
          0.8941080931466211,
          0.8984479883397937,
          0.9013347174113231,
          0.9000841424411737,
          0.9001691280129934,
          0.900561070780142,
          0.8983171847675595,
          0.8978713534691714,
          0.8938909840046746,
          0.899682960033432,
          0.8970811229571553,
          0.8976909377402731,
          0.8956333566697563,
          0.8972031224980238,
          0.8958922337762096,
          0.8960047171830862,
          0.8980919274529503,
          0.8991686321485368,
          0.895882537398893,
          0.8969767538610038,
          0.8935764406761968,
          0.8915307207132187,
          0.8958781204286819,
          0.8949250298147811,
          0.8981347947806912,
          0.8956952616853118,
          0.8938077497889387,
          0.8924336041495093,
          0.8925893864704241,
          0.8939207651630396,
          0.8912193956640369,
          0.8966733740931682,
          0.8219556501773702,
          0.8975384568770173,
          0.8988956820214128,
          0.8986197020983253,
          0.8949212912415228,
          0.8930610996445791,
          0.8968291400869791,
          0.8968129687104576
         ]
        },
        {
         "name": "Best Value",
         "type": "scatter",
         "x": [
          0,
          1,
          2,
          3,
          4,
          5,
          6,
          7,
          8,
          9,
          10,
          11,
          12,
          13,
          14,
          15,
          16,
          17,
          18,
          19,
          20,
          21,
          22,
          23,
          24,
          25,
          26,
          27,
          28,
          29,
          30,
          31,
          32,
          33,
          34,
          35,
          36,
          37,
          38,
          39,
          40,
          41,
          42,
          43,
          44,
          45,
          46,
          47,
          48,
          49,
          50,
          51,
          52,
          53,
          54,
          55,
          56,
          57,
          58,
          59,
          60,
          61,
          62,
          63,
          64,
          65,
          66,
          67,
          68,
          69,
          70,
          71,
          72,
          73,
          74,
          75,
          76,
          77,
          78,
          79,
          80,
          81,
          82,
          83,
          84,
          85,
          86,
          87,
          88,
          89,
          90,
          91,
          92,
          93,
          94,
          95,
          96,
          97,
          98,
          99
         ],
         "y": [
          0.8889603558038552,
          0.8896065503148924,
          0.8922749835236559,
          0.8922749835236559,
          0.8922749835236559,
          0.8922749835236559,
          0.8927268014807933,
          0.8953009926124939,
          0.8953009926124939,
          0.8953009926124939,
          0.8953009926124939,
          0.8953009926124939,
          0.8953009926124939,
          0.8953009926124939,
          0.8953009926124939,
          0.8953009926124939,
          0.8956924828012784,
          0.8956924828012784,
          0.89720616909111,
          0.89720616909111,
          0.89720616909111,
          0.89720616909111,
          0.89720616909111,
          0.89720616909111,
          0.89720616909111,
          0.89720616909111,
          0.89720616909111,
          0.89720616909111,
          0.89720616909111,
          0.89720616909111,
          0.89720616909111,
          0.8982148411372156,
          0.8982148411372156,
          0.8982148411372156,
          0.8982148411372156,
          0.8982148411372156,
          0.8982148411372156,
          0.8982148411372156,
          0.8982148411372156,
          0.8982148411372156,
          0.8982148411372156,
          0.8982148411372156,
          0.8982148411372156,
          0.8982148411372156,
          0.8982148411372156,
          0.8982148411372156,
          0.8982148411372156,
          0.8982148411372156,
          0.8982148411372156,
          0.8982148411372156,
          0.8982148411372156,
          0.8982148411372156,
          0.8982148411372156,
          0.8982148411372156,
          0.8982148411372156,
          0.8982148411372156,
          0.8985887860072583,
          0.8985887860072583,
          0.8985887860072583,
          0.8985887860072583,
          0.8985887860072583,
          0.8985887860072583,
          0.9013347174113231,
          0.9013347174113231,
          0.9013347174113231,
          0.9013347174113231,
          0.9013347174113231,
          0.9013347174113231,
          0.9013347174113231,
          0.9013347174113231,
          0.9013347174113231,
          0.9013347174113231,
          0.9013347174113231,
          0.9013347174113231,
          0.9013347174113231,
          0.9013347174113231,
          0.9013347174113231,
          0.9013347174113231,
          0.9013347174113231,
          0.9013347174113231,
          0.9013347174113231,
          0.9013347174113231,
          0.9013347174113231,
          0.9013347174113231,
          0.9013347174113231,
          0.9013347174113231,
          0.9013347174113231,
          0.9013347174113231,
          0.9013347174113231,
          0.9013347174113231,
          0.9013347174113231,
          0.9013347174113231,
          0.9013347174113231,
          0.9013347174113231,
          0.9013347174113231,
          0.9013347174113231,
          0.9013347174113231,
          0.9013347174113231,
          0.9013347174113231,
          0.9013347174113231
         ]
        }
       ],
       "layout": {
        "template": {
         "data": {
          "bar": [
           {
            "error_x": {
             "color": "#2a3f5f"
            },
            "error_y": {
             "color": "#2a3f5f"
            },
            "marker": {
             "line": {
              "color": "#E5ECF6",
              "width": 0.5
             },
             "pattern": {
              "fillmode": "overlay",
              "size": 10,
              "solidity": 0.2
             }
            },
            "type": "bar"
           }
          ],
          "barpolar": [
           {
            "marker": {
             "line": {
              "color": "#E5ECF6",
              "width": 0.5
             },
             "pattern": {
              "fillmode": "overlay",
              "size": 10,
              "solidity": 0.2
             }
            },
            "type": "barpolar"
           }
          ],
          "carpet": [
           {
            "aaxis": {
             "endlinecolor": "#2a3f5f",
             "gridcolor": "white",
             "linecolor": "white",
             "minorgridcolor": "white",
             "startlinecolor": "#2a3f5f"
            },
            "baxis": {
             "endlinecolor": "#2a3f5f",
             "gridcolor": "white",
             "linecolor": "white",
             "minorgridcolor": "white",
             "startlinecolor": "#2a3f5f"
            },
            "type": "carpet"
           }
          ],
          "choropleth": [
           {
            "colorbar": {
             "outlinewidth": 0,
             "ticks": ""
            },
            "type": "choropleth"
           }
          ],
          "contour": [
           {
            "colorbar": {
             "outlinewidth": 0,
             "ticks": ""
            },
            "colorscale": [
             [
              0,
              "#0d0887"
             ],
             [
              0.1111111111111111,
              "#46039f"
             ],
             [
              0.2222222222222222,
              "#7201a8"
             ],
             [
              0.3333333333333333,
              "#9c179e"
             ],
             [
              0.4444444444444444,
              "#bd3786"
             ],
             [
              0.5555555555555556,
              "#d8576b"
             ],
             [
              0.6666666666666666,
              "#ed7953"
             ],
             [
              0.7777777777777778,
              "#fb9f3a"
             ],
             [
              0.8888888888888888,
              "#fdca26"
             ],
             [
              1,
              "#f0f921"
             ]
            ],
            "type": "contour"
           }
          ],
          "contourcarpet": [
           {
            "colorbar": {
             "outlinewidth": 0,
             "ticks": ""
            },
            "type": "contourcarpet"
           }
          ],
          "heatmap": [
           {
            "colorbar": {
             "outlinewidth": 0,
             "ticks": ""
            },
            "colorscale": [
             [
              0,
              "#0d0887"
             ],
             [
              0.1111111111111111,
              "#46039f"
             ],
             [
              0.2222222222222222,
              "#7201a8"
             ],
             [
              0.3333333333333333,
              "#9c179e"
             ],
             [
              0.4444444444444444,
              "#bd3786"
             ],
             [
              0.5555555555555556,
              "#d8576b"
             ],
             [
              0.6666666666666666,
              "#ed7953"
             ],
             [
              0.7777777777777778,
              "#fb9f3a"
             ],
             [
              0.8888888888888888,
              "#fdca26"
             ],
             [
              1,
              "#f0f921"
             ]
            ],
            "type": "heatmap"
           }
          ],
          "heatmapgl": [
           {
            "colorbar": {
             "outlinewidth": 0,
             "ticks": ""
            },
            "colorscale": [
             [
              0,
              "#0d0887"
             ],
             [
              0.1111111111111111,
              "#46039f"
             ],
             [
              0.2222222222222222,
              "#7201a8"
             ],
             [
              0.3333333333333333,
              "#9c179e"
             ],
             [
              0.4444444444444444,
              "#bd3786"
             ],
             [
              0.5555555555555556,
              "#d8576b"
             ],
             [
              0.6666666666666666,
              "#ed7953"
             ],
             [
              0.7777777777777778,
              "#fb9f3a"
             ],
             [
              0.8888888888888888,
              "#fdca26"
             ],
             [
              1,
              "#f0f921"
             ]
            ],
            "type": "heatmapgl"
           }
          ],
          "histogram": [
           {
            "marker": {
             "pattern": {
              "fillmode": "overlay",
              "size": 10,
              "solidity": 0.2
             }
            },
            "type": "histogram"
           }
          ],
          "histogram2d": [
           {
            "colorbar": {
             "outlinewidth": 0,
             "ticks": ""
            },
            "colorscale": [
             [
              0,
              "#0d0887"
             ],
             [
              0.1111111111111111,
              "#46039f"
             ],
             [
              0.2222222222222222,
              "#7201a8"
             ],
             [
              0.3333333333333333,
              "#9c179e"
             ],
             [
              0.4444444444444444,
              "#bd3786"
             ],
             [
              0.5555555555555556,
              "#d8576b"
             ],
             [
              0.6666666666666666,
              "#ed7953"
             ],
             [
              0.7777777777777778,
              "#fb9f3a"
             ],
             [
              0.8888888888888888,
              "#fdca26"
             ],
             [
              1,
              "#f0f921"
             ]
            ],
            "type": "histogram2d"
           }
          ],
          "histogram2dcontour": [
           {
            "colorbar": {
             "outlinewidth": 0,
             "ticks": ""
            },
            "colorscale": [
             [
              0,
              "#0d0887"
             ],
             [
              0.1111111111111111,
              "#46039f"
             ],
             [
              0.2222222222222222,
              "#7201a8"
             ],
             [
              0.3333333333333333,
              "#9c179e"
             ],
             [
              0.4444444444444444,
              "#bd3786"
             ],
             [
              0.5555555555555556,
              "#d8576b"
             ],
             [
              0.6666666666666666,
              "#ed7953"
             ],
             [
              0.7777777777777778,
              "#fb9f3a"
             ],
             [
              0.8888888888888888,
              "#fdca26"
             ],
             [
              1,
              "#f0f921"
             ]
            ],
            "type": "histogram2dcontour"
           }
          ],
          "mesh3d": [
           {
            "colorbar": {
             "outlinewidth": 0,
             "ticks": ""
            },
            "type": "mesh3d"
           }
          ],
          "parcoords": [
           {
            "line": {
             "colorbar": {
              "outlinewidth": 0,
              "ticks": ""
             }
            },
            "type": "parcoords"
           }
          ],
          "pie": [
           {
            "automargin": true,
            "type": "pie"
           }
          ],
          "scatter": [
           {
            "fillpattern": {
             "fillmode": "overlay",
             "size": 10,
             "solidity": 0.2
            },
            "type": "scatter"
           }
          ],
          "scatter3d": [
           {
            "line": {
             "colorbar": {
              "outlinewidth": 0,
              "ticks": ""
             }
            },
            "marker": {
             "colorbar": {
              "outlinewidth": 0,
              "ticks": ""
             }
            },
            "type": "scatter3d"
           }
          ],
          "scattercarpet": [
           {
            "marker": {
             "colorbar": {
              "outlinewidth": 0,
              "ticks": ""
             }
            },
            "type": "scattercarpet"
           }
          ],
          "scattergeo": [
           {
            "marker": {
             "colorbar": {
              "outlinewidth": 0,
              "ticks": ""
             }
            },
            "type": "scattergeo"
           }
          ],
          "scattergl": [
           {
            "marker": {
             "colorbar": {
              "outlinewidth": 0,
              "ticks": ""
             }
            },
            "type": "scattergl"
           }
          ],
          "scattermapbox": [
           {
            "marker": {
             "colorbar": {
              "outlinewidth": 0,
              "ticks": ""
             }
            },
            "type": "scattermapbox"
           }
          ],
          "scatterpolar": [
           {
            "marker": {
             "colorbar": {
              "outlinewidth": 0,
              "ticks": ""
             }
            },
            "type": "scatterpolar"
           }
          ],
          "scatterpolargl": [
           {
            "marker": {
             "colorbar": {
              "outlinewidth": 0,
              "ticks": ""
             }
            },
            "type": "scatterpolargl"
           }
          ],
          "scatterternary": [
           {
            "marker": {
             "colorbar": {
              "outlinewidth": 0,
              "ticks": ""
             }
            },
            "type": "scatterternary"
           }
          ],
          "surface": [
           {
            "colorbar": {
             "outlinewidth": 0,
             "ticks": ""
            },
            "colorscale": [
             [
              0,
              "#0d0887"
             ],
             [
              0.1111111111111111,
              "#46039f"
             ],
             [
              0.2222222222222222,
              "#7201a8"
             ],
             [
              0.3333333333333333,
              "#9c179e"
             ],
             [
              0.4444444444444444,
              "#bd3786"
             ],
             [
              0.5555555555555556,
              "#d8576b"
             ],
             [
              0.6666666666666666,
              "#ed7953"
             ],
             [
              0.7777777777777778,
              "#fb9f3a"
             ],
             [
              0.8888888888888888,
              "#fdca26"
             ],
             [
              1,
              "#f0f921"
             ]
            ],
            "type": "surface"
           }
          ],
          "table": [
           {
            "cells": {
             "fill": {
              "color": "#EBF0F8"
             },
             "line": {
              "color": "white"
             }
            },
            "header": {
             "fill": {
              "color": "#C8D4E3"
             },
             "line": {
              "color": "white"
             }
            },
            "type": "table"
           }
          ]
         },
         "layout": {
          "annotationdefaults": {
           "arrowcolor": "#2a3f5f",
           "arrowhead": 0,
           "arrowwidth": 1
          },
          "autotypenumbers": "strict",
          "coloraxis": {
           "colorbar": {
            "outlinewidth": 0,
            "ticks": ""
           }
          },
          "colorscale": {
           "diverging": [
            [
             0,
             "#8e0152"
            ],
            [
             0.1,
             "#c51b7d"
            ],
            [
             0.2,
             "#de77ae"
            ],
            [
             0.3,
             "#f1b6da"
            ],
            [
             0.4,
             "#fde0ef"
            ],
            [
             0.5,
             "#f7f7f7"
            ],
            [
             0.6,
             "#e6f5d0"
            ],
            [
             0.7,
             "#b8e186"
            ],
            [
             0.8,
             "#7fbc41"
            ],
            [
             0.9,
             "#4d9221"
            ],
            [
             1,
             "#276419"
            ]
           ],
           "sequential": [
            [
             0,
             "#0d0887"
            ],
            [
             0.1111111111111111,
             "#46039f"
            ],
            [
             0.2222222222222222,
             "#7201a8"
            ],
            [
             0.3333333333333333,
             "#9c179e"
            ],
            [
             0.4444444444444444,
             "#bd3786"
            ],
            [
             0.5555555555555556,
             "#d8576b"
            ],
            [
             0.6666666666666666,
             "#ed7953"
            ],
            [
             0.7777777777777778,
             "#fb9f3a"
            ],
            [
             0.8888888888888888,
             "#fdca26"
            ],
            [
             1,
             "#f0f921"
            ]
           ],
           "sequentialminus": [
            [
             0,
             "#0d0887"
            ],
            [
             0.1111111111111111,
             "#46039f"
            ],
            [
             0.2222222222222222,
             "#7201a8"
            ],
            [
             0.3333333333333333,
             "#9c179e"
            ],
            [
             0.4444444444444444,
             "#bd3786"
            ],
            [
             0.5555555555555556,
             "#d8576b"
            ],
            [
             0.6666666666666666,
             "#ed7953"
            ],
            [
             0.7777777777777778,
             "#fb9f3a"
            ],
            [
             0.8888888888888888,
             "#fdca26"
            ],
            [
             1,
             "#f0f921"
            ]
           ]
          },
          "colorway": [
           "#636efa",
           "#EF553B",
           "#00cc96",
           "#ab63fa",
           "#FFA15A",
           "#19d3f3",
           "#FF6692",
           "#B6E880",
           "#FF97FF",
           "#FECB52"
          ],
          "font": {
           "color": "#2a3f5f"
          },
          "geo": {
           "bgcolor": "white",
           "lakecolor": "white",
           "landcolor": "#E5ECF6",
           "showlakes": true,
           "showland": true,
           "subunitcolor": "white"
          },
          "hoverlabel": {
           "align": "left"
          },
          "hovermode": "closest",
          "mapbox": {
           "style": "light"
          },
          "paper_bgcolor": "white",
          "plot_bgcolor": "#E5ECF6",
          "polar": {
           "angularaxis": {
            "gridcolor": "white",
            "linecolor": "white",
            "ticks": ""
           },
           "bgcolor": "#E5ECF6",
           "radialaxis": {
            "gridcolor": "white",
            "linecolor": "white",
            "ticks": ""
           }
          },
          "scene": {
           "xaxis": {
            "backgroundcolor": "#E5ECF6",
            "gridcolor": "white",
            "gridwidth": 2,
            "linecolor": "white",
            "showbackground": true,
            "ticks": "",
            "zerolinecolor": "white"
           },
           "yaxis": {
            "backgroundcolor": "#E5ECF6",
            "gridcolor": "white",
            "gridwidth": 2,
            "linecolor": "white",
            "showbackground": true,
            "ticks": "",
            "zerolinecolor": "white"
           },
           "zaxis": {
            "backgroundcolor": "#E5ECF6",
            "gridcolor": "white",
            "gridwidth": 2,
            "linecolor": "white",
            "showbackground": true,
            "ticks": "",
            "zerolinecolor": "white"
           }
          },
          "shapedefaults": {
           "line": {
            "color": "#2a3f5f"
           }
          },
          "ternary": {
           "aaxis": {
            "gridcolor": "white",
            "linecolor": "white",
            "ticks": ""
           },
           "baxis": {
            "gridcolor": "white",
            "linecolor": "white",
            "ticks": ""
           },
           "bgcolor": "#E5ECF6",
           "caxis": {
            "gridcolor": "white",
            "linecolor": "white",
            "ticks": ""
           }
          },
          "title": {
           "x": 0.05
          },
          "xaxis": {
           "automargin": true,
           "gridcolor": "white",
           "linecolor": "white",
           "ticks": "",
           "title": {
            "standoff": 15
           },
           "zerolinecolor": "white",
           "zerolinewidth": 2
          },
          "yaxis": {
           "automargin": true,
           "gridcolor": "white",
           "linecolor": "white",
           "ticks": "",
           "title": {
            "standoff": 15
           },
           "zerolinecolor": "white",
           "zerolinewidth": 2
          }
         }
        },
        "title": {
         "text": "Optimization History Plot"
        },
        "xaxis": {
         "title": {
          "text": "Trial"
         }
        },
        "yaxis": {
         "title": {
          "text": "Objective Value"
         }
        }
       }
      }
     },
     "metadata": {},
     "output_type": "display_data"
    }
   ],
   "source": [
    "optuna.visualization.plot_optimization_history(study_ab)"
   ]
  },
  {
   "cell_type": "code",
   "execution_count": 36,
   "metadata": {},
   "outputs": [
    {
     "data": {
      "application/vnd.plotly.v1+json": {
       "config": {
        "plotlyServerURL": "https://plot.ly"
       },
       "data": [
        {
         "marker": {
          "color": [
           0,
           1,
           2,
           3,
           4,
           5,
           6,
           7,
           8,
           9,
           10,
           11,
           12,
           13,
           14,
           15,
           16,
           17,
           18,
           19,
           20,
           21,
           22,
           23,
           24,
           25,
           26,
           27,
           28,
           29,
           30,
           31,
           32,
           33,
           34,
           35,
           36,
           37,
           38,
           39,
           40,
           41,
           42,
           43,
           44,
           45,
           46,
           47,
           48,
           49,
           50,
           51,
           52,
           53,
           54,
           55,
           56,
           57,
           58,
           59,
           60,
           61,
           62,
           63,
           64,
           65,
           66,
           67,
           68,
           69,
           70,
           71,
           72,
           73,
           74,
           75,
           76,
           77,
           78,
           79,
           80,
           81,
           82,
           83,
           84,
           85,
           86,
           87,
           88,
           89,
           90,
           91,
           92,
           93,
           94,
           95,
           96,
           97,
           98,
           99
          ],
          "colorbar": {
           "title": {
            "text": "Trial"
           },
           "x": 1,
           "xpad": 40
          },
          "colorscale": [
           [
            0,
            "rgb(247,251,255)"
           ],
           [
            0.125,
            "rgb(222,235,247)"
           ],
           [
            0.25,
            "rgb(198,219,239)"
           ],
           [
            0.375,
            "rgb(158,202,225)"
           ],
           [
            0.5,
            "rgb(107,174,214)"
           ],
           [
            0.625,
            "rgb(66,146,198)"
           ],
           [
            0.75,
            "rgb(33,113,181)"
           ],
           [
            0.875,
            "rgb(8,81,156)"
           ],
           [
            1,
            "rgb(8,48,107)"
           ]
          ],
          "line": {
           "color": "Grey",
           "width": 0.5
          },
          "showscale": true
         },
         "mode": "markers",
         "showlegend": false,
         "type": "scatter",
         "x": [
          0.6099900386234557,
          0.7149121813241174,
          0.1392044551995674,
          0.3904041647841706,
          0.9557009215944255,
          0.4198272253498478,
          0.24975112886252285,
          0.7517329259107745,
          0.21017690461616417,
          0.33105286468306155,
          0.8905272437405689,
          0.8727300380523413,
          0.7656128956578864,
          0.5999230111597418,
          0.8426469025181466,
          0.7540477068433294,
          0.5707456799528166,
          0.5214330258297506,
          0.6142028184381652,
          0.02073593161360321,
          0.5360586858434426,
          0.6988944987587853,
          0.6373936777408871,
          0.4354956858238501,
          0.6713060446105712,
          0.5333811631409214,
          0.4770881836402112,
          0.995863651837834,
          0.8003428455939627,
          0.581970899065447,
          0.6933956741746881,
          0.5940597107431921,
          0.6185457052487281,
          0.6780862064750025,
          0.477416780425475,
          0.5857917309738931,
          0.3480613554113581,
          0.6612499034278456,
          0.7415010607813262,
          0.8196685484178343,
          0.39821374792653186,
          0.568925673743071,
          0.5693539212296136,
          0.4640910322526489,
          0.7051156394916395,
          0.6146098843606057,
          0.559036808861983,
          0.6495399289359687,
          0.3377194856360153,
          0.5179419004206506,
          0.7329184328200082,
          0.5854366870203298,
          0.5651898360890383,
          0.7829679953971294,
          0.7916526563704643,
          0.8714970539087565,
          0.9024721381202176,
          0.9094017522822844,
          0.9322757224923628,
          0.9513148240054681,
          0.8744163888801101,
          0.9249696882061953,
          0.9311107326380043,
          0.921582903049922,
          0.9754682108242829,
          0.9977091801842701,
          0.9986356986301937,
          0.9929781396216848,
          0.9688863562310759,
          0.9106475987092291,
          0.9175941600449603,
          0.8486426558910839,
          0.9503449707741589,
          0.974986890360473,
          0.8988337302655309,
          0.9336642458628075,
          0.8409426967067822,
          0.9998454372059213,
          0.8915457069745537,
          0.9669042077280892,
          0.93252409831684,
          0.9925496890483977,
          0.9990065438277783,
          0.8767303648385478,
          0.948546629886243,
          0.8482289830327864,
          0.9180622109688511,
          0.8226931130234543,
          0.9719125924682616,
          0.9028746579584602,
          0.21863855558729972,
          0.9400542451781412,
          0.03757139518637137,
          0.9753433120528378,
          0.9995597141192638,
          0.9202124622312091,
          0.8650326201328876,
          0.9254660062938352,
          0.8169980867168397,
          0.8923673431665081
         ],
         "xaxis": "x",
         "y": [
          0.8889603558038552,
          0.8896065503148924,
          0.8922749835236559,
          0.8859309018415747,
          0.8905728090297617,
          0.8904171965165667,
          0.8927268014807933,
          0.8953009926124939,
          0.8948280684366646,
          0.8924519615991853,
          0.8949769494195077,
          0.891749532209333,
          0.8922862212070134,
          0.8905761320084138,
          0.8950865931382194,
          0.8918347056766425,
          0.8956924828012784,
          0.8938063790245746,
          0.89720616909111,
          0.8129123266849139,
          0.8926479973318396,
          0.8963734274283496,
          0.8952485725799,
          0.894841555031468,
          0.8956599195139403,
          0.8950827715575551,
          0.8934366549373995,
          0.8879674626029831,
          0.8949260230720462,
          0.8958925851387107,
          0.8920790044147913,
          0.8982148411372156,
          0.8929448059182311,
          0.8919633143889374,
          0.8948132421934106,
          0.8945069035167738,
          0.8883044016317957,
          0.8929227741014135,
          0.8953246554102761,
          0.8938479055627657,
          0.881102631637733,
          0.8958065939411323,
          0.8959249120870175,
          0.8955909622193347,
          0.8947361053595324,
          0.891510484613614,
          0.8943780762299391,
          0.8946391574366704,
          0.8924738338526121,
          0.8950019449584576,
          0.8947355529394438,
          0.8950669104452611,
          0.8931679029962742,
          0.8967424202095614,
          0.8963968276441721,
          0.8980547968811317,
          0.8985887860072583,
          0.8926309535829337,
          0.8970391918561055,
          0.8912470758246518,
          0.8941080931466211,
          0.8984479883397937,
          0.9013347174113231,
          0.9000841424411737,
          0.9001691280129934,
          0.900561070780142,
          0.8983171847675595,
          0.8978713534691714,
          0.8938909840046746,
          0.899682960033432,
          0.8970811229571553,
          0.8976909377402731,
          0.8956333566697563,
          0.8972031224980238,
          0.8958922337762096,
          0.8960047171830862,
          0.8980919274529503,
          0.8991686321485368,
          0.895882537398893,
          0.8969767538610038,
          0.8935764406761968,
          0.8915307207132187,
          0.8958781204286819,
          0.8949250298147811,
          0.8981347947806912,
          0.8956952616853118,
          0.8938077497889387,
          0.8924336041495093,
          0.8925893864704241,
          0.8939207651630396,
          0.8912193956640369,
          0.8966733740931682,
          0.8219556501773702,
          0.8975384568770173,
          0.8988956820214128,
          0.8986197020983253,
          0.8949212912415228,
          0.8930610996445791,
          0.8968291400869791,
          0.8968129687104576
         ],
         "yaxis": "y"
        },
        {
         "marker": {
          "color": [
           0,
           1,
           2,
           3,
           4,
           5,
           6,
           7,
           8,
           9,
           10,
           11,
           12,
           13,
           14,
           15,
           16,
           17,
           18,
           19,
           20,
           21,
           22,
           23,
           24,
           25,
           26,
           27,
           28,
           29,
           30,
           31,
           32,
           33,
           34,
           35,
           36,
           37,
           38,
           39,
           40,
           41,
           42,
           43,
           44,
           45,
           46,
           47,
           48,
           49,
           50,
           51,
           52,
           53,
           54,
           55,
           56,
           57,
           58,
           59,
           60,
           61,
           62,
           63,
           64,
           65,
           66,
           67,
           68,
           69,
           70,
           71,
           72,
           73,
           74,
           75,
           76,
           77,
           78,
           79,
           80,
           81,
           82,
           83,
           84,
           85,
           86,
           87,
           88,
           89,
           90,
           91,
           92,
           93,
           94,
           95,
           96,
           97,
           98,
           99
          ],
          "colorbar": {
           "title": {
            "text": "Trial"
           },
           "x": 1,
           "xpad": 40
          },
          "colorscale": [
           [
            0,
            "rgb(247,251,255)"
           ],
           [
            0.125,
            "rgb(222,235,247)"
           ],
           [
            0.25,
            "rgb(198,219,239)"
           ],
           [
            0.375,
            "rgb(158,202,225)"
           ],
           [
            0.5,
            "rgb(107,174,214)"
           ],
           [
            0.625,
            "rgb(66,146,198)"
           ],
           [
            0.75,
            "rgb(33,113,181)"
           ],
           [
            0.875,
            "rgb(8,81,156)"
           ],
           [
            1,
            "rgb(8,48,107)"
           ]
          ],
          "line": {
           "color": "Grey",
           "width": 0.5
          },
          "showscale": false
         },
         "mode": "markers",
         "showlegend": false,
         "type": "scatter",
         "x": [
          "exponential",
          "exponential",
          "square",
          "exponential",
          "exponential",
          "exponential",
          "square",
          "square",
          "square",
          "linear",
          "linear",
          "linear",
          "linear",
          "linear",
          "square",
          "square",
          "square",
          "square",
          "square",
          "square",
          "square",
          "square",
          "square",
          "square",
          "square",
          "square",
          "square",
          "square",
          "square",
          "square",
          "exponential",
          "square",
          "square",
          "square",
          "square",
          "exponential",
          "square",
          "exponential",
          "square",
          "square",
          "exponential",
          "square",
          "square",
          "square",
          "square",
          "linear",
          "square",
          "square",
          "linear",
          "square",
          "square",
          "square",
          "square",
          "square",
          "square",
          "square",
          "square",
          "linear",
          "square",
          "square",
          "exponential",
          "square",
          "square",
          "square",
          "square",
          "square",
          "square",
          "square",
          "square",
          "square",
          "linear",
          "square",
          "square",
          "square",
          "square",
          "square",
          "square",
          "square",
          "square",
          "exponential",
          "square",
          "square",
          "square",
          "square",
          "square",
          "square",
          "square",
          "square",
          "square",
          "square",
          "linear",
          "square",
          "square",
          "square",
          "square",
          "square",
          "square",
          "exponential",
          "square",
          "square"
         ],
         "xaxis": "x2",
         "y": [
          0.8889603558038552,
          0.8896065503148924,
          0.8922749835236559,
          0.8859309018415747,
          0.8905728090297617,
          0.8904171965165667,
          0.8927268014807933,
          0.8953009926124939,
          0.8948280684366646,
          0.8924519615991853,
          0.8949769494195077,
          0.891749532209333,
          0.8922862212070134,
          0.8905761320084138,
          0.8950865931382194,
          0.8918347056766425,
          0.8956924828012784,
          0.8938063790245746,
          0.89720616909111,
          0.8129123266849139,
          0.8926479973318396,
          0.8963734274283496,
          0.8952485725799,
          0.894841555031468,
          0.8956599195139403,
          0.8950827715575551,
          0.8934366549373995,
          0.8879674626029831,
          0.8949260230720462,
          0.8958925851387107,
          0.8920790044147913,
          0.8982148411372156,
          0.8929448059182311,
          0.8919633143889374,
          0.8948132421934106,
          0.8945069035167738,
          0.8883044016317957,
          0.8929227741014135,
          0.8953246554102761,
          0.8938479055627657,
          0.881102631637733,
          0.8958065939411323,
          0.8959249120870175,
          0.8955909622193347,
          0.8947361053595324,
          0.891510484613614,
          0.8943780762299391,
          0.8946391574366704,
          0.8924738338526121,
          0.8950019449584576,
          0.8947355529394438,
          0.8950669104452611,
          0.8931679029962742,
          0.8967424202095614,
          0.8963968276441721,
          0.8980547968811317,
          0.8985887860072583,
          0.8926309535829337,
          0.8970391918561055,
          0.8912470758246518,
          0.8941080931466211,
          0.8984479883397937,
          0.9013347174113231,
          0.9000841424411737,
          0.9001691280129934,
          0.900561070780142,
          0.8983171847675595,
          0.8978713534691714,
          0.8938909840046746,
          0.899682960033432,
          0.8970811229571553,
          0.8976909377402731,
          0.8956333566697563,
          0.8972031224980238,
          0.8958922337762096,
          0.8960047171830862,
          0.8980919274529503,
          0.8991686321485368,
          0.895882537398893,
          0.8969767538610038,
          0.8935764406761968,
          0.8915307207132187,
          0.8958781204286819,
          0.8949250298147811,
          0.8981347947806912,
          0.8956952616853118,
          0.8938077497889387,
          0.8924336041495093,
          0.8925893864704241,
          0.8939207651630396,
          0.8912193956640369,
          0.8966733740931682,
          0.8219556501773702,
          0.8975384568770173,
          0.8988956820214128,
          0.8986197020983253,
          0.8949212912415228,
          0.8930610996445791,
          0.8968291400869791,
          0.8968129687104576
         ],
         "yaxis": "y2"
        },
        {
         "marker": {
          "color": [
           0,
           1,
           2,
           3,
           4,
           5,
           6,
           7,
           8,
           9,
           10,
           11,
           12,
           13,
           14,
           15,
           16,
           17,
           18,
           19,
           20,
           21,
           22,
           23,
           24,
           25,
           26,
           27,
           28,
           29,
           30,
           31,
           32,
           33,
           34,
           35,
           36,
           37,
           38,
           39,
           40,
           41,
           42,
           43,
           44,
           45,
           46,
           47,
           48,
           49,
           50,
           51,
           52,
           53,
           54,
           55,
           56,
           57,
           58,
           59,
           60,
           61,
           62,
           63,
           64,
           65,
           66,
           67,
           68,
           69,
           70,
           71,
           72,
           73,
           74,
           75,
           76,
           77,
           78,
           79,
           80,
           81,
           82,
           83,
           84,
           85,
           86,
           87,
           88,
           89,
           90,
           91,
           92,
           93,
           94,
           95,
           96,
           97,
           98,
           99
          ],
          "colorbar": {
           "title": {
            "text": "Trial"
           },
           "x": 1,
           "xpad": 40
          },
          "colorscale": [
           [
            0,
            "rgb(247,251,255)"
           ],
           [
            0.125,
            "rgb(222,235,247)"
           ],
           [
            0.25,
            "rgb(198,219,239)"
           ],
           [
            0.375,
            "rgb(158,202,225)"
           ],
           [
            0.5,
            "rgb(107,174,214)"
           ],
           [
            0.625,
            "rgb(66,146,198)"
           ],
           [
            0.75,
            "rgb(33,113,181)"
           ],
           [
            0.875,
            "rgb(8,81,156)"
           ],
           [
            1,
            "rgb(8,48,107)"
           ]
          ],
          "line": {
           "color": "Grey",
           "width": 0.5
          },
          "showscale": false
         },
         "mode": "markers",
         "showlegend": false,
         "type": "scatter",
         "x": [
          156,
          446,
          386,
          97,
          230,
          421,
          174,
          299,
          345,
          213,
          324,
          318,
          299,
          498,
          298,
          40,
          260,
          241,
          159,
          146,
          86,
          260,
          194,
          271,
          118,
          253,
          361,
          31,
          194,
          147,
          151,
          127,
          118,
          65,
          137,
          176,
          81,
          173,
          116,
          201,
          65,
          274,
          277,
          223,
          228,
          420,
          175,
          131,
          344,
          286,
          387,
          254,
          316,
          272,
          163,
          209,
          210,
          210,
          168,
          240,
          188,
          161,
          212,
          217,
          215,
          212,
          224,
          242,
          221,
          185,
          196,
          237,
          184,
          204,
          215,
          154,
          184,
          251,
          251,
          293,
          230,
          214,
          262,
          198,
          227,
          182,
          243,
          142,
          159,
          205,
          220,
          125,
          102,
          487,
          169,
          169,
          169,
          194,
          177,
          155
         ],
         "xaxis": "x3",
         "y": [
          0.8889603558038552,
          0.8896065503148924,
          0.8922749835236559,
          0.8859309018415747,
          0.8905728090297617,
          0.8904171965165667,
          0.8927268014807933,
          0.8953009926124939,
          0.8948280684366646,
          0.8924519615991853,
          0.8949769494195077,
          0.891749532209333,
          0.8922862212070134,
          0.8905761320084138,
          0.8950865931382194,
          0.8918347056766425,
          0.8956924828012784,
          0.8938063790245746,
          0.89720616909111,
          0.8129123266849139,
          0.8926479973318396,
          0.8963734274283496,
          0.8952485725799,
          0.894841555031468,
          0.8956599195139403,
          0.8950827715575551,
          0.8934366549373995,
          0.8879674626029831,
          0.8949260230720462,
          0.8958925851387107,
          0.8920790044147913,
          0.8982148411372156,
          0.8929448059182311,
          0.8919633143889374,
          0.8948132421934106,
          0.8945069035167738,
          0.8883044016317957,
          0.8929227741014135,
          0.8953246554102761,
          0.8938479055627657,
          0.881102631637733,
          0.8958065939411323,
          0.8959249120870175,
          0.8955909622193347,
          0.8947361053595324,
          0.891510484613614,
          0.8943780762299391,
          0.8946391574366704,
          0.8924738338526121,
          0.8950019449584576,
          0.8947355529394438,
          0.8950669104452611,
          0.8931679029962742,
          0.8967424202095614,
          0.8963968276441721,
          0.8980547968811317,
          0.8985887860072583,
          0.8926309535829337,
          0.8970391918561055,
          0.8912470758246518,
          0.8941080931466211,
          0.8984479883397937,
          0.9013347174113231,
          0.9000841424411737,
          0.9001691280129934,
          0.900561070780142,
          0.8983171847675595,
          0.8978713534691714,
          0.8938909840046746,
          0.899682960033432,
          0.8970811229571553,
          0.8976909377402731,
          0.8956333566697563,
          0.8972031224980238,
          0.8958922337762096,
          0.8960047171830862,
          0.8980919274529503,
          0.8991686321485368,
          0.895882537398893,
          0.8969767538610038,
          0.8935764406761968,
          0.8915307207132187,
          0.8958781204286819,
          0.8949250298147811,
          0.8981347947806912,
          0.8956952616853118,
          0.8938077497889387,
          0.8924336041495093,
          0.8925893864704241,
          0.8939207651630396,
          0.8912193956640369,
          0.8966733740931682,
          0.8219556501773702,
          0.8975384568770173,
          0.8988956820214128,
          0.8986197020983253,
          0.8949212912415228,
          0.8930610996445791,
          0.8968291400869791,
          0.8968129687104576
         ],
         "yaxis": "y3"
        }
       ],
       "layout": {
        "template": {
         "data": {
          "bar": [
           {
            "error_x": {
             "color": "#2a3f5f"
            },
            "error_y": {
             "color": "#2a3f5f"
            },
            "marker": {
             "line": {
              "color": "#E5ECF6",
              "width": 0.5
             },
             "pattern": {
              "fillmode": "overlay",
              "size": 10,
              "solidity": 0.2
             }
            },
            "type": "bar"
           }
          ],
          "barpolar": [
           {
            "marker": {
             "line": {
              "color": "#E5ECF6",
              "width": 0.5
             },
             "pattern": {
              "fillmode": "overlay",
              "size": 10,
              "solidity": 0.2
             }
            },
            "type": "barpolar"
           }
          ],
          "carpet": [
           {
            "aaxis": {
             "endlinecolor": "#2a3f5f",
             "gridcolor": "white",
             "linecolor": "white",
             "minorgridcolor": "white",
             "startlinecolor": "#2a3f5f"
            },
            "baxis": {
             "endlinecolor": "#2a3f5f",
             "gridcolor": "white",
             "linecolor": "white",
             "minorgridcolor": "white",
             "startlinecolor": "#2a3f5f"
            },
            "type": "carpet"
           }
          ],
          "choropleth": [
           {
            "colorbar": {
             "outlinewidth": 0,
             "ticks": ""
            },
            "type": "choropleth"
           }
          ],
          "contour": [
           {
            "colorbar": {
             "outlinewidth": 0,
             "ticks": ""
            },
            "colorscale": [
             [
              0,
              "#0d0887"
             ],
             [
              0.1111111111111111,
              "#46039f"
             ],
             [
              0.2222222222222222,
              "#7201a8"
             ],
             [
              0.3333333333333333,
              "#9c179e"
             ],
             [
              0.4444444444444444,
              "#bd3786"
             ],
             [
              0.5555555555555556,
              "#d8576b"
             ],
             [
              0.6666666666666666,
              "#ed7953"
             ],
             [
              0.7777777777777778,
              "#fb9f3a"
             ],
             [
              0.8888888888888888,
              "#fdca26"
             ],
             [
              1,
              "#f0f921"
             ]
            ],
            "type": "contour"
           }
          ],
          "contourcarpet": [
           {
            "colorbar": {
             "outlinewidth": 0,
             "ticks": ""
            },
            "type": "contourcarpet"
           }
          ],
          "heatmap": [
           {
            "colorbar": {
             "outlinewidth": 0,
             "ticks": ""
            },
            "colorscale": [
             [
              0,
              "#0d0887"
             ],
             [
              0.1111111111111111,
              "#46039f"
             ],
             [
              0.2222222222222222,
              "#7201a8"
             ],
             [
              0.3333333333333333,
              "#9c179e"
             ],
             [
              0.4444444444444444,
              "#bd3786"
             ],
             [
              0.5555555555555556,
              "#d8576b"
             ],
             [
              0.6666666666666666,
              "#ed7953"
             ],
             [
              0.7777777777777778,
              "#fb9f3a"
             ],
             [
              0.8888888888888888,
              "#fdca26"
             ],
             [
              1,
              "#f0f921"
             ]
            ],
            "type": "heatmap"
           }
          ],
          "heatmapgl": [
           {
            "colorbar": {
             "outlinewidth": 0,
             "ticks": ""
            },
            "colorscale": [
             [
              0,
              "#0d0887"
             ],
             [
              0.1111111111111111,
              "#46039f"
             ],
             [
              0.2222222222222222,
              "#7201a8"
             ],
             [
              0.3333333333333333,
              "#9c179e"
             ],
             [
              0.4444444444444444,
              "#bd3786"
             ],
             [
              0.5555555555555556,
              "#d8576b"
             ],
             [
              0.6666666666666666,
              "#ed7953"
             ],
             [
              0.7777777777777778,
              "#fb9f3a"
             ],
             [
              0.8888888888888888,
              "#fdca26"
             ],
             [
              1,
              "#f0f921"
             ]
            ],
            "type": "heatmapgl"
           }
          ],
          "histogram": [
           {
            "marker": {
             "pattern": {
              "fillmode": "overlay",
              "size": 10,
              "solidity": 0.2
             }
            },
            "type": "histogram"
           }
          ],
          "histogram2d": [
           {
            "colorbar": {
             "outlinewidth": 0,
             "ticks": ""
            },
            "colorscale": [
             [
              0,
              "#0d0887"
             ],
             [
              0.1111111111111111,
              "#46039f"
             ],
             [
              0.2222222222222222,
              "#7201a8"
             ],
             [
              0.3333333333333333,
              "#9c179e"
             ],
             [
              0.4444444444444444,
              "#bd3786"
             ],
             [
              0.5555555555555556,
              "#d8576b"
             ],
             [
              0.6666666666666666,
              "#ed7953"
             ],
             [
              0.7777777777777778,
              "#fb9f3a"
             ],
             [
              0.8888888888888888,
              "#fdca26"
             ],
             [
              1,
              "#f0f921"
             ]
            ],
            "type": "histogram2d"
           }
          ],
          "histogram2dcontour": [
           {
            "colorbar": {
             "outlinewidth": 0,
             "ticks": ""
            },
            "colorscale": [
             [
              0,
              "#0d0887"
             ],
             [
              0.1111111111111111,
              "#46039f"
             ],
             [
              0.2222222222222222,
              "#7201a8"
             ],
             [
              0.3333333333333333,
              "#9c179e"
             ],
             [
              0.4444444444444444,
              "#bd3786"
             ],
             [
              0.5555555555555556,
              "#d8576b"
             ],
             [
              0.6666666666666666,
              "#ed7953"
             ],
             [
              0.7777777777777778,
              "#fb9f3a"
             ],
             [
              0.8888888888888888,
              "#fdca26"
             ],
             [
              1,
              "#f0f921"
             ]
            ],
            "type": "histogram2dcontour"
           }
          ],
          "mesh3d": [
           {
            "colorbar": {
             "outlinewidth": 0,
             "ticks": ""
            },
            "type": "mesh3d"
           }
          ],
          "parcoords": [
           {
            "line": {
             "colorbar": {
              "outlinewidth": 0,
              "ticks": ""
             }
            },
            "type": "parcoords"
           }
          ],
          "pie": [
           {
            "automargin": true,
            "type": "pie"
           }
          ],
          "scatter": [
           {
            "fillpattern": {
             "fillmode": "overlay",
             "size": 10,
             "solidity": 0.2
            },
            "type": "scatter"
           }
          ],
          "scatter3d": [
           {
            "line": {
             "colorbar": {
              "outlinewidth": 0,
              "ticks": ""
             }
            },
            "marker": {
             "colorbar": {
              "outlinewidth": 0,
              "ticks": ""
             }
            },
            "type": "scatter3d"
           }
          ],
          "scattercarpet": [
           {
            "marker": {
             "colorbar": {
              "outlinewidth": 0,
              "ticks": ""
             }
            },
            "type": "scattercarpet"
           }
          ],
          "scattergeo": [
           {
            "marker": {
             "colorbar": {
              "outlinewidth": 0,
              "ticks": ""
             }
            },
            "type": "scattergeo"
           }
          ],
          "scattergl": [
           {
            "marker": {
             "colorbar": {
              "outlinewidth": 0,
              "ticks": ""
             }
            },
            "type": "scattergl"
           }
          ],
          "scattermapbox": [
           {
            "marker": {
             "colorbar": {
              "outlinewidth": 0,
              "ticks": ""
             }
            },
            "type": "scattermapbox"
           }
          ],
          "scatterpolar": [
           {
            "marker": {
             "colorbar": {
              "outlinewidth": 0,
              "ticks": ""
             }
            },
            "type": "scatterpolar"
           }
          ],
          "scatterpolargl": [
           {
            "marker": {
             "colorbar": {
              "outlinewidth": 0,
              "ticks": ""
             }
            },
            "type": "scatterpolargl"
           }
          ],
          "scatterternary": [
           {
            "marker": {
             "colorbar": {
              "outlinewidth": 0,
              "ticks": ""
             }
            },
            "type": "scatterternary"
           }
          ],
          "surface": [
           {
            "colorbar": {
             "outlinewidth": 0,
             "ticks": ""
            },
            "colorscale": [
             [
              0,
              "#0d0887"
             ],
             [
              0.1111111111111111,
              "#46039f"
             ],
             [
              0.2222222222222222,
              "#7201a8"
             ],
             [
              0.3333333333333333,
              "#9c179e"
             ],
             [
              0.4444444444444444,
              "#bd3786"
             ],
             [
              0.5555555555555556,
              "#d8576b"
             ],
             [
              0.6666666666666666,
              "#ed7953"
             ],
             [
              0.7777777777777778,
              "#fb9f3a"
             ],
             [
              0.8888888888888888,
              "#fdca26"
             ],
             [
              1,
              "#f0f921"
             ]
            ],
            "type": "surface"
           }
          ],
          "table": [
           {
            "cells": {
             "fill": {
              "color": "#EBF0F8"
             },
             "line": {
              "color": "white"
             }
            },
            "header": {
             "fill": {
              "color": "#C8D4E3"
             },
             "line": {
              "color": "white"
             }
            },
            "type": "table"
           }
          ]
         },
         "layout": {
          "annotationdefaults": {
           "arrowcolor": "#2a3f5f",
           "arrowhead": 0,
           "arrowwidth": 1
          },
          "autotypenumbers": "strict",
          "coloraxis": {
           "colorbar": {
            "outlinewidth": 0,
            "ticks": ""
           }
          },
          "colorscale": {
           "diverging": [
            [
             0,
             "#8e0152"
            ],
            [
             0.1,
             "#c51b7d"
            ],
            [
             0.2,
             "#de77ae"
            ],
            [
             0.3,
             "#f1b6da"
            ],
            [
             0.4,
             "#fde0ef"
            ],
            [
             0.5,
             "#f7f7f7"
            ],
            [
             0.6,
             "#e6f5d0"
            ],
            [
             0.7,
             "#b8e186"
            ],
            [
             0.8,
             "#7fbc41"
            ],
            [
             0.9,
             "#4d9221"
            ],
            [
             1,
             "#276419"
            ]
           ],
           "sequential": [
            [
             0,
             "#0d0887"
            ],
            [
             0.1111111111111111,
             "#46039f"
            ],
            [
             0.2222222222222222,
             "#7201a8"
            ],
            [
             0.3333333333333333,
             "#9c179e"
            ],
            [
             0.4444444444444444,
             "#bd3786"
            ],
            [
             0.5555555555555556,
             "#d8576b"
            ],
            [
             0.6666666666666666,
             "#ed7953"
            ],
            [
             0.7777777777777778,
             "#fb9f3a"
            ],
            [
             0.8888888888888888,
             "#fdca26"
            ],
            [
             1,
             "#f0f921"
            ]
           ],
           "sequentialminus": [
            [
             0,
             "#0d0887"
            ],
            [
             0.1111111111111111,
             "#46039f"
            ],
            [
             0.2222222222222222,
             "#7201a8"
            ],
            [
             0.3333333333333333,
             "#9c179e"
            ],
            [
             0.4444444444444444,
             "#bd3786"
            ],
            [
             0.5555555555555556,
             "#d8576b"
            ],
            [
             0.6666666666666666,
             "#ed7953"
            ],
            [
             0.7777777777777778,
             "#fb9f3a"
            ],
            [
             0.8888888888888888,
             "#fdca26"
            ],
            [
             1,
             "#f0f921"
            ]
           ]
          },
          "colorway": [
           "#636efa",
           "#EF553B",
           "#00cc96",
           "#ab63fa",
           "#FFA15A",
           "#19d3f3",
           "#FF6692",
           "#B6E880",
           "#FF97FF",
           "#FECB52"
          ],
          "font": {
           "color": "#2a3f5f"
          },
          "geo": {
           "bgcolor": "white",
           "lakecolor": "white",
           "landcolor": "#E5ECF6",
           "showlakes": true,
           "showland": true,
           "subunitcolor": "white"
          },
          "hoverlabel": {
           "align": "left"
          },
          "hovermode": "closest",
          "mapbox": {
           "style": "light"
          },
          "paper_bgcolor": "white",
          "plot_bgcolor": "#E5ECF6",
          "polar": {
           "angularaxis": {
            "gridcolor": "white",
            "linecolor": "white",
            "ticks": ""
           },
           "bgcolor": "#E5ECF6",
           "radialaxis": {
            "gridcolor": "white",
            "linecolor": "white",
            "ticks": ""
           }
          },
          "scene": {
           "xaxis": {
            "backgroundcolor": "#E5ECF6",
            "gridcolor": "white",
            "gridwidth": 2,
            "linecolor": "white",
            "showbackground": true,
            "ticks": "",
            "zerolinecolor": "white"
           },
           "yaxis": {
            "backgroundcolor": "#E5ECF6",
            "gridcolor": "white",
            "gridwidth": 2,
            "linecolor": "white",
            "showbackground": true,
            "ticks": "",
            "zerolinecolor": "white"
           },
           "zaxis": {
            "backgroundcolor": "#E5ECF6",
            "gridcolor": "white",
            "gridwidth": 2,
            "linecolor": "white",
            "showbackground": true,
            "ticks": "",
            "zerolinecolor": "white"
           }
          },
          "shapedefaults": {
           "line": {
            "color": "#2a3f5f"
           }
          },
          "ternary": {
           "aaxis": {
            "gridcolor": "white",
            "linecolor": "white",
            "ticks": ""
           },
           "baxis": {
            "gridcolor": "white",
            "linecolor": "white",
            "ticks": ""
           },
           "bgcolor": "#E5ECF6",
           "caxis": {
            "gridcolor": "white",
            "linecolor": "white",
            "ticks": ""
           }
          },
          "title": {
           "x": 0.05
          },
          "xaxis": {
           "automargin": true,
           "gridcolor": "white",
           "linecolor": "white",
           "ticks": "",
           "title": {
            "standoff": 15
           },
           "zerolinecolor": "white",
           "zerolinewidth": 2
          },
          "yaxis": {
           "automargin": true,
           "gridcolor": "white",
           "linecolor": "white",
           "ticks": "",
           "title": {
            "standoff": 15
           },
           "zerolinecolor": "white",
           "zerolinewidth": 2
          }
         }
        },
        "title": {
         "text": "Slice Plot"
        },
        "xaxis": {
         "anchor": "y",
         "domain": [
          0,
          0.2888888888888889
         ],
         "title": {
          "text": "learning_rate"
         }
        },
        "xaxis2": {
         "anchor": "y2",
         "domain": [
          0.35555555555555557,
          0.6444444444444445
         ],
         "title": {
          "text": "loss"
         }
        },
        "xaxis3": {
         "anchor": "y3",
         "domain": [
          0.7111111111111111,
          1
         ],
         "title": {
          "text": "n_estimators"
         }
        },
        "yaxis": {
         "anchor": "x",
         "domain": [
          0,
          1
         ],
         "title": {
          "text": "Objective Value"
         }
        },
        "yaxis2": {
         "anchor": "x2",
         "domain": [
          0,
          1
         ],
         "matches": "y",
         "showticklabels": false
        },
        "yaxis3": {
         "anchor": "x3",
         "domain": [
          0,
          1
         ],
         "matches": "y",
         "showticklabels": false
        }
       }
      }
     },
     "metadata": {},
     "output_type": "display_data"
    }
   ],
   "source": [
    "optuna.visualization.plot_slice(study_ab)"
   ]
  },
  {
   "cell_type": "code",
   "execution_count": 42,
   "metadata": {},
   "outputs": [
    {
     "name": "stderr",
     "output_type": "stream",
     "text": [
      "\u001b[32m[I 2022-11-23 15:02:37,736]\u001b[0m A new study created in memory with name: no-name-122f0fd3-d9f4-4671-8458-1cba634eea52\u001b[0m\n",
      "\u001b[33m[W 2022-11-23 15:02:37,741]\u001b[0m Trial 0 failed because of the following error: TypeError(\"'module' object is not callable\")\u001b[0m\n",
      "Traceback (most recent call last):\n",
      "  File \"c:\\Users\\DELL\\.conda\\envs\\sparsesensing\\lib\\site-packages\\optuna\\study\\_optimize.py\", line 196, in _run_trial\n",
      "    value_or_values = func(trial)\n",
      "  File \"C:\\Users\\DELL\\AppData\\Local\\Temp\\ipykernel_2208\\3922586605.py\", line 12, in objective\n",
      "    model = XGBRegressor(max_depth = x_max_depth,\n",
      "TypeError: 'module' object is not callable\n"
     ]
    },
    {
     "ename": "TypeError",
     "evalue": "'module' object is not callable",
     "output_type": "error",
     "traceback": [
      "\u001b[1;31m---------------------------------------------------------------------------\u001b[0m",
      "\u001b[1;31mTypeError\u001b[0m                                 Traceback (most recent call last)",
      "\u001b[1;32mc:\\Users\\DELL\\Desktop\\PG\\Sparse_Sensing\\4.Feature_selection.ipynb Célula: 23\u001b[0m in \u001b[0;36m<cell line: 32>\u001b[1;34m()\u001b[0m\n\u001b[0;32m     <a href='vscode-notebook-cell:/c%3A/Users/DELL/Desktop/PG/Sparse_Sensing/4.Feature_selection.ipynb#X54sZmlsZQ%3D%3D?line=27'>28</a>\u001b[0m     \u001b[39mreturn\u001b[39;00m score\n\u001b[0;32m     <a href='vscode-notebook-cell:/c%3A/Users/DELL/Desktop/PG/Sparse_Sensing/4.Feature_selection.ipynb#X54sZmlsZQ%3D%3D?line=30'>31</a>\u001b[0m study_xgbr\u001b[39m=\u001b[39m optuna\u001b[39m.\u001b[39mcreate_study(direction\u001b[39m=\u001b[39m\u001b[39m'\u001b[39m\u001b[39mmaximize\u001b[39m\u001b[39m'\u001b[39m)\n\u001b[1;32m---> <a href='vscode-notebook-cell:/c%3A/Users/DELL/Desktop/PG/Sparse_Sensing/4.Feature_selection.ipynb#X54sZmlsZQ%3D%3D?line=31'>32</a>\u001b[0m study_xgbr\u001b[39m.\u001b[39;49moptimize(objective, n_trials\u001b[39m=\u001b[39;49m\u001b[39m100\u001b[39;49m)\n\u001b[0;32m     <a href='vscode-notebook-cell:/c%3A/Users/DELL/Desktop/PG/Sparse_Sensing/4.Feature_selection.ipynb#X54sZmlsZQ%3D%3D?line=33'>34</a>\u001b[0m trial_xgbr\u001b[39m=\u001b[39m study_xgbr\u001b[39m.\u001b[39mbest_trial\n\u001b[0;32m     <a href='vscode-notebook-cell:/c%3A/Users/DELL/Desktop/PG/Sparse_Sensing/4.Feature_selection.ipynb#X54sZmlsZQ%3D%3D?line=35'>36</a>\u001b[0m \u001b[39mprint\u001b[39m(\u001b[39m'\u001b[39m\u001b[39mAccuracy: \u001b[39m\u001b[39m{}\u001b[39;00m\u001b[39m'\u001b[39m\u001b[39m.\u001b[39mformat(trial_xgbr\u001b[39m.\u001b[39mvalue))\n",
      "File \u001b[1;32mc:\\Users\\DELL\\.conda\\envs\\sparsesensing\\lib\\site-packages\\optuna\\study\\study.py:419\u001b[0m, in \u001b[0;36mStudy.optimize\u001b[1;34m(self, func, n_trials, timeout, n_jobs, catch, callbacks, gc_after_trial, show_progress_bar)\u001b[0m\n\u001b[0;32m    315\u001b[0m \u001b[39mdef\u001b[39;00m \u001b[39moptimize\u001b[39m(\n\u001b[0;32m    316\u001b[0m     \u001b[39mself\u001b[39m,\n\u001b[0;32m    317\u001b[0m     func: ObjectiveFuncType,\n\u001b[1;32m   (...)\u001b[0m\n\u001b[0;32m    324\u001b[0m     show_progress_bar: \u001b[39mbool\u001b[39m \u001b[39m=\u001b[39m \u001b[39mFalse\u001b[39;00m,\n\u001b[0;32m    325\u001b[0m ) \u001b[39m-\u001b[39m\u001b[39m>\u001b[39m \u001b[39mNone\u001b[39;00m:\n\u001b[0;32m    326\u001b[0m     \u001b[39m\"\"\"Optimize an objective function.\u001b[39;00m\n\u001b[0;32m    327\u001b[0m \n\u001b[0;32m    328\u001b[0m \u001b[39m    Optimization is done by choosing a suitable set of hyperparameter values from a given\u001b[39;00m\n\u001b[1;32m   (...)\u001b[0m\n\u001b[0;32m    416\u001b[0m \u001b[39m            If nested invocation of this method occurs.\u001b[39;00m\n\u001b[0;32m    417\u001b[0m \u001b[39m    \"\"\"\u001b[39;00m\n\u001b[1;32m--> 419\u001b[0m     _optimize(\n\u001b[0;32m    420\u001b[0m         study\u001b[39m=\u001b[39;49m\u001b[39mself\u001b[39;49m,\n\u001b[0;32m    421\u001b[0m         func\u001b[39m=\u001b[39;49mfunc,\n\u001b[0;32m    422\u001b[0m         n_trials\u001b[39m=\u001b[39;49mn_trials,\n\u001b[0;32m    423\u001b[0m         timeout\u001b[39m=\u001b[39;49mtimeout,\n\u001b[0;32m    424\u001b[0m         n_jobs\u001b[39m=\u001b[39;49mn_jobs,\n\u001b[0;32m    425\u001b[0m         catch\u001b[39m=\u001b[39;49mcatch,\n\u001b[0;32m    426\u001b[0m         callbacks\u001b[39m=\u001b[39;49mcallbacks,\n\u001b[0;32m    427\u001b[0m         gc_after_trial\u001b[39m=\u001b[39;49mgc_after_trial,\n\u001b[0;32m    428\u001b[0m         show_progress_bar\u001b[39m=\u001b[39;49mshow_progress_bar,\n\u001b[0;32m    429\u001b[0m     )\n",
      "File \u001b[1;32mc:\\Users\\DELL\\.conda\\envs\\sparsesensing\\lib\\site-packages\\optuna\\study\\_optimize.py:66\u001b[0m, in \u001b[0;36m_optimize\u001b[1;34m(study, func, n_trials, timeout, n_jobs, catch, callbacks, gc_after_trial, show_progress_bar)\u001b[0m\n\u001b[0;32m     64\u001b[0m \u001b[39mtry\u001b[39;00m:\n\u001b[0;32m     65\u001b[0m     \u001b[39mif\u001b[39;00m n_jobs \u001b[39m==\u001b[39m \u001b[39m1\u001b[39m:\n\u001b[1;32m---> 66\u001b[0m         _optimize_sequential(\n\u001b[0;32m     67\u001b[0m             study,\n\u001b[0;32m     68\u001b[0m             func,\n\u001b[0;32m     69\u001b[0m             n_trials,\n\u001b[0;32m     70\u001b[0m             timeout,\n\u001b[0;32m     71\u001b[0m             catch,\n\u001b[0;32m     72\u001b[0m             callbacks,\n\u001b[0;32m     73\u001b[0m             gc_after_trial,\n\u001b[0;32m     74\u001b[0m             reseed_sampler_rng\u001b[39m=\u001b[39;49m\u001b[39mFalse\u001b[39;49;00m,\n\u001b[0;32m     75\u001b[0m             time_start\u001b[39m=\u001b[39;49m\u001b[39mNone\u001b[39;49;00m,\n\u001b[0;32m     76\u001b[0m             progress_bar\u001b[39m=\u001b[39;49mprogress_bar,\n\u001b[0;32m     77\u001b[0m         )\n\u001b[0;32m     78\u001b[0m     \u001b[39melse\u001b[39;00m:\n\u001b[0;32m     79\u001b[0m         \u001b[39mif\u001b[39;00m n_jobs \u001b[39m==\u001b[39m \u001b[39m-\u001b[39m\u001b[39m1\u001b[39m:\n",
      "File \u001b[1;32mc:\\Users\\DELL\\.conda\\envs\\sparsesensing\\lib\\site-packages\\optuna\\study\\_optimize.py:160\u001b[0m, in \u001b[0;36m_optimize_sequential\u001b[1;34m(study, func, n_trials, timeout, catch, callbacks, gc_after_trial, reseed_sampler_rng, time_start, progress_bar)\u001b[0m\n\u001b[0;32m    157\u001b[0m         \u001b[39mbreak\u001b[39;00m\n\u001b[0;32m    159\u001b[0m \u001b[39mtry\u001b[39;00m:\n\u001b[1;32m--> 160\u001b[0m     frozen_trial \u001b[39m=\u001b[39m _run_trial(study, func, catch)\n\u001b[0;32m    161\u001b[0m \u001b[39mfinally\u001b[39;00m:\n\u001b[0;32m    162\u001b[0m     \u001b[39m# The following line mitigates memory problems that can be occurred in some\u001b[39;00m\n\u001b[0;32m    163\u001b[0m     \u001b[39m# environments (e.g., services that use computing containers such as CircleCI).\u001b[39;00m\n\u001b[0;32m    164\u001b[0m     \u001b[39m# Please refer to the following PR for further details:\u001b[39;00m\n\u001b[0;32m    165\u001b[0m     \u001b[39m# https://github.com/optuna/optuna/pull/325.\u001b[39;00m\n\u001b[0;32m    166\u001b[0m     \u001b[39mif\u001b[39;00m gc_after_trial:\n",
      "File \u001b[1;32mc:\\Users\\DELL\\.conda\\envs\\sparsesensing\\lib\\site-packages\\optuna\\study\\_optimize.py:234\u001b[0m, in \u001b[0;36m_run_trial\u001b[1;34m(study, func, catch)\u001b[0m\n\u001b[0;32m    227\u001b[0m         \u001b[39massert\u001b[39;00m \u001b[39mFalse\u001b[39;00m, \u001b[39m\"\u001b[39m\u001b[39mShould not reach.\u001b[39m\u001b[39m\"\u001b[39m\n\u001b[0;32m    229\u001b[0m \u001b[39mif\u001b[39;00m (\n\u001b[0;32m    230\u001b[0m     frozen_trial\u001b[39m.\u001b[39mstate \u001b[39m==\u001b[39m TrialState\u001b[39m.\u001b[39mFAIL\n\u001b[0;32m    231\u001b[0m     \u001b[39mand\u001b[39;00m func_err \u001b[39mis\u001b[39;00m \u001b[39mnot\u001b[39;00m \u001b[39mNone\u001b[39;00m\n\u001b[0;32m    232\u001b[0m     \u001b[39mand\u001b[39;00m \u001b[39mnot\u001b[39;00m \u001b[39misinstance\u001b[39m(func_err, catch)\n\u001b[0;32m    233\u001b[0m ):\n\u001b[1;32m--> 234\u001b[0m     \u001b[39mraise\u001b[39;00m func_err\n\u001b[0;32m    235\u001b[0m \u001b[39mreturn\u001b[39;00m frozen_trial\n",
      "File \u001b[1;32mc:\\Users\\DELL\\.conda\\envs\\sparsesensing\\lib\\site-packages\\optuna\\study\\_optimize.py:196\u001b[0m, in \u001b[0;36m_run_trial\u001b[1;34m(study, func, catch)\u001b[0m\n\u001b[0;32m    194\u001b[0m \u001b[39mwith\u001b[39;00m get_heartbeat_thread(trial\u001b[39m.\u001b[39m_trial_id, study\u001b[39m.\u001b[39m_storage):\n\u001b[0;32m    195\u001b[0m     \u001b[39mtry\u001b[39;00m:\n\u001b[1;32m--> 196\u001b[0m         value_or_values \u001b[39m=\u001b[39m func(trial)\n\u001b[0;32m    197\u001b[0m     \u001b[39mexcept\u001b[39;00m exceptions\u001b[39m.\u001b[39mTrialPruned \u001b[39mas\u001b[39;00m e:\n\u001b[0;32m    198\u001b[0m         \u001b[39m# TODO(mamu): Handle multi-objective cases.\u001b[39;00m\n\u001b[0;32m    199\u001b[0m         state \u001b[39m=\u001b[39m TrialState\u001b[39m.\u001b[39mPRUNED\n",
      "\u001b[1;32mc:\\Users\\DELL\\Desktop\\PG\\Sparse_Sensing\\4.Feature_selection.ipynb Célula: 23\u001b[0m in \u001b[0;36mobjective\u001b[1;34m(trial)\u001b[0m\n\u001b[0;32m      <a href='vscode-notebook-cell:/c%3A/Users/DELL/Desktop/PG/Sparse_Sensing/4.Feature_selection.ipynb#X54sZmlsZQ%3D%3D?line=8'>9</a>\u001b[0m x_colsample_bytree \u001b[39m=\u001b[39m trial\u001b[39m.\u001b[39msuggest_float(\u001b[39m\"\u001b[39m\u001b[39mbytree\u001b[39m\u001b[39m\"\u001b[39m,\u001b[39m0.1\u001b[39m,\u001b[39m0.9\u001b[39m)\n\u001b[0;32m     <a href='vscode-notebook-cell:/c%3A/Users/DELL/Desktop/PG/Sparse_Sensing/4.Feature_selection.ipynb#X54sZmlsZQ%3D%3D?line=9'>10</a>\u001b[0m x_min_child_weight \u001b[39m=\u001b[39m  trial\u001b[39m.\u001b[39msuggest_int(\u001b[39m\"\u001b[39m\u001b[39mmin_child_weight\u001b[39m\u001b[39m\"\u001b[39m,\u001b[39m4\u001b[39m,\u001b[39m12\u001b[39m)\n\u001b[1;32m---> <a href='vscode-notebook-cell:/c%3A/Users/DELL/Desktop/PG/Sparse_Sensing/4.Feature_selection.ipynb#X54sZmlsZQ%3D%3D?line=11'>12</a>\u001b[0m model \u001b[39m=\u001b[39m XGBRegressor(max_depth \u001b[39m=\u001b[39;49m x_max_depth,\n\u001b[0;32m     <a href='vscode-notebook-cell:/c%3A/Users/DELL/Desktop/PG/Sparse_Sensing/4.Feature_selection.ipynb#X54sZmlsZQ%3D%3D?line=12'>13</a>\u001b[0m                              learning_rate \u001b[39m=\u001b[39;49m x_learning_rate,\n\u001b[0;32m     <a href='vscode-notebook-cell:/c%3A/Users/DELL/Desktop/PG/Sparse_Sensing/4.Feature_selection.ipynb#X54sZmlsZQ%3D%3D?line=13'>14</a>\u001b[0m                              n_estimators \u001b[39m=\u001b[39;49m x_n_estimators,\n\u001b[0;32m     <a href='vscode-notebook-cell:/c%3A/Users/DELL/Desktop/PG/Sparse_Sensing/4.Feature_selection.ipynb#X54sZmlsZQ%3D%3D?line=14'>15</a>\u001b[0m                              colsample_bytree \u001b[39m=\u001b[39;49m x_colsample_bytree,\n\u001b[0;32m     <a href='vscode-notebook-cell:/c%3A/Users/DELL/Desktop/PG/Sparse_Sensing/4.Feature_selection.ipynb#X54sZmlsZQ%3D%3D?line=15'>16</a>\u001b[0m                              min_child_weight  \u001b[39m=\u001b[39;49mx_min_child_weight,\n\u001b[0;32m     <a href='vscode-notebook-cell:/c%3A/Users/DELL/Desktop/PG/Sparse_Sensing/4.Feature_selection.ipynb#X54sZmlsZQ%3D%3D?line=16'>17</a>\u001b[0m                              seed\u001b[39m=\u001b[39;49m\u001b[39m123\u001b[39;49m,\n\u001b[0;32m     <a href='vscode-notebook-cell:/c%3A/Users/DELL/Desktop/PG/Sparse_Sensing/4.Feature_selection.ipynb#X54sZmlsZQ%3D%3D?line=17'>18</a>\u001b[0m                              \n\u001b[0;32m     <a href='vscode-notebook-cell:/c%3A/Users/DELL/Desktop/PG/Sparse_Sensing/4.Feature_selection.ipynb#X54sZmlsZQ%3D%3D?line=18'>19</a>\u001b[0m                              random_state\u001b[39m=\u001b[39;49m\u001b[39m0\u001b[39;49m,\n\u001b[0;32m     <a href='vscode-notebook-cell:/c%3A/Users/DELL/Desktop/PG/Sparse_Sensing/4.Feature_selection.ipynb#X54sZmlsZQ%3D%3D?line=19'>20</a>\u001b[0m                              n_jobs\u001b[39m=\u001b[39;49m\u001b[39m-\u001b[39;49m\u001b[39m1\u001b[39;49m)\n\u001b[0;32m     <a href='vscode-notebook-cell:/c%3A/Users/DELL/Desktop/PG/Sparse_Sensing/4.Feature_selection.ipynb#X54sZmlsZQ%3D%3D?line=23'>24</a>\u001b[0m \u001b[39mreturn\u001b[39;00m score_method(model, trial)\n\u001b[0;32m     <a href='vscode-notebook-cell:/c%3A/Users/DELL/Desktop/PG/Sparse_Sensing/4.Feature_selection.ipynb#X54sZmlsZQ%3D%3D?line=24'>25</a>\u001b[0m model\u001b[39m.\u001b[39mfit(X_train_final,y_train_final)\n",
      "\u001b[1;31mTypeError\u001b[0m: 'module' object is not callable"
     ]
    }
   ],
   "source": [
    "import xgboost as XGBRegressor\n",
    "\n",
    "def objective(trial):\n",
    "    \n",
    "        \n",
    "    x_max_depth = trial.suggest_int(\"max_depth\",2,20)\n",
    "    x_learning_rate = trial.suggest_float(\"learning_rate\",0.01,0.1)\n",
    "    x_n_estimators = trial.suggest_int(\"n_estimators\", low=50, high=600, step=10)\n",
    "    x_colsample_bytree = trial.suggest_float(\"bytree\",0.1,0.9)\n",
    "    x_min_child_weight =  trial.suggest_int(\"min_child_weight\",4,12)\n",
    "    \n",
    "    model = XGBRegressor(max_depth = x_max_depth,\n",
    "                                 learning_rate = x_learning_rate,\n",
    "                                 n_estimators = x_n_estimators,\n",
    "                                 colsample_bytree = x_colsample_bytree,\n",
    "                                 min_child_weight  =x_min_child_weight,\n",
    "                                                                 \n",
    "                                 random_state=0,\n",
    "                                 n_jobs=-1)\n",
    "    \n",
    "    \n",
    "\n",
    "    return score_method(model, trial)\n",
    "    model.fit(X_train_final,y_train_final)\n",
    "    p=model.predict(X_test_final)\n",
    "    score= r2_score(y_test_final,p)\n",
    "    return score\n",
    "\n",
    "    \n",
    "study_xgbr= optuna.create_study(direction='maximize')\n",
    "study_xgbr.optimize(objective, n_trials=100)\n",
    "\n",
    "trial_xgbr= study_xgbr.best_trial\n",
    "\n",
    "print('Accuracy: {}'.format(trial_xgbr.value))\n",
    "print(\"Best hyperparameters: {}\".format(trial_xgbr.params))"
   ]
  }
 ],
 "metadata": {
  "kernelspec": {
   "display_name": "sparsesensing",
   "language": "python",
   "name": "sparsesensing"
  },
  "language_info": {
   "codemirror_mode": {
    "name": "ipython",
    "version": 3
   },
   "file_extension": ".py",
   "mimetype": "text/x-python",
   "name": "python",
   "nbconvert_exporter": "python",
   "pygments_lexer": "ipython3",
   "version": "3.10.4"
  },
  "orig_nbformat": 4
 },
 "nbformat": 4,
 "nbformat_minor": 2
}
